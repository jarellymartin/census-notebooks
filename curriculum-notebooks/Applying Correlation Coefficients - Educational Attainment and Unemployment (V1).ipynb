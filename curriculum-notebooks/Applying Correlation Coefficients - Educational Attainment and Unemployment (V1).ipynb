{
 "cells": [
  {
   "cell_type": "markdown",
   "metadata": {},
   "source": [
    "# Applying Correlation Coefficients - Educational Attainment and Unemployement \n",
    "\n",
    "---"
   ]
  },
  {
   "cell_type": "markdown",
   "metadata": {},
   "source": [
    "\n",
    "\n",
    "This notebook focuses on state and regional unemployment data for various education levels to\n",
    "create scatter plots and calculate correlation coefficients. \n",
    "\n",
    "---\n",
    "\n",
    "\n",
    "### Topics Covered\n",
    "- Educational attainment\n",
    "- Correlation coefficients\n",
    "- Influential points\n",
    "- Scatter plots\n",
    "\n",
    "### Table of Contents\n",
    "\n",
    "[Overwiew](#overwiew)<br>\n",
    "\n",
    "\n",
    "1 - [Why the Census](#1)<br>\n",
    "\n",
    "&nbsp;&nbsp;&nbsp;&nbsp;&nbsp;&nbsp; 1.1 - [How is the data used?](#s1.1)\n",
    "\n",
    "&nbsp;&nbsp;&nbsp;&nbsp;&nbsp;&nbsp; 1.2 - [Census and Congresional Represenation](#s1.2)\n",
    "\n",
    "2 - [Vocabulary](#2)<br>\n",
    "\n",
    "3 - [Part 1 - Consider the Data](#3)<br>\n",
    "\n",
    "4 - [Part 2 - Analyze the Data](#4)<br>\n",
    "\n",
    "&nbsp;&nbsp;&nbsp;&nbsp;&nbsp;&nbsp; 4.1 - [Strength of Association](#s4.1)\n",
    "\n",
    "&nbsp;&nbsp;&nbsp;&nbsp;&nbsp;&nbsp; 4.2 - [Correlation Coefficients](#s4.2)\n",
    "\n",
    "5 - [Part 3 - Create Your Own Scatter Plots](#5)<br>\n",
    "\n",
    "6 - [Part 4 - Draw Conclusions and Review Key Concepts](#6)<br>\n",
    "\n",
    "7 - [Bibliography](#7)<br>\n",
    "\n",
    "---"
   ]
  },
  {
   "cell_type": "markdown",
   "metadata": {},
   "source": [
    "## Overview <a id='overwiew'></a>\n",
    "\n",
    "In Part 1 of this lesson, you will analyze data about the educational attainment and unemployment in the United States. Later in Part 2, you will compare unemployment rates among people of different education levels and learn how to calculate correlation coefficients. Finally, in Part 3 you will create your own scatter plots to find correlation coefficients for your own data!"
   ]
  },
  {
   "cell_type": "markdown",
   "metadata": {},
   "source": [
    "---"
   ]
  },
  {
   "cell_type": "code",
   "execution_count": 16,
   "metadata": {},
   "outputs": [],
   "source": [
    "#Press 'Shift' + 'Enter' to run this code! It will help load graphs & charts that this lesson has!\n",
    "\n",
    "import numpy as np\n",
    "import pandas as pd\n",
    "import matplotlib.pyplot as plt\n",
    "from IPython.display import Image\n",
    "\n",
    "import sys\n",
    "sys.path.append(\"../\")\n",
    "from censusnotebooks import widgets, visualization"
   ]
  },
  {
   "cell_type": "markdown",
   "metadata": {},
   "source": [
    "**Tip**: When you're done reading each part of this lesson, press the **'Shift' + 'Enter' keys at the same time** to quickly move through each 'cell' and run the code! \n",
    "\n",
    "---"
   ]
  },
  {
   "cell_type": "markdown",
   "metadata": {},
   "source": [
    "# 1. Why the Census? <a id='1'></a>\n",
    "\n",
    "<div class=\"alert alert-info\">\n",
    "<b> Question:</b>\n",
    "<!--But before we dive in, let's answer a question you might have:--> Why are we learning about statistics through Census data? In fact, why do we even care about the Census in the first place?\n",
    "</div>"
   ]
  },
  {
   "cell_type": "markdown",
   "metadata": {},
   "source": [
    "Depending on how old you are, you might or might not have watched your family or guardian fill out a long form about a decade ago that had some specific, slightly invasive questions like: \n",
    "1. How many people live or stay in this house, apartment, or mobile home?\n",
    "2. What is the name of the person who owns this house, apartment, or mobile home?\n",
    "3. How old is the person who owns this house, apartment, or mobile home? When is his or her birthday?"
   ]
  },
  {
   "cell_type": "markdown",
   "metadata": {},
   "source": [
    "## 1.1 How is the Data Used?<a id='s1.1'></a>\n",
    "\n",
    "The census form is a way for the government to get a good idea as to **who** it is serving, which is: **YOU!** The government uses data it gets from this nation-wide Census to determine funding distributions across U.S. communities, as well as understand where community services are needed and how to implement them. Because of the Census, your neighborhood and city can improve education and transportation, promote public health, and use given money to make improvements. More services can be given to the elderly, new roads and schools can be built, and more job training centers can be maintained and established. *Everyone* benefits."
   ]
  },
  {
   "cell_type": "markdown",
   "metadata": {},
   "source": [
    "## 1.2 Census and Congresional Represenation <a id='s1.2'></a>\n",
    "\n",
    "The amount of representation that your state has changes within Congress (in the U.S. House of Representatives) every ten years, when the Census is distributed. The voices of those vouching for your state's well-being in Congress could change or stay the same. Additionally, the representative (or \"voice\") representing your community in local, state, and federal governments could change, because district lines are redrawn every time. Members of Congress, state legislators, and many county and municipal offices are elected by voters grouped into districts, and you could be voting for different people depending on how these lines are drawn. These representatives are your spokespeople - their job is to listen to your needs and support government policies that will help your community!  \n",
    "\n",
    "\n",
    "For more information, check out this document [here](https://www2.census.gov/programs-surveys/sis/resources/census101.pdf), designed to inform students like you on why the Census is so important! And for more reading on the confusing topic of re-districting, read [here](https://www.brennancenter.org/analysis/7-things-know-about-redistricting). \n",
    "\n",
    "---"
   ]
  },
  {
   "cell_type": "markdown",
   "metadata": {},
   "source": [
    "# 2. Vocabulary<a id='2'></a>\n",
    "\n",
    "Here are some terms that you will need to understand before moving on with the lesson. \n",
    "\n",
    "* **Correlation coefficient (r)** – a measure of the strength of a linear relationship between two variables,\n",
    "whose absolute value indicates a stronger association when closer to 1 and a weaker association when\n",
    "closer to 0; the negative or positive sign of the coefficient indicates the direction of the relationship\n",
    "* **Slope** – the rate of change in a linear model, or the amount by which a y value increases (for positive\n",
    "slopes) or decreases (for negative slopes) for every unit increase in an x value\n",
    "* **Line of best fit** – a straight line drawn through the center of a group of data points on a scatter plot,\n",
    "showing how closely the two variables on the scatter plot are associated\n",
    "* **Influential point** – a data point that significantly affects both the slope of the line of best fit and the\n",
    "correlation coefficient\n",
    "* **Scatter plot** – a graph in the coordinate plane that displays a set of bivariate data and can be used to\n",
    "determine how two variables are associated (e.g., to show associations between the heights and weights\n",
    "of a group of people)\n",
    "* **Strength of association** – a measure of how tightly points are clustered\n"
   ]
  },
  {
   "cell_type": "markdown",
   "metadata": {},
   "source": [
    "# 3. Part 1 - Consider the Data <a id='3'></a>\n",
    "\n",
    "Let's look at some data from the American Community Survey. The American Community Survey (ACS) is conducted monthly by the U.S. Census Bureau and is designed to show how communities change. Through asking questions to a sample of the population, it produces national data on more than 35 categories of information, such as education, income, housing, and employment.\n",
    "\n",
    "The following data is from the 2014 American Community Survey about the educational attainment and\n",
    "unemployment in the United States. You can see the entire data table [here](https://factfinder.census.gov/faces/tableservices/jsf/pages/productview.xhtml?src=bkmk), but we've done the work to extract the overall unemployment rate for each state and the unemployment rates for a specific education level.\n",
    "\n"
   ]
  },
  {
   "cell_type": "markdown",
   "metadata": {},
   "source": [
    "Run the code below to see the **unemployment** data table by pressing **'Shift' + 'Enter'**"
   ]
  },
  {
   "cell_type": "code",
   "execution_count": 17,
   "metadata": {},
   "outputs": [
    {
     "data": {
      "text/html": [
       "<div>\n",
       "<style scoped>\n",
       "    .dataframe tbody tr th:only-of-type {\n",
       "        vertical-align: middle;\n",
       "    }\n",
       "\n",
       "    .dataframe tbody tr th {\n",
       "        vertical-align: top;\n",
       "    }\n",
       "\n",
       "    .dataframe thead th {\n",
       "        text-align: right;\n",
       "    }\n",
       "</style>\n",
       "<table border=\"1\" class=\"dataframe\">\n",
       "  <thead>\n",
       "    <tr style=\"text-align: right;\">\n",
       "      <th></th>\n",
       "      <th>State</th>\n",
       "      <th>Overall(%)</th>\n",
       "      <th>Less Than High School Graduate (%)</th>\n",
       "      <th>High School Graduate or Equivalent (%)</th>\n",
       "      <th>Some College Eduation or Associate's Degree (%)</th>\n",
       "      <th>Bachelor's Degree or Higher (%)</th>\n",
       "    </tr>\n",
       "  </thead>\n",
       "  <tbody>\n",
       "    <tr>\n",
       "      <th>0</th>\n",
       "      <td>Alabama</td>\n",
       "      <td>6.9</td>\n",
       "      <td>13.7</td>\n",
       "      <td>8.9</td>\n",
       "      <td>6.6</td>\n",
       "      <td>3.1</td>\n",
       "    </tr>\n",
       "    <tr>\n",
       "      <th>1</th>\n",
       "      <td>Alaska</td>\n",
       "      <td>6.7</td>\n",
       "      <td>14.0</td>\n",
       "      <td>12.0</td>\n",
       "      <td>5.8</td>\n",
       "      <td>2.0</td>\n",
       "    </tr>\n",
       "    <tr>\n",
       "      <th>2</th>\n",
       "      <td>Arizona</td>\n",
       "      <td>6.7</td>\n",
       "      <td>10.7</td>\n",
       "      <td>9.0</td>\n",
       "      <td>6.7</td>\n",
       "      <td>3.6</td>\n",
       "    </tr>\n",
       "    <tr>\n",
       "      <th>3</th>\n",
       "      <td>Arkansas</td>\n",
       "      <td>5.7</td>\n",
       "      <td>10.6</td>\n",
       "      <td>7.6</td>\n",
       "      <td>5.2</td>\n",
       "      <td>2.2</td>\n",
       "    </tr>\n",
       "    <tr>\n",
       "      <th>4</th>\n",
       "      <td>California</td>\n",
       "      <td>7.1</td>\n",
       "      <td>10.1</td>\n",
       "      <td>9.3</td>\n",
       "      <td>7.5</td>\n",
       "      <td>4.4</td>\n",
       "    </tr>\n",
       "    <tr>\n",
       "      <th>5</th>\n",
       "      <td>Colorado</td>\n",
       "      <td>4.3</td>\n",
       "      <td>7.5</td>\n",
       "      <td>5.4</td>\n",
       "      <td>4.7</td>\n",
       "      <td>2.9</td>\n",
       "    </tr>\n",
       "    <tr>\n",
       "      <th>6</th>\n",
       "      <td>Connecticut</td>\n",
       "      <td>6.6</td>\n",
       "      <td>13.9</td>\n",
       "      <td>9.0</td>\n",
       "      <td>7.1</td>\n",
       "      <td>3.8</td>\n",
       "    </tr>\n",
       "    <tr>\n",
       "      <th>7</th>\n",
       "      <td>Delaware</td>\n",
       "      <td>5.8</td>\n",
       "      <td>9.5</td>\n",
       "      <td>8.4</td>\n",
       "      <td>6.2</td>\n",
       "      <td>2.6</td>\n",
       "    </tr>\n",
       "    <tr>\n",
       "      <th>8</th>\n",
       "      <td>District of Columbia</td>\n",
       "      <td>7.7</td>\n",
       "      <td>14.6</td>\n",
       "      <td>17.6</td>\n",
       "      <td>14.6</td>\n",
       "      <td>3.1</td>\n",
       "    </tr>\n",
       "    <tr>\n",
       "      <th>9</th>\n",
       "      <td>Florida</td>\n",
       "      <td>6.9</td>\n",
       "      <td>12.1</td>\n",
       "      <td>8.7</td>\n",
       "      <td>6.5</td>\n",
       "      <td>4.3</td>\n",
       "    </tr>\n",
       "  </tbody>\n",
       "</table>\n",
       "</div>"
      ],
      "text/plain": [
       "                  State Overall(%) Less Than High School Graduate (%)  \\\n",
       "0               Alabama        6.9                               13.7   \n",
       "1                Alaska        6.7                               14.0   \n",
       "2               Arizona        6.7                               10.7   \n",
       "3              Arkansas        5.7                               10.6   \n",
       "4            California        7.1                               10.1   \n",
       "5              Colorado        4.3                                7.5   \n",
       "6           Connecticut        6.6                               13.9   \n",
       "7              Delaware        5.8                                9.5   \n",
       "8  District of Columbia        7.7                               14.6   \n",
       "9               Florida        6.9                               12.1   \n",
       "\n",
       "  High School Graduate or Equivalent (%)  \\\n",
       "0                                    8.9   \n",
       "1                                   12.0   \n",
       "2                                    9.0   \n",
       "3                                    7.6   \n",
       "4                                    9.3   \n",
       "5                                    5.4   \n",
       "6                                    9.0   \n",
       "7                                    8.4   \n",
       "8                                   17.6   \n",
       "9                                    8.7   \n",
       "\n",
       "  Some College Eduation or Associate's Degree (%)  \\\n",
       "0                                             6.6   \n",
       "1                                             5.8   \n",
       "2                                             6.7   \n",
       "3                                             5.2   \n",
       "4                                             7.5   \n",
       "5                                             4.7   \n",
       "6                                             7.1   \n",
       "7                                             6.2   \n",
       "8                                            14.6   \n",
       "9                                             6.5   \n",
       "\n",
       "  Bachelor's Degree or Higher (%)  \n",
       "0                             3.1  \n",
       "1                             2.0  \n",
       "2                             3.6  \n",
       "3                             2.2  \n",
       "4                             4.4  \n",
       "5                             2.9  \n",
       "6                             3.8  \n",
       "7                             2.6  \n",
       "8                             3.1  \n",
       "9                             4.3  "
      ]
     },
     "execution_count": 17,
     "metadata": {},
     "output_type": "execute_result"
    }
   ],
   "source": [
    "data = {'State':['Alabama', 'Alaska', 'Arizona', 'Arkansas', 'California', 'Colorado', 'Connecticut', 'Delaware', 'District of Columbia', 'Florida', 'Georgia', 'Hawaii', 'Idaho', 'Illinois', 'Indiana','Iowa', 'Kansas', 'Kentucky', 'Louisiana', 'Maine', 'Maryland',\n",
    "       'Massachusetts', 'Michigan', 'Minnesota', 'Mississippi','Missouri', 'Montana', 'Nebraska', 'Nevada', 'New Hampshire', 'New Jersey', 'New Mexico', 'New York', 'North Carolina','North Dakota', 'Ohio', 'Oklahoma', 'Oregon', 'Pennsylvania',\n",
    "       'Rhode Island', 'South Carolina', 'South Dakota', 'Tennessee','Texas', 'Utah', 'Vermont', 'Virginia', 'Washington','West Virginia', 'Wisconsin', 'Wyoming', 'Puerto Rico'], \"Overall(%)\": ['6.9', '6.7', '6.7', '5.7', '7.1', '4.3', '6.6', '5.8', '7.7',\n",
    "       '6.9', '6.6', '4.4', '4.5', '6.7', '5.7', '3.4', '4.2', '6.3', '6.0', '5.0', '6.0', '5.8', '6.8', '3.8', '7.7', '5.7', '4.0','3.2', '7.7', '4.3', '6.4', '7.3', '6.0', '6.7', '2.4', '5.8', '4.5', '6.7', '5.7', '6.6', '6.5', '3.0', '6.3', '4.8', '3.9', '4.7', '4.8', '5.1', '5.8', '4.5', '3.9', '15.2'], \"Less Than High School Graduate (%)\":['13.7', '14.0', '10.7', '10.6', '10.1', '7.5', '13.9', '9.5','14.6', '12.1', '12.1', '9.0', '8.9', '12.4', '11.9', '9.5', '8.3','13.7', '12.4', '11.1', '12.7', '11.9', '16.8', '9.4', '17.3',\n",
    "       '14.3', '10.0', '8.4', '9.8', '8.3', '10.4', '13.6', '10.2', '13.2', '7.8', '15.5', '9.2', '13.7', '13.1', '12.5', '16.2','8.6', '14.3', '6.5', '5.7', '12.0', '9.3', '9.0', '13.1', '10.5','12.8', '30.3'], \"High School Graduate or Equivalent (%)\":['8.9', '12.0', '9.0', '7.6', '9.3', '5.4', '9.0', '8.4', '17.6', '8.7', '8.4', '6.0', '5.6', '9.1', '7.4', '4.8', '5.9', '7.9', '6.6', '7.0', '8.1', '8.6', '9.1', '5.6', '9.3', '7.5', '5.8', '4.5', '9.4', '6.2', '8.6', '9.1', '7.8', '9.1', '3.2', '7.0','5.5', '8.5', '7.0', '9.7', '8.3', '3.8', '8.0', '6.2', '6.1',\n",
    "       '7.2', '6.2', '6.3', '7.0', '5.5', '4.5', '20.3'],  \"Some College Eduation or Associate's Degree (%)\":  ['6.6', '5.8', '6.7', '5.2', '7.5', '4.7', '7.1', '6.2', '14.6', '6.5', '7.1', '4.7', '4.4', '7.3', '5.5', '3.2', '4.3', '5.8','5.8', '5.2', '6.6', '6.6', '6.7', '3.6', '7.1', '5.6', '4.1','2.8', '7.4', '4.5', '7.0', '7.4', '6.4', '6.5', '2.2', '5.9',\n",
    "       '4.4', '6.6', '6.0', '6.5', '5.9', '2.9', '5.5', '4.9', '3.9', '4.9', '5.3', '5.3', '5.9', '4.6', '3.3', '14.3'], \"Bachelor's Degree or Higher (%)\": ['3.1', '2.0', '3.6', '2.2', '4.4', '2.9', '3.8', '2.6', '3.1','4.3', '3.4', '2.2', '2.4', '3.5', '2.5', '1.4', '2.1', '3.1', '3.2', '2.3', '3.4', '3.3', '3.4', '2.2', '3.1', '2.8', '1.6', '1.8', '4.9', '2.5', '4.1', '3.1', '3.7', '3.4', '1.4', '2.6',\n",
    "       '2.0', '4.0', '3.1', '3.0', '2.7', '1.6', '3.2', '3.0', '2.0','1.9', '3.1', '3.5', '2.3', '2.4', '2.4', '8.0'] } \n",
    "unemployment = pd.DataFrame(data)\n",
    "unemployment.head(10)"
   ]
  },
  {
   "cell_type": "markdown",
   "metadata": {},
   "source": [
    "<div class=\"alert alert-info\">  \n",
    "    <strong>3.1</strong> What is one thing you notice? Which data values catch your attention?\n",
    "</div>\n"
   ]
  },
  {
   "cell_type": "markdown",
   "metadata": {},
   "source": [
    "**Your answer:** Type your answer here"
   ]
  },
  {
   "cell_type": "markdown",
   "metadata": {},
   "source": [
    "<div class=\"alert alert-info\">  \n",
    "    <strong>3.2</strong> Write one question about the data that you could investigate?\n",
    "</div>"
   ]
  },
  {
   "cell_type": "markdown",
   "metadata": {},
   "source": [
    "**Your answer:** Type your answer here\n",
    "\n"
   ]
  },
  {
   "cell_type": "markdown",
   "metadata": {},
   "source": [
    "---\n",
    "**Congratulations!** You just finished Part 1 of this lesson! Make sure to click 'File', then 'Save and Checkpoint' in the upper left-hand corner to save all the hard work you've done!\n"
   ]
  },
  {
   "cell_type": "markdown",
   "metadata": {},
   "source": [
    "# 4. Part 2 - Analyze the Data <a id='4'></a>\n",
    "\n",
    "\n",
    "## 4.1 Strength of Association <a id='s4.1'></a> \n",
    "\n",
    "In Part 2, you will analyze the **unemployment** data table. First, let's look at the following graphs that compare unemployment rates among people of different education levels with their overall\n",
    "unemployment rate in 2014. \n",
    "\n",
    "Make sure that you are paying close attention to the **strength of association** between the scatter plots. *Tip:* If you forget what this is revisit the vocabulary section!"
   ]
  },
  {
   "cell_type": "code",
   "execution_count": 18,
   "metadata": {},
   "outputs": [
    {
     "data": {
      "text/plain": [
       "Text(0, 0.5, 'Less Than High School Graduate (%)')"
      ]
     },
     "execution_count": 18,
     "metadata": {},
     "output_type": "execute_result"
    },
    {
     "data": {
      "image/png": "[encoded data removed]",
      "text/plain": [
       "<Figure size 432x288 with 1 Axes>"
      ]
     },
     "metadata": {
      "needs_background": "light"
     },
     "output_type": "display_data"
    }
   ],
   "source": [
    "#Run this code to see a graph by pressing 'Shift' + 'Enter'\n",
    "\n",
    "plt.scatter(unemployment[\"Overall(%)\"],\n",
    "            unemployment[\"Less Than High School Graduate (%)\"],s=10)\n",
    "\n",
    "plt.xticks(np.arange(0, 30, step=3))\n",
    "plt.yticks(np.arange(0, 40, step=3))\n",
    "plt.title(\"Unemployment Rates: Overall vs. Less Than High School Graduate\")\n",
    "plt.xlabel(\"Overall (%)\")\n",
    "plt.ylabel(\"Less Than High School Graduate (%)\")"
   ]
  },
  {
   "cell_type": "code",
   "execution_count": 19,
   "metadata": {},
   "outputs": [
    {
     "data": {
      "text/plain": [
       "Text(0, 0.5, 'High School Graduate or Equivalent (%)')"
      ]
     },
     "execution_count": 19,
     "metadata": {},
     "output_type": "execute_result"
    },
    {
     "data": {
      "image/png": "[encoded data removed]",
      "text/plain": [
       "<Figure size 432x288 with 1 Axes>"
      ]
     },
     "metadata": {
      "needs_background": "light"
     },
     "output_type": "display_data"
    }
   ],
   "source": [
    "#Run this code to see a graph by pressing 'Shift' + 'Enter'\n",
    "\n",
    "plt.scatter(unemployment[\"Overall(%)\"],\n",
    "            unemployment[\"High School Graduate or Equivalent (%)\"],s=10)\n",
    "\n",
    "plt.xticks(np.arange(0, 30, step=3))\n",
    "plt.yticks(np.arange(0, 40, step=3))\n",
    "plt.title(\"Unemployment Rates: Overall vs. High School Graduate or Equivalent\")\n",
    "plt.xlabel(\"Overall (%)\")\n",
    "plt.ylabel(\"High School Graduate or Equivalent (%)\")\n",
    "\n"
   ]
  },
  {
   "cell_type": "code",
   "execution_count": 20,
   "metadata": {},
   "outputs": [
    {
     "data": {
      "text/plain": [
       "Text(0, 0.5, \"Some College Eduation or Associate's Degree\")"
      ]
     },
     "execution_count": 20,
     "metadata": {},
     "output_type": "execute_result"
    },
    {
     "data": {
      "image/png": "[encoded data removed]",
      "text/plain": [
       "<Figure size 432x288 with 1 Axes>"
      ]
     },
     "metadata": {
      "needs_background": "light"
     },
     "output_type": "display_data"
    }
   ],
   "source": [
    "#Run this code to see a graph by pressing 'Shift' + 'Enter'\n",
    "\n",
    "plt.scatter((unemployment[\"Overall(%)\"]),\n",
    "            unemployment[\"Some College Eduation or Associate's Degree (%)\"],s=10)\n",
    "\n",
    "plt.xticks(np.arange(0,30, step=3))\n",
    "plt.yticks(np.arange(0,40, step=3))\n",
    "plt.title(\"Unemployment Rates: Overall vs. Some College Eduation or Associate's Degree\")\n",
    "plt.xlabel(\"Overall(%)\")\n",
    "plt.ylabel(\"Some College Eduation or Associate's Degree\")"
   ]
  },
  {
   "cell_type": "code",
   "execution_count": 21,
   "metadata": {},
   "outputs": [
    {
     "data": {
      "text/plain": [
       "Text(0, 0.5, \"Some College Eduation or Associate's Degree\")"
      ]
     },
     "execution_count": 21,
     "metadata": {},
     "output_type": "execute_result"
    },
    {
     "data": {
      "image/png": "[encoded data removed]",
      "text/plain": [
       "<Figure size 432x288 with 1 Axes>"
      ]
     },
     "metadata": {
      "needs_background": "light"
     },
     "output_type": "display_data"
    }
   ],
   "source": [
    "#Run this code to see a graph by pressing 'Shift' + 'Enter'\n",
    "\n",
    "plt.scatter((unemployment[\"Overall(%)\"]),\n",
    "            unemployment[\"Bachelor's Degree or Higher (%)\"],s=10)\n",
    "\n",
    "plt.xticks(np.arange(0, 30, step=3))\n",
    "plt.yticks(np.arange(0, 30, step=3))\n",
    "plt.title(\"Unemployment Rates: Overall vs. Bachelor's Degree or Higher\")\n",
    "plt.xlabel(\"Overall(%)\")\n",
    "plt.ylabel(\"Some College Eduation or Associate's Degree\")"
   ]
  },
  {
   "cell_type": "markdown",
   "metadata": {},
   "source": [
    "<div class=\"alert alert-info\">  \n",
    "    <strong>4.1.1</strong> Which two education levels’ unemployment rates appear to be most strongly associated with the\n",
    "overall unemployment rates in a division? Explain.\n",
    "</div>"
   ]
  },
  {
   "cell_type": "markdown",
   "metadata": {},
   "source": [
    "**Your answer:** Type your answer here"
   ]
  },
  {
   "cell_type": "markdown",
   "metadata": {},
   "source": [
    "<div class=\"alert alert-info\">  \n",
    "    <strong>4.1.2</strong> Which education level’s unemployment rates appear to be least strongly associated with the overall\n",
    "unemployment rates in a division? Explain.\n",
    "</div>"
   ]
  },
  {
   "cell_type": "markdown",
   "metadata": {},
   "source": [
    "**Your answer:** Type your answer here"
   ]
  },
  {
   "cell_type": "markdown",
   "metadata": {},
   "source": [
    "<div class=\"alert alert-info\">  \n",
    "    <strong>4.1.3</strong> The correlation coefficient is a measure of the strength of the linear relationship between two variables. The closer the correlation coefficient is to 0, the weaker the linear relationship. With this in mind, match each of the following correlation coefficients with the correct scatter plot from earlier. (<em>Note:</em> Your answers for the highest two coefficients can be interchangeable.)\n",
    "</div>\n"
   ]
  },
  {
   "cell_type": "markdown",
   "metadata": {},
   "source": [
    "* 0.54: \n",
    "* 0.81:\n",
    "* 0.94: \n",
    "* 0.95: \n",
    "\n",
    "---"
   ]
  },
  {
   "cell_type": "markdown",
   "metadata": {},
   "source": [
    "## 4.2 Correlation Coefficients <a id='s4.2'></a> \n"
   ]
  },
  {
   "cell_type": "markdown",
   "metadata": {},
   "source": [
    "Correlation coefficients are represented by $r$, which are calculated using this formula:\n",
    "\n",
    "$$ r = \\frac{\\sum_{i=1}^n[(x_i - \\bar{x})(y_i - \\bar{y})]}{\\sqrt{\\sum_{i=1}^n (x_i - \\bar{x})^2}\\sqrt{\\sum_{i=1}^n (y_i - \\bar{y})^2}}$$\n",
    "\n",
    "Here $n$ represents the number of data pairs, $x_i$ and $y_i$ are the specific data points, $\\bar{x}$ and $\\bar{y}$ are the means of the $x$ and $y$ values. $\\sum_{i=1}^n$ finds the sum of everything for the first pair $(i = 1)$ through the last $(i = n)$. We will be using this formula to find the correlation coefficients for the data below. \n"
   ]
  },
  {
   "cell_type": "markdown",
   "metadata": {},
   "source": [
    "We will use the **regions** data table below — on unemployment rates overall and for people with some college education or an associate’s degree in the four main regions (Northeast, Midwest, South, and West) identified by the Census Bureau — to complete the calculations table that follows."
   ]
  },
  {
   "cell_type": "code",
   "execution_count": 22,
   "metadata": {},
   "outputs": [
    {
     "data": {
      "text/html": [
       "<div>\n",
       "<style scoped>\n",
       "    .dataframe tbody tr th:only-of-type {\n",
       "        vertical-align: middle;\n",
       "    }\n",
       "\n",
       "    .dataframe tbody tr th {\n",
       "        vertical-align: top;\n",
       "    }\n",
       "\n",
       "    .dataframe thead th {\n",
       "        text-align: right;\n",
       "    }\n",
       "</style>\n",
       "<table border=\"1\" class=\"dataframe\">\n",
       "  <thead>\n",
       "    <tr style=\"text-align: right;\">\n",
       "      <th></th>\n",
       "      <th>Region</th>\n",
       "      <th>Overall (%)</th>\n",
       "      <th>Some College Education or Associate's Degree (%)</th>\n",
       "    </tr>\n",
       "  </thead>\n",
       "  <tbody>\n",
       "    <tr>\n",
       "      <th>0</th>\n",
       "      <td>Northeast</td>\n",
       "      <td>5.9</td>\n",
       "      <td>6.4</td>\n",
       "    </tr>\n",
       "    <tr>\n",
       "      <th>1</th>\n",
       "      <td>Midwest</td>\n",
       "      <td>5.5</td>\n",
       "      <td>5.5</td>\n",
       "    </tr>\n",
       "    <tr>\n",
       "      <th>2</th>\n",
       "      <td>South</td>\n",
       "      <td>6.0</td>\n",
       "      <td>5.9</td>\n",
       "    </tr>\n",
       "    <tr>\n",
       "      <th>3</th>\n",
       "      <td>West</td>\n",
       "      <td>6.4</td>\n",
       "      <td>6.5</td>\n",
       "    </tr>\n",
       "  </tbody>\n",
       "</table>\n",
       "</div>"
      ],
      "text/plain": [
       "      Region  Overall (%)  Some College Education or Associate's Degree (%)\n",
       "0  Northeast          5.9                                               6.4\n",
       "1    Midwest          5.5                                               5.5\n",
       "2      South          6.0                                               5.9\n",
       "3       West          6.4                                               6.5"
      ]
     },
     "execution_count": 22,
     "metadata": {},
     "output_type": "execute_result"
    }
   ],
   "source": [
    "#Run this code by pressing 'Shift' + 'Enter'\n",
    "\n",
    "data= {'Region': [\"Northeast\", \"Midwest\", \"South\", \"West\"], \n",
    "       'Overall (%)': [5.9, 5.5, 6.0, 6.4], \n",
    "      \"Some College Education or Associate's Degree (%)\":  [6.4, 5.5, 5.9, 6.5]}\n",
    "\n",
    "regions = pd.DataFrame(data)\n",
    "regions"
   ]
  },
  {
   "cell_type": "markdown",
   "metadata": {},
   "source": [
    "<div class=\"alert alert-info\">  \n",
    "    <strong>4.2.1</strong> We find the mean of the x values represented by $\\bar{x}$. <em>Note:</em> the x values are the 'Overall (%)' column in the <strong>regions</strong> table.\n",
    "    </div>"
   ]
  },
  {
   "cell_type": "code",
   "execution_count": 23,
   "metadata": {},
   "outputs": [
    {
     "data": {
      "text/plain": [
       "5.949999999999999"
      ]
     },
     "execution_count": 23,
     "metadata": {},
     "output_type": "execute_result"
    }
   ],
   "source": [
    "#Run this code to see a table by pressing 'Shift' + 'Enter'\n",
    "\n",
    "x_bar = regions['Overall (%)'].mean()\n",
    "x_bar"
   ]
  },
  {
   "cell_type": "markdown",
   "metadata": {},
   "source": [
    "<div class=\"alert alert-info\"> \n",
    "    <strong>4.2.2</strong> We find the mean of the y values represented by $\\bar{y}$. <em>Note:</em> the y values are the 'Some College Education or Associate's Degree (%)' column in the <strong>regions</strong> table.\n",
    "      </div>"
   ]
  },
  {
   "cell_type": "code",
   "execution_count": 24,
   "metadata": {},
   "outputs": [
    {
     "data": {
      "text/plain": [
       "6.075"
      ]
     },
     "execution_count": 24,
     "metadata": {},
     "output_type": "execute_result"
    }
   ],
   "source": [
    "#Run this code by pressing 'Shift' + 'Enter'\n",
    "\n",
    "y_bar = regions[\"Some College Education or Associate's Degree (%)\"].mean()\n",
    "y_bar"
   ]
  },
  {
   "cell_type": "markdown",
   "metadata": {},
   "source": [
    "<div class=\"alert alert-info\"> \n",
    "<strong>4.2.3</strong> Now that we have found both $\\bar{x}$ and $\\bar{y}$ let's complete the rest of the calculations needed to find the correlation coeffcient. The remaining calculations are found in the <strong>Calculations Table for Correlation Coefficients</strong> below. <em>Note:</em> we will be using the <strong>round</strong> function to round our answers to two decimal\n",
    "places or to four decimal places.\n",
    "    </div>"
   ]
  },
  {
   "cell_type": "markdown",
   "metadata": {},
   "source": [
    "| $x_i$| $y_i$|$x_i - \\bar{x}$|$y_i-\\bar{y}$|$(x_i-\\bar{x})*(y_i - \\bar{y})$|$(x_i-\\bar{x})^2$|$(y_i-\\bar{y})^2$|\n",
    "|------|------|---------------|-------------|------------------------------|-----------------|-----------------|\n",
    "|  5.9 | 6.4  |  ?????????    |  ?????????  | ???????????????????                    | ?????????       | ?????????       |\n",
    "|  5.5 | 5.5  | ?????????     |  ?????????  | ??????????????????                    | ?????????       | ?????????       |\n",
    "|  6.0 | 5.9  | ?????????     |  ?????????  | ??????????????????                    | ?????????       | ?????????       |\n",
    "|  6.4 | 6.5  | ?????????     |  ?????????  | ??????????????????                    | ?????????       | ?????????       |\n",
    "\n",
    "\n",
    "\n"
   ]
  },
  {
   "cell_type": "markdown",
   "metadata": {},
   "source": [
    "<div class=\"alert alert-info\"> \n",
    "    <strong>4.2.4</strong> The following calculations are for the first row of our table where $x_i = 5.9$ and $y_i=6.4$.\n",
    "  </div>"
   ]
  },
  {
   "cell_type": "code",
   "execution_count": 25,
   "metadata": {},
   "outputs": [
    {
     "data": {
      "text/plain": [
       "-0.05"
      ]
     },
     "execution_count": 25,
     "metadata": {},
     "output_type": "execute_result"
    }
   ],
   "source": [
    "#Run this code by pressing 'Shift' + 'Enter'\n",
    "\n",
    "# Calculates x_i - x_bar and rounds to two decimal places\n",
    "round(5.9-x_bar,2)"
   ]
  },
  {
   "cell_type": "code",
   "execution_count": 26,
   "metadata": {},
   "outputs": [
    {
     "data": {
      "text/plain": [
       "0.33"
      ]
     },
     "execution_count": 26,
     "metadata": {},
     "output_type": "execute_result"
    }
   ],
   "source": [
    "#Run this code by pressing 'Shift' + 'Enter'\n",
    "\n",
    "# Calculates y_i - y_bar and rounds to two decimal places\n",
    "round(6.4- y_bar, 2)"
   ]
  },
  {
   "cell_type": "code",
   "execution_count": 27,
   "metadata": {},
   "outputs": [
    {
     "data": {
      "text/plain": [
       "-0.0162"
      ]
     },
     "execution_count": 27,
     "metadata": {},
     "output_type": "execute_result"
    }
   ],
   "source": [
    "#Run this code by pressing 'Shift' + 'Enter'\n",
    "\n",
    "# Calculates (x_i - x_bar)*(y_i - y_bar) and rounds to four decimal places\n",
    "round((5.9-x_bar)*(6.4 - y_bar),4)"
   ]
  },
  {
   "cell_type": "code",
   "execution_count": 28,
   "metadata": {},
   "outputs": [
    {
     "data": {
      "text/plain": [
       "0.0025"
      ]
     },
     "execution_count": 28,
     "metadata": {},
     "output_type": "execute_result"
    }
   ],
   "source": [
    "#Run this code by pressing 'Shift' + 'Enter'\n",
    "\n",
    "# Calculates (x_i - x_bar)**2 and rounds to four decimal places\n",
    "round((5.9-x_bar)*(5.9-x_bar), 4)"
   ]
  },
  {
   "cell_type": "code",
   "execution_count": 29,
   "metadata": {},
   "outputs": [
    {
     "data": {
      "text/plain": [
       "0.1056"
      ]
     },
     "execution_count": 29,
     "metadata": {},
     "output_type": "execute_result"
    }
   ],
   "source": [
    "#Run this code by pressing 'Shift' + 'Enter'\n",
    "\n",
    "# Calculates (y_i - y_bar)**2 and rounds to four decimal places\n",
    "round((6.4 - y_bar)*(6.4 - y_bar),4)"
   ]
  },
  {
   "cell_type": "markdown",
   "metadata": {},
   "source": [
    "<div class=\"alert alert-info\"> \n",
    "    <strong>4.2.5</strong> The following calculations are for the second row of our table where $x_i = 5.5$ and $y_i=5.5$.\n",
    "  </div>"
   ]
  },
  {
   "cell_type": "code",
   "execution_count": 30,
   "metadata": {},
   "outputs": [
    {
     "data": {
      "text/plain": [
       "-0.45"
      ]
     },
     "execution_count": 30,
     "metadata": {},
     "output_type": "execute_result"
    }
   ],
   "source": [
    "#Run this code by pressing 'Shift' + 'Enter'\n",
    "\n",
    "# Calculates x_i - x_bar and rounds to two decimal places\n",
    "round(5.5-x_bar,2)\n"
   ]
  },
  {
   "cell_type": "code",
   "execution_count": 31,
   "metadata": {},
   "outputs": [
    {
     "data": {
      "text/plain": [
       "-0.58"
      ]
     },
     "execution_count": 31,
     "metadata": {},
     "output_type": "execute_result"
    }
   ],
   "source": [
    "#Run this code by pressing 'Shift' + 'Enter'\n",
    "\n",
    "# Calculates y_i - y_bar and rounds to two decimal places\n",
    "round(5.5-y_bar,2)"
   ]
  },
  {
   "cell_type": "code",
   "execution_count": 32,
   "metadata": {},
   "outputs": [
    {
     "data": {
      "text/plain": [
       "0.2587"
      ]
     },
     "execution_count": 32,
     "metadata": {},
     "output_type": "execute_result"
    }
   ],
   "source": [
    "#Run this code by pressing 'Shift' + 'Enter'\n",
    "\n",
    "# Calculates (x_i - x_bar)*(y_i - y_bar) and rounds to four decimal places\n",
    "round((5.5-x_bar)*(5.5-y_bar),4)"
   ]
  },
  {
   "cell_type": "code",
   "execution_count": 33,
   "metadata": {},
   "outputs": [
    {
     "data": {
      "text/plain": [
       "0.2025"
      ]
     },
     "execution_count": 33,
     "metadata": {},
     "output_type": "execute_result"
    }
   ],
   "source": [
    "#Run this code by pressing 'Shift' + 'Enter'\n",
    "\n",
    "# Calculates (x_i - x_bar)**2 and rounds to four decimal places\n",
    "round((5.5-x_bar)**2,4)"
   ]
  },
  {
   "cell_type": "code",
   "execution_count": 34,
   "metadata": {},
   "outputs": [
    {
     "data": {
      "text/plain": [
       "0.3306"
      ]
     },
     "execution_count": 34,
     "metadata": {},
     "output_type": "execute_result"
    }
   ],
   "source": [
    "#Run this code by pressing 'Shift' + 'Enter'\n",
    "\n",
    "# Calculates (y_i - y_bar)**2 and rounds to four decimal places\n",
    "round((5.5-y_bar)**2,4)"
   ]
  },
  {
   "cell_type": "markdown",
   "metadata": {},
   "source": [
    "<div class=\"alert alert-info\"> \n",
    "    <strong>4.2.6</strong> The following calculations are for the third row of our table where $x_i = 6.0$ and $y_i=5.9$.\n",
    "  </div>"
   ]
  },
  {
   "cell_type": "code",
   "execution_count": 35,
   "metadata": {},
   "outputs": [
    {
     "data": {
      "text/plain": [
       "0.05"
      ]
     },
     "execution_count": 35,
     "metadata": {},
     "output_type": "execute_result"
    }
   ],
   "source": [
    "#Run this code by pressing 'Shift' + 'Enter'\n",
    "\n",
    "# Calculates x_i - x_bar and rounds to two decimal places\n",
    "round(6.0-x_bar,2)"
   ]
  },
  {
   "cell_type": "code",
   "execution_count": 36,
   "metadata": {},
   "outputs": [
    {
     "data": {
      "text/plain": [
       "-0.17"
      ]
     },
     "execution_count": 36,
     "metadata": {},
     "output_type": "execute_result"
    }
   ],
   "source": [
    "#Run this code by pressing 'Shift' + 'Enter'\n",
    "\n",
    "# Calculates y_i - y_bar and rounds to two decimal places\n",
    "round(5.9-y_bar,2)"
   ]
  },
  {
   "cell_type": "code",
   "execution_count": 37,
   "metadata": {},
   "outputs": [
    {
     "data": {
      "text/plain": [
       "-0.0088"
      ]
     },
     "execution_count": 37,
     "metadata": {},
     "output_type": "execute_result"
    }
   ],
   "source": [
    "#Run this code by pressing 'Shift' + 'Enter'\n",
    "\n",
    "# Calculates (x_i - x_bar)*(y_i - y_bar) and rounds to four decimal places\n",
    "round((6.0-x_bar)*(5.9-y_bar),4)"
   ]
  },
  {
   "cell_type": "code",
   "execution_count": 38,
   "metadata": {},
   "outputs": [
    {
     "data": {
      "text/plain": [
       "0.0025"
      ]
     },
     "execution_count": 38,
     "metadata": {},
     "output_type": "execute_result"
    }
   ],
   "source": [
    "#Run this code by pressing 'Shift' + 'Enter'\n",
    "\n",
    "# Calculates (x_i - x_bar)**2 and rounds to four decimal places\n",
    "round((6.0-x_bar)**2, 4)"
   ]
  },
  {
   "cell_type": "code",
   "execution_count": 39,
   "metadata": {},
   "outputs": [
    {
     "data": {
      "text/plain": [
       "0.0306"
      ]
     },
     "execution_count": 39,
     "metadata": {},
     "output_type": "execute_result"
    }
   ],
   "source": [
    "#Run this code by pressing 'Shift' + 'Enter'\n",
    "\n",
    "# Calculates (y_i - y_bar)**2 and rounds to four decimal places\n",
    "round((5.9-y_bar)**2,4)"
   ]
  },
  {
   "cell_type": "markdown",
   "metadata": {},
   "source": [
    "\n",
    "<div class=\"alert alert-info\"> \n",
    "    <strong>4.2.7</strong> The following calculatiions are for the fourth row of our table where $x_i=6.4$  and $y_i=6.5$\n",
    "\n",
    "  </div>"
   ]
  },
  {
   "cell_type": "code",
   "execution_count": 52,
   "metadata": {},
   "outputs": [
    {
     "data": {
      "text/plain": [
       "0.45"
      ]
     },
     "execution_count": 52,
     "metadata": {},
     "output_type": "execute_result"
    }
   ],
   "source": [
    "#Run this code by pressing 'Shift' + 'Enter'\n",
    "\n",
    "# Calculates x_i - x_bar and rounds to two decimal places\n",
    "round(6.4-x_bar,2)"
   ]
  },
  {
   "cell_type": "code",
   "execution_count": 41,
   "metadata": {},
   "outputs": [
    {
     "data": {
      "text/plain": [
       "0.42"
      ]
     },
     "execution_count": 41,
     "metadata": {},
     "output_type": "execute_result"
    }
   ],
   "source": [
    "#Run this code by pressing 'Shift' + 'Enter'\n",
    "\n",
    "# Calculates y_i - y_bar and rounds to two decimal places\n",
    "round(6.5-y_bar,2)"
   ]
  },
  {
   "cell_type": "code",
   "execution_count": 51,
   "metadata": {},
   "outputs": [
    {
     "data": {
      "text/plain": [
       "0.1913"
      ]
     },
     "execution_count": 51,
     "metadata": {},
     "output_type": "execute_result"
    }
   ],
   "source": [
    "#Run this code by pressing 'Shift' + 'Enter'\n",
    "\n",
    "# Calculates (x_i - x_bar)*(y_i - y_bar) and rounds to fourd decimal places\n",
    "round((6.4-x_bar)*(6.5-y_bar),4)"
   ]
  },
  {
   "cell_type": "code",
   "execution_count": 49,
   "metadata": {},
   "outputs": [
    {
     "data": {
      "text/plain": [
       "0.2025"
      ]
     },
     "execution_count": 49,
     "metadata": {},
     "output_type": "execute_result"
    }
   ],
   "source": [
    "#Run this code by pressing 'Shift' + 'Enter'\n",
    "\n",
    "# Calculates (x_i - x_bar)**2 and rounds to fourd decimal places\n",
    "round((6.4-x_bar)**2,4)"
   ]
  },
  {
   "cell_type": "code",
   "execution_count": 50,
   "metadata": {},
   "outputs": [
    {
     "data": {
      "text/plain": [
       "0.1806"
      ]
     },
     "execution_count": 50,
     "metadata": {},
     "output_type": "execute_result"
    }
   ],
   "source": [
    "#Run this codeb by pressing 'Shift' + 'Enter'\n",
    "\n",
    "# Calculates (y_i - y_bar)**2 and rounds to fourd decimal places\n",
    "round((6.5-y_bar)**2,4)"
   ]
  },
  {
   "cell_type": "markdown",
   "metadata": {},
   "source": [
    "\n",
    "Finally, we can fill out our **Calculations Table for Correlation Coefficients**.\n",
    "\n",
    "| $x_i$ | $y_i$|$x_i - \\bar{x}$|$y_i-\\bar{y}$|$(x_i-\\bar{x})(y_i - \\bar{y})$|$(x_i-\\bar{x})^2$|$(y_i-\\bar{y})^2$|\n",
    "|------ |------|----------------|-------------|------------------------------|-----------------|----------------|\n",
    "|  5.9  | 6.4  |0.05        | 0.33        | -0.0162                   | 0.0025          | 0.1056         |\n",
    "|  5.5  | 6.5  | -0.45          |  0.42       | 0.2587                    | 0.2025          | 0.3306     |\n",
    "|  6.0  | 5.9  | 0.05           |  -0.17      | -0.0088                      | 0.0025          | 0.0306         |\n",
    "|  6.4  | 6.5  | 0.45           | 0.42        | 0.1913                       | 0.2025          |0.1806          | \n"
   ]
  },
  {
   "cell_type": "markdown",
   "metadata": {},
   "source": [
    "<div class=\"alert alert-info\"> \n",
    "    <strong>4.3.1 </strong> Now given that we have filled out the above table we can calculate the remaining:\n",
    "\n",
    "  </div>\n",
    "\n",
    "$$A = \\sum_{i=1}^n[(x_i - \\bar{x})(y_i - \\bar{y})]$$\n",
    "$$ B = \\sqrt{\\sum_{i=1}^n (x_i - \\bar{x})^2} $$\n",
    "$$ C = \\sqrt{\\sum_{i=1}^n (y_i - \\bar{y})^2} $$"
   ]
  },
  {
   "cell_type": "markdown",
   "metadata": {},
   "source": [
    "\n",
    "\n",
    "<div class=\"alert alert-info\"> \n",
    "    <strong>4.3.2 </strong> We calculate A by taking the sum of the 5th column.\n",
    "  </div>\n"
   ]
  },
  {
   "cell_type": "code",
   "execution_count": 45,
   "metadata": {},
   "outputs": [
    {
     "data": {
      "text/plain": [
       "0.4249"
      ]
     },
     "execution_count": 45,
     "metadata": {},
     "output_type": "execute_result"
    }
   ],
   "source": [
    "#Run this code by pressing 'Shift' + 'Enter'\n",
    "\n",
    "A = np.sum(-0.0162 +0.2587+ -0.0088 + 0.1912)\n",
    "A"
   ]
  },
  {
   "cell_type": "markdown",
   "metadata": {},
   "source": [
    "<div class = \"alert alert-info\">\n",
    "    <strong>4.3.3</strong> We calculate B by taking the sum of the 6th column. \n",
    "    </div>"
   ]
  },
  {
   "cell_type": "code",
   "execution_count": 46,
   "metadata": {},
   "outputs": [
    {
     "data": {
      "text/plain": [
       "0.6403124237432849"
      ]
     },
     "execution_count": 46,
     "metadata": {},
     "output_type": "execute_result"
    }
   ],
   "source": [
    "#Run this code by pressing 'Shift' + 'Enter'\n",
    "\n",
    "B = np.sqrt(np.sum(0.0025  + 0.2025 + 0.0025 + 0.2025))\n",
    "B"
   ]
  },
  {
   "cell_type": "markdown",
   "metadata": {},
   "source": [
    "<div class = \"alert alert-info\">\n",
    "    <strong>4.3.4</strong> We calculate C by taking the sum of the 7th column.\n",
    "    </div>"
   ]
  },
  {
   "cell_type": "code",
   "execution_count": 47,
   "metadata": {},
   "outputs": [
    {
     "data": {
      "text/plain": [
       "0.8046117075956577"
      ]
     },
     "execution_count": 47,
     "metadata": {},
     "output_type": "execute_result"
    }
   ],
   "source": [
    "#Run this code by pressing 'Shift' + 'Enter'\n",
    "\n",
    "C = np.sqrt(np.sum(0.1056 + 0.3306 + 0.0306 + 0.1806))\n",
    "C"
   ]
  },
  {
   "cell_type": "markdown",
   "metadata": {},
   "source": [
    "<div class = \"alert alert-info\">\n",
    "    <strong>4.4.1</strong> With these value now identified, the formula for correlation coefficients can be simplified to:\n",
    "\n",
    "$$ r = \\frac{A}{B \\cdot C}$$\n",
    "\n",
    "\n",
    "Using the values for A, B, and C let's find the value of $r$.\n",
    "</div>"
   ]
  },
  {
   "cell_type": "code",
   "execution_count": 48,
   "metadata": {},
   "outputs": [
    {
     "data": {
      "text/plain": [
       "0.8247236623583382"
      ]
     },
     "execution_count": 48,
     "metadata": {},
     "output_type": "execute_result"
    }
   ],
   "source": [
    "#Run this code by pressing 'Shift' + 'Enter'\n",
    "\n",
    "r = A/(B*C)\n",
    "r"
   ]
  },
  {
   "cell_type": "markdown",
   "metadata": {},
   "source": [
    "<div class = \"alert alert-info\">\n",
    "    <strong>4.5</strong> What does this $r$ value indicate about the linear relationship between two variables?</div>"
   ]
  },
  {
   "cell_type": "markdown",
   "metadata": {},
   "source": [
    "**Your answer:** Type your answer here"
   ]
  },
  {
   "cell_type": "markdown",
   "metadata": {},
   "source": [
    "<div class = \"alert alert-info\">\n",
    "    <strong>4.6</strong> The following scatter plot shows unemployment rates overall and for people with some college education or associate’s degree for the four Census Bureau regions, with lines for the means of each variable (i.e., $x$ and $y$) creating four quadrants. This setup helps you see the approximate distances of each data point from the means. (These distances are represented in the formula for $r$ as $x_i - \\bar{x}$ and $y_i - \\bar{y}$.)\n",
    "</div>"
   ]
  },
  {
   "cell_type": "code",
   "execution_count": 13,
   "metadata": {},
   "outputs": [
    {
     "data": {
      "text/plain": [
       "Text(0, 0.5, 'Less Than High School Graduate (%)')"
      ]
     },
     "execution_count": 13,
     "metadata": {},
     "output_type": "execute_result"
    },
    {
     "data": {
      "image/png": "[encoded data removed]",
      "text/plain": [
       "<Figure size 432x288 with 1 Axes>"
      ]
     },
     "metadata": {
      "needs_background": "light"
     },
     "output_type": "display_data"
    }
   ],
   "source": [
    "#Run this code to see a graph by pressing 'Shift' + 'Enter'\n",
    "\n",
    "plt.scatter(regions[\"Overall (%)\"],\n",
    "           regions[\"Some College Education or Associate's Degree (%)\"],s=10)\n",
    "\n",
    "plt.xlim(5.4,6.6)\n",
    "plt.ylim(5.4,6.7)\n",
    "plt.axhline(y=6.1)\n",
    "plt.axvline(x=5.95)\n",
    "plt.title(\"Divisions' Unemployment Rates: Overall vs. Less Than High School Graduate\")\n",
    "plt.xlabel(\"Overall (%)\")\n",
    "plt.ylabel(\"Less Than High School Graduate (%)\")"
   ]
  },
  {
   "cell_type": "markdown",
   "metadata": {},
   "source": [
    "<div class=\"alert alert-info\">  \n",
    "    <strong>4.6.1</strong> In which quadrants do the points have a greater impact on the value of the correlation coefficient?\n",
    "Explain\n",
    "</div>"
   ]
  },
  {
   "cell_type": "markdown",
   "metadata": {},
   "source": [
    "**Your answer:** Type your answer here"
   ]
  },
  {
   "cell_type": "markdown",
   "metadata": {},
   "source": [
    "<div class=\"alert alert-info\">  \n",
    "    <strong>4.6.2</strong> In which quadrants will $(x_i - \\bar{x})(y_i - \\bar{y})$ be positive for this data set? Negative?\n",
    "</div>"
   ]
  },
  {
   "cell_type": "markdown",
   "metadata": {},
   "source": [
    "**Your answer:** Type your answer here"
   ]
  },
  {
   "cell_type": "markdown",
   "metadata": {},
   "source": [
    "<div class=\"alert alert-info\">  \n",
    "    <strong>4.6.3</strong> How do you know that the sum of these values, represented in the formula’s numerator as $\\sum_{i=1}^n[(x_i - \\bar{x})(y_i - \\bar{y})] $, will be positive for this data set?</div>"
   ]
  },
  {
   "cell_type": "markdown",
   "metadata": {},
   "source": [
    "**Your answer:** Type your answer here"
   ]
  },
  {
   "cell_type": "markdown",
   "metadata": {},
   "source": [
    "\n",
    "\n",
    "<div class=\"alert alert-info\">  \n",
    "    <strong>4.6.4</strong> Why will the denominator of the formula, or $\\sqrt{\\sum_{i=1}^n (x_i - \\bar{x})^2} \\sqrt{\\sum_{i=1}^n (y_i - \\bar{y})^2} $ , always be positive?</div>"
   ]
  },
  {
   "cell_type": "markdown",
   "metadata": {},
   "source": [
    "**Your answer:** Type your answer here"
   ]
  },
  {
   "cell_type": "markdown",
   "metadata": {},
   "source": [
    "<div class=\"alert alert-info\">  \n",
    "    <strong>4.6.5</strong> Identify the largest and smallest possible values of r for any data set, and interpret what these values\n",
    "indicate for a linear relationship between two variables.\n",
    "\n",
    "* Largest possible $r$ value?\n",
    "* Smallest possible $r$ value?\n",
    "\n",
    "</div>"
   ]
  },
  {
   "cell_type": "markdown",
   "metadata": {},
   "source": [
    "**Your answer:** Type your answer here\n",
    "\n",
    "---"
   ]
  },
  {
   "cell_type": "markdown",
   "metadata": {},
   "source": [
    "**Congratulations!** You just finished Part 2 of this lesson! Make sure to click 'File', then 'Save and Checkpoint' in the upper left-hand corner to save all the hard work you've done!\n",
    "\n"
   ]
  },
  {
   "cell_type": "markdown",
   "metadata": {},
   "source": [
    "\n",
    "# 5. Part 3 - Create Your Own Scatter Plots <a id='5'></a> "
   ]
  },
  {
   "cell_type": "markdown",
   "metadata": {},
   "source": [
    "Now use the **unemployment** data table to make your own scatter plot. We will first select 10 states and the unemployment rates for a specific education level, and plot them against the overall unemployment rates in each location you selected. Then use your scatter plot to answer the following questions and prompts."
   ]
  },
  {
   "cell_type": "markdown",
   "metadata": {},
   "source": [
    "<div class = \"alert alert-info\">\n",
    "    <strong>5.1</strong> The code below will randomly take 10 states from the <strong>unemployment</strong> data table to create our new data table, <strong>ten_states</strong>. </div>"
   ]
  },
  {
   "cell_type": "code",
   "execution_count": 14,
   "metadata": {},
   "outputs": [
    {
     "data": {
      "text/html": [
       "<div>\n",
       "<style scoped>\n",
       "    .dataframe tbody tr th:only-of-type {\n",
       "        vertical-align: middle;\n",
       "    }\n",
       "\n",
       "    .dataframe tbody tr th {\n",
       "        vertical-align: top;\n",
       "    }\n",
       "\n",
       "    .dataframe thead th {\n",
       "        text-align: right;\n",
       "    }\n",
       "</style>\n",
       "<table border=\"1\" class=\"dataframe\">\n",
       "  <thead>\n",
       "    <tr style=\"text-align: right;\">\n",
       "      <th></th>\n",
       "      <th>State</th>\n",
       "      <th>Overall(%)</th>\n",
       "      <th>Less Than High School Graduate (%)</th>\n",
       "      <th>High School Graduate or Equivalent (%)</th>\n",
       "      <th>Some College Eduation or Associate's Degree (%)</th>\n",
       "      <th>Bachelor's Degree or Higher (%)</th>\n",
       "    </tr>\n",
       "  </thead>\n",
       "  <tbody>\n",
       "    <tr>\n",
       "      <th>47</th>\n",
       "      <td>Washington</td>\n",
       "      <td>5.1</td>\n",
       "      <td>9.0</td>\n",
       "      <td>6.3</td>\n",
       "      <td>5.3</td>\n",
       "      <td>3.5</td>\n",
       "    </tr>\n",
       "    <tr>\n",
       "      <th>34</th>\n",
       "      <td>North Dakota</td>\n",
       "      <td>2.4</td>\n",
       "      <td>7.8</td>\n",
       "      <td>3.2</td>\n",
       "      <td>2.2</td>\n",
       "      <td>1.4</td>\n",
       "    </tr>\n",
       "    <tr>\n",
       "      <th>36</th>\n",
       "      <td>Oklahoma</td>\n",
       "      <td>4.5</td>\n",
       "      <td>9.2</td>\n",
       "      <td>5.5</td>\n",
       "      <td>4.4</td>\n",
       "      <td>2.0</td>\n",
       "    </tr>\n",
       "    <tr>\n",
       "      <th>35</th>\n",
       "      <td>Ohio</td>\n",
       "      <td>5.8</td>\n",
       "      <td>15.5</td>\n",
       "      <td>7.0</td>\n",
       "      <td>5.9</td>\n",
       "      <td>2.6</td>\n",
       "    </tr>\n",
       "    <tr>\n",
       "      <th>25</th>\n",
       "      <td>Missouri</td>\n",
       "      <td>5.7</td>\n",
       "      <td>14.3</td>\n",
       "      <td>7.5</td>\n",
       "      <td>5.6</td>\n",
       "      <td>2.8</td>\n",
       "    </tr>\n",
       "    <tr>\n",
       "      <th>4</th>\n",
       "      <td>California</td>\n",
       "      <td>7.1</td>\n",
       "      <td>10.1</td>\n",
       "      <td>9.3</td>\n",
       "      <td>7.5</td>\n",
       "      <td>4.4</td>\n",
       "    </tr>\n",
       "    <tr>\n",
       "      <th>10</th>\n",
       "      <td>Georgia</td>\n",
       "      <td>6.6</td>\n",
       "      <td>12.1</td>\n",
       "      <td>8.4</td>\n",
       "      <td>7.1</td>\n",
       "      <td>3.4</td>\n",
       "    </tr>\n",
       "    <tr>\n",
       "      <th>5</th>\n",
       "      <td>Colorado</td>\n",
       "      <td>4.3</td>\n",
       "      <td>7.5</td>\n",
       "      <td>5.4</td>\n",
       "      <td>4.7</td>\n",
       "      <td>2.9</td>\n",
       "    </tr>\n",
       "    <tr>\n",
       "      <th>40</th>\n",
       "      <td>South Carolina</td>\n",
       "      <td>6.5</td>\n",
       "      <td>16.2</td>\n",
       "      <td>8.3</td>\n",
       "      <td>5.9</td>\n",
       "      <td>2.7</td>\n",
       "    </tr>\n",
       "    <tr>\n",
       "      <th>39</th>\n",
       "      <td>Rhode Island</td>\n",
       "      <td>6.6</td>\n",
       "      <td>12.5</td>\n",
       "      <td>9.7</td>\n",
       "      <td>6.5</td>\n",
       "      <td>3.0</td>\n",
       "    </tr>\n",
       "  </tbody>\n",
       "</table>\n",
       "</div>"
      ],
      "text/plain": [
       "             State Overall(%) Less Than High School Graduate (%)  \\\n",
       "47      Washington        5.1                                9.0   \n",
       "34    North Dakota        2.4                                7.8   \n",
       "36        Oklahoma        4.5                                9.2   \n",
       "35            Ohio        5.8                               15.5   \n",
       "25        Missouri        5.7                               14.3   \n",
       "4       California        7.1                               10.1   \n",
       "10         Georgia        6.6                               12.1   \n",
       "5         Colorado        4.3                                7.5   \n",
       "40  South Carolina        6.5                               16.2   \n",
       "39    Rhode Island        6.6                               12.5   \n",
       "\n",
       "   High School Graduate or Equivalent (%)  \\\n",
       "47                                    6.3   \n",
       "34                                    3.2   \n",
       "36                                    5.5   \n",
       "35                                    7.0   \n",
       "25                                    7.5   \n",
       "4                                     9.3   \n",
       "10                                    8.4   \n",
       "5                                     5.4   \n",
       "40                                    8.3   \n",
       "39                                    9.7   \n",
       "\n",
       "   Some College Eduation or Associate's Degree (%)  \\\n",
       "47                                             5.3   \n",
       "34                                             2.2   \n",
       "36                                             4.4   \n",
       "35                                             5.9   \n",
       "25                                             5.6   \n",
       "4                                              7.5   \n",
       "10                                             7.1   \n",
       "5                                              4.7   \n",
       "40                                             5.9   \n",
       "39                                             6.5   \n",
       "\n",
       "   Bachelor's Degree or Higher (%)  \n",
       "47                             3.5  \n",
       "34                             1.4  \n",
       "36                             2.0  \n",
       "35                             2.6  \n",
       "25                             2.8  \n",
       "4                              4.4  \n",
       "10                             3.4  \n",
       "5                              2.9  \n",
       "40                             2.7  \n",
       "39                             3.0  "
      ]
     },
     "execution_count": 14,
     "metadata": {},
     "output_type": "execute_result"
    }
   ],
   "source": [
    "ten_states = unemployment.sample(10)\n",
    "ten_states"
   ]
  },
  {
   "cell_type": "markdown",
   "metadata": {},
   "source": [
    "<div class = \"alert alert-info\">\n",
    "    <strong>5.2</strong> Now that you have selected your 10 states you now have to pick the unemployment rates for a speficifc education level (Less Than High School Graduate (%), High School Graduate or Equivalent (%), Some College Eduation or Associate's Degree (%), or Bachelor's Degree or Higher (%)). Fill in the '...' with your chosen education level to create the <strong>my_states</strong> data table. </div>"
   ]
  },
  {
   "cell_type": "code",
   "execution_count": 53,
   "metadata": {},
   "outputs": [
    {
     "data": {
      "text/html": [
       "<div>\n",
       "<style scoped>\n",
       "    .dataframe tbody tr th:only-of-type {\n",
       "        vertical-align: middle;\n",
       "    }\n",
       "\n",
       "    .dataframe tbody tr th {\n",
       "        vertical-align: top;\n",
       "    }\n",
       "\n",
       "    .dataframe thead th {\n",
       "        text-align: right;\n",
       "    }\n",
       "</style>\n",
       "<table border=\"1\" class=\"dataframe\">\n",
       "  <thead>\n",
       "    <tr style=\"text-align: right;\">\n",
       "      <th></th>\n",
       "      <th>State</th>\n",
       "      <th>Overall(%)</th>\n",
       "      <th>Less Than High School Graduate (%)</th>\n",
       "    </tr>\n",
       "  </thead>\n",
       "  <tbody>\n",
       "    <tr>\n",
       "      <th>47</th>\n",
       "      <td>Washington</td>\n",
       "      <td>5.1</td>\n",
       "      <td>9.0</td>\n",
       "    </tr>\n",
       "    <tr>\n",
       "      <th>34</th>\n",
       "      <td>North Dakota</td>\n",
       "      <td>2.4</td>\n",
       "      <td>7.8</td>\n",
       "    </tr>\n",
       "    <tr>\n",
       "      <th>36</th>\n",
       "      <td>Oklahoma</td>\n",
       "      <td>4.5</td>\n",
       "      <td>9.2</td>\n",
       "    </tr>\n",
       "    <tr>\n",
       "      <th>35</th>\n",
       "      <td>Ohio</td>\n",
       "      <td>5.8</td>\n",
       "      <td>15.5</td>\n",
       "    </tr>\n",
       "    <tr>\n",
       "      <th>25</th>\n",
       "      <td>Missouri</td>\n",
       "      <td>5.7</td>\n",
       "      <td>14.3</td>\n",
       "    </tr>\n",
       "    <tr>\n",
       "      <th>4</th>\n",
       "      <td>California</td>\n",
       "      <td>7.1</td>\n",
       "      <td>10.1</td>\n",
       "    </tr>\n",
       "    <tr>\n",
       "      <th>10</th>\n",
       "      <td>Georgia</td>\n",
       "      <td>6.6</td>\n",
       "      <td>12.1</td>\n",
       "    </tr>\n",
       "    <tr>\n",
       "      <th>5</th>\n",
       "      <td>Colorado</td>\n",
       "      <td>4.3</td>\n",
       "      <td>7.5</td>\n",
       "    </tr>\n",
       "    <tr>\n",
       "      <th>40</th>\n",
       "      <td>South Carolina</td>\n",
       "      <td>6.5</td>\n",
       "      <td>16.2</td>\n",
       "    </tr>\n",
       "    <tr>\n",
       "      <th>39</th>\n",
       "      <td>Rhode Island</td>\n",
       "      <td>6.6</td>\n",
       "      <td>12.5</td>\n",
       "    </tr>\n",
       "  </tbody>\n",
       "</table>\n",
       "</div>"
      ],
      "text/plain": [
       "             State Overall(%) Less Than High School Graduate (%)\n",
       "47      Washington        5.1                                9.0\n",
       "34    North Dakota        2.4                                7.8\n",
       "36        Oklahoma        4.5                                9.2\n",
       "35            Ohio        5.8                               15.5\n",
       "25        Missouri        5.7                               14.3\n",
       "4       California        7.1                               10.1\n",
       "10         Georgia        6.6                               12.1\n",
       "5         Colorado        4.3                                7.5\n",
       "40  South Carolina        6.5                               16.2\n",
       "39    Rhode Island        6.6                               12.5"
      ]
     },
     "execution_count": 53,
     "metadata": {},
     "output_type": "execute_result"
    }
   ],
   "source": [
    "my_states = ten_states[['State', 'Overall(%)', '...']]\n",
    "my_states"
   ]
  },
  {
   "cell_type": "markdown",
   "metadata": {},
   "source": [
    "<div class = \"alert alert-info\">\n",
    "<strong>5.2.1</strong> Given that you have created your own <strong>my_states</strong> data table we will now create a scatter plot. Run the cell below to plot your scatter plot. Remember you're plotting the overall unemployment rate against your chosen unemployment rate for a specific education level. </div>"
   ]
  },
  {
   "cell_type": "code",
   "execution_count": 54,
   "metadata": {},
   "outputs": [
    {
     "name": "stdout",
     "output_type": "stream",
     "text": [
      "Here are the types of plots you may use: \n",
      "\n",
      "(1) histogram \n",
      "\n",
      "(2) barplot \n",
      "\n",
      "(3) scatterplot \n",
      "\n",
      "(4) lineplot \n",
      "\n",
      "Enter the number associated to the type of plot you would like to use: \n",
      "3\n",
      "Plotting a scatterplot.\n",
      "Here are the columns of your table:\n",
      "(1) State \n",
      "\n",
      "(2) Overall(%) \n",
      "\n",
      "(3) Less Than High School Graduate (%) \n",
      "\n"
     ]
    },
    {
     "ename": "KeyboardInterrupt",
     "evalue": "",
     "output_type": "error",
     "traceback": [
      "\u001b[0;31m---------------------------------------------------------------------------\u001b[0m",
      "\u001b[0;31mKeyboardInterrupt\u001b[0m                         Traceback (most recent call last)",
      "\u001b[0;32m~/anaconda3/lib/python3.6/site-packages/ipykernel/kernelbase.py\u001b[0m in \u001b[0;36m_input_request\u001b[0;34m(self, prompt, ident, parent, password)\u001b[0m\n\u001b[1;32m    877\u001b[0m             \u001b[0;32mtry\u001b[0m\u001b[0;34m:\u001b[0m\u001b[0;34m\u001b[0m\u001b[0;34m\u001b[0m\u001b[0m\n\u001b[0;32m--> 878\u001b[0;31m                 \u001b[0mident\u001b[0m\u001b[0;34m,\u001b[0m \u001b[0mreply\u001b[0m \u001b[0;34m=\u001b[0m \u001b[0mself\u001b[0m\u001b[0;34m.\u001b[0m\u001b[0msession\u001b[0m\u001b[0;34m.\u001b[0m\u001b[0mrecv\u001b[0m\u001b[0;34m(\u001b[0m\u001b[0mself\u001b[0m\u001b[0;34m.\u001b[0m\u001b[0mstdin_socket\u001b[0m\u001b[0;34m,\u001b[0m \u001b[0;36m0\u001b[0m\u001b[0;34m)\u001b[0m\u001b[0;34m\u001b[0m\u001b[0;34m\u001b[0m\u001b[0m\n\u001b[0m\u001b[1;32m    879\u001b[0m             \u001b[0;32mexcept\u001b[0m \u001b[0mException\u001b[0m\u001b[0;34m:\u001b[0m\u001b[0;34m\u001b[0m\u001b[0;34m\u001b[0m\u001b[0m\n",
      "\u001b[0;32m~/anaconda3/lib/python3.6/site-packages/jupyter_client/session.py\u001b[0m in \u001b[0;36mrecv\u001b[0;34m(self, socket, mode, content, copy)\u001b[0m\n\u001b[1;32m    802\u001b[0m         \u001b[0;32mtry\u001b[0m\u001b[0;34m:\u001b[0m\u001b[0;34m\u001b[0m\u001b[0;34m\u001b[0m\u001b[0m\n\u001b[0;32m--> 803\u001b[0;31m             \u001b[0mmsg_list\u001b[0m \u001b[0;34m=\u001b[0m \u001b[0msocket\u001b[0m\u001b[0;34m.\u001b[0m\u001b[0mrecv_multipart\u001b[0m\u001b[0;34m(\u001b[0m\u001b[0mmode\u001b[0m\u001b[0;34m,\u001b[0m \u001b[0mcopy\u001b[0m\u001b[0;34m=\u001b[0m\u001b[0mcopy\u001b[0m\u001b[0;34m)\u001b[0m\u001b[0;34m\u001b[0m\u001b[0;34m\u001b[0m\u001b[0m\n\u001b[0m\u001b[1;32m    804\u001b[0m         \u001b[0;32mexcept\u001b[0m \u001b[0mzmq\u001b[0m\u001b[0;34m.\u001b[0m\u001b[0mZMQError\u001b[0m \u001b[0;32mas\u001b[0m \u001b[0me\u001b[0m\u001b[0;34m:\u001b[0m\u001b[0;34m\u001b[0m\u001b[0;34m\u001b[0m\u001b[0m\n",
      "\u001b[0;32m~/anaconda3/lib/python3.6/site-packages/zmq/sugar/socket.py\u001b[0m in \u001b[0;36mrecv_multipart\u001b[0;34m(self, flags, copy, track)\u001b[0m\n\u001b[1;32m    466\u001b[0m         \"\"\"\n\u001b[0;32m--> 467\u001b[0;31m         \u001b[0mparts\u001b[0m \u001b[0;34m=\u001b[0m \u001b[0;34m[\u001b[0m\u001b[0mself\u001b[0m\u001b[0;34m.\u001b[0m\u001b[0mrecv\u001b[0m\u001b[0;34m(\u001b[0m\u001b[0mflags\u001b[0m\u001b[0;34m,\u001b[0m \u001b[0mcopy\u001b[0m\u001b[0;34m=\u001b[0m\u001b[0mcopy\u001b[0m\u001b[0;34m,\u001b[0m \u001b[0mtrack\u001b[0m\u001b[0;34m=\u001b[0m\u001b[0mtrack\u001b[0m\u001b[0;34m)\u001b[0m\u001b[0;34m]\u001b[0m\u001b[0;34m\u001b[0m\u001b[0;34m\u001b[0m\u001b[0m\n\u001b[0m\u001b[1;32m    468\u001b[0m         \u001b[0;31m# have first part already, only loop while more to receive\u001b[0m\u001b[0;34m\u001b[0m\u001b[0;34m\u001b[0m\u001b[0;34m\u001b[0m\u001b[0m\n",
      "\u001b[0;32mzmq/backend/cython/socket.pyx\u001b[0m in \u001b[0;36mzmq.backend.cython.socket.Socket.recv\u001b[0;34m()\u001b[0m\n",
      "\u001b[0;32mzmq/backend/cython/socket.pyx\u001b[0m in \u001b[0;36mzmq.backend.cython.socket.Socket.recv\u001b[0;34m()\u001b[0m\n",
      "\u001b[0;32mzmq/backend/cython/socket.pyx\u001b[0m in \u001b[0;36mzmq.backend.cython.socket._recv_copy\u001b[0;34m()\u001b[0m\n",
      "\u001b[0;32m~/anaconda3/lib/python3.6/site-packages/zmq/backend/cython/checkrc.pxd\u001b[0m in \u001b[0;36mzmq.backend.cython.checkrc._check_rc\u001b[0;34m()\u001b[0m\n",
      "\u001b[0;31mKeyboardInterrupt\u001b[0m: ",
      "\nDuring handling of the above exception, another exception occurred:\n",
      "\u001b[0;31mKeyboardInterrupt\u001b[0m                         Traceback (most recent call last)",
      "\u001b[0;32m<ipython-input-54-daf152fe42a9>\u001b[0m in \u001b[0;36m<module>\u001b[0;34m\u001b[0m\n\u001b[1;32m      2\u001b[0m \u001b[0;34m\u001b[0m\u001b[0m\n\u001b[1;32m      3\u001b[0m \u001b[0mplotter\u001b[0m \u001b[0;34m=\u001b[0m \u001b[0mmatplotlib_seaborn\u001b[0m\u001b[0;34m.\u001b[0m\u001b[0mPlot\u001b[0m\u001b[0;34m(\u001b[0m\u001b[0mmy_states\u001b[0m\u001b[0;34m)\u001b[0m\u001b[0;34m\u001b[0m\u001b[0;34m\u001b[0m\u001b[0m\n\u001b[0;32m----> 4\u001b[0;31m \u001b[0mplotter\u001b[0m\u001b[0;34m.\u001b[0m\u001b[0mnew_plot\u001b[0m\u001b[0;34m(\u001b[0m\u001b[0;34m)\u001b[0m\u001b[0;34m\u001b[0m\u001b[0;34m\u001b[0m\u001b[0m\n\u001b[0m",
      "\u001b[0;32m~/Desktop/census-notebooks/censusnotebooks/visualization/matplotlib_seaborn.py\u001b[0m in \u001b[0;36mnew_plot\u001b[0;34m(self)\u001b[0m\n\u001b[1;32m    107\u001b[0m     \u001b[0;32mdef\u001b[0m \u001b[0mnew_plot\u001b[0m\u001b[0;34m(\u001b[0m\u001b[0mself\u001b[0m\u001b[0;34m)\u001b[0m\u001b[0;34m:\u001b[0m\u001b[0;34m\u001b[0m\u001b[0;34m\u001b[0m\u001b[0m\n\u001b[1;32m    108\u001b[0m         \u001b[0mself\u001b[0m\u001b[0;34m.\u001b[0m\u001b[0mask_type\u001b[0m\u001b[0;34m(\u001b[0m\u001b[0;34m)\u001b[0m\u001b[0;34m\u001b[0m\u001b[0;34m\u001b[0m\u001b[0m\n\u001b[0;32m--> 109\u001b[0;31m         \u001b[0mself\u001b[0m\u001b[0;34m.\u001b[0m\u001b[0mask_columns\u001b[0m\u001b[0;34m(\u001b[0m\u001b[0;34m)\u001b[0m\u001b[0;34m\u001b[0m\u001b[0;34m\u001b[0m\u001b[0m\n\u001b[0m\u001b[1;32m    110\u001b[0m         \u001b[0mself\u001b[0m\u001b[0;34m.\u001b[0m\u001b[0mask_labels\u001b[0m\u001b[0;34m(\u001b[0m\u001b[0;34m)\u001b[0m\u001b[0;34m\u001b[0m\u001b[0;34m\u001b[0m\u001b[0m\n\u001b[1;32m    111\u001b[0m         \u001b[0mself\u001b[0m\u001b[0;34m.\u001b[0m\u001b[0mplotting\u001b[0m\u001b[0;34m(\u001b[0m\u001b[0;34m)\u001b[0m\u001b[0;34m\u001b[0m\u001b[0;34m\u001b[0m\u001b[0m\n",
      "\u001b[0;32m~/Desktop/census-notebooks/censusnotebooks/visualization/matplotlib_seaborn.py\u001b[0m in \u001b[0;36mask_columns\u001b[0;34m(self)\u001b[0m\n\u001b[1;32m     51\u001b[0m             \u001b[0mprint\u001b[0m\u001b[0;34m(\u001b[0m\u001b[0;34mf'({columns.index(c) + 1}) {c} \\n'\u001b[0m\u001b[0;34m)\u001b[0m\u001b[0;34m\u001b[0m\u001b[0;34m\u001b[0m\u001b[0m\n\u001b[1;32m     52\u001b[0m \u001b[0;34m\u001b[0m\u001b[0m\n\u001b[0;32m---> 53\u001b[0;31m         \u001b[0mcolumn_holder1\u001b[0m \u001b[0;34m=\u001b[0m \u001b[0minput\u001b[0m\u001b[0;34m(\u001b[0m\u001b[0;34m\"Enter the column you would like to plot: \\n\"\u001b[0m\u001b[0;34m)\u001b[0m\u001b[0;34m\u001b[0m\u001b[0;34m\u001b[0m\u001b[0m\n\u001b[0m\u001b[1;32m     54\u001b[0m \u001b[0;34m\u001b[0m\u001b[0m\n\u001b[1;32m     55\u001b[0m         \u001b[0;32mwhile\u001b[0m \u001b[0mcolumn_holder1\u001b[0m \u001b[0;32mnot\u001b[0m \u001b[0;32min\u001b[0m \u001b[0;34m[\u001b[0m\u001b[0mstr\u001b[0m\u001b[0;34m(\u001b[0m\u001b[0mx\u001b[0m\u001b[0;34m)\u001b[0m \u001b[0;32mfor\u001b[0m \u001b[0mx\u001b[0m \u001b[0;32min\u001b[0m \u001b[0mlist\u001b[0m\u001b[0;34m(\u001b[0m\u001b[0mnp\u001b[0m\u001b[0;34m.\u001b[0m\u001b[0marange\u001b[0m\u001b[0;34m(\u001b[0m\u001b[0;36m1\u001b[0m\u001b[0;34m,\u001b[0m \u001b[0mlen\u001b[0m\u001b[0;34m(\u001b[0m\u001b[0mcolumns\u001b[0m\u001b[0;34m)\u001b[0m\u001b[0;34m+\u001b[0m\u001b[0;36m1\u001b[0m\u001b[0;34m)\u001b[0m\u001b[0;34m)\u001b[0m\u001b[0;34m]\u001b[0m\u001b[0;34m:\u001b[0m\u001b[0;34m\u001b[0m\u001b[0;34m\u001b[0m\u001b[0m\n",
      "\u001b[0;32m~/anaconda3/lib/python3.6/site-packages/ipykernel/kernelbase.py\u001b[0m in \u001b[0;36mraw_input\u001b[0;34m(self, prompt)\u001b[0m\n\u001b[1;32m    851\u001b[0m             \u001b[0mself\u001b[0m\u001b[0;34m.\u001b[0m\u001b[0m_parent_ident\u001b[0m\u001b[0;34m,\u001b[0m\u001b[0;34m\u001b[0m\u001b[0;34m\u001b[0m\u001b[0m\n\u001b[1;32m    852\u001b[0m             \u001b[0mself\u001b[0m\u001b[0;34m.\u001b[0m\u001b[0m_parent_header\u001b[0m\u001b[0;34m,\u001b[0m\u001b[0;34m\u001b[0m\u001b[0;34m\u001b[0m\u001b[0m\n\u001b[0;32m--> 853\u001b[0;31m             \u001b[0mpassword\u001b[0m\u001b[0;34m=\u001b[0m\u001b[0;32mFalse\u001b[0m\u001b[0;34m,\u001b[0m\u001b[0;34m\u001b[0m\u001b[0;34m\u001b[0m\u001b[0m\n\u001b[0m\u001b[1;32m    854\u001b[0m         )\n\u001b[1;32m    855\u001b[0m \u001b[0;34m\u001b[0m\u001b[0m\n",
      "\u001b[0;32m~/anaconda3/lib/python3.6/site-packages/ipykernel/kernelbase.py\u001b[0m in \u001b[0;36m_input_request\u001b[0;34m(self, prompt, ident, parent, password)\u001b[0m\n\u001b[1;32m    881\u001b[0m             \u001b[0;32mexcept\u001b[0m \u001b[0mKeyboardInterrupt\u001b[0m\u001b[0;34m:\u001b[0m\u001b[0;34m\u001b[0m\u001b[0;34m\u001b[0m\u001b[0m\n\u001b[1;32m    882\u001b[0m                 \u001b[0;31m# re-raise KeyboardInterrupt, to truncate traceback\u001b[0m\u001b[0;34m\u001b[0m\u001b[0;34m\u001b[0m\u001b[0;34m\u001b[0m\u001b[0m\n\u001b[0;32m--> 883\u001b[0;31m                 \u001b[0;32mraise\u001b[0m \u001b[0mKeyboardInterrupt\u001b[0m\u001b[0;34m\u001b[0m\u001b[0;34m\u001b[0m\u001b[0m\n\u001b[0m\u001b[1;32m    884\u001b[0m             \u001b[0;32melse\u001b[0m\u001b[0;34m:\u001b[0m\u001b[0;34m\u001b[0m\u001b[0;34m\u001b[0m\u001b[0m\n\u001b[1;32m    885\u001b[0m                 \u001b[0;32mbreak\u001b[0m\u001b[0;34m\u001b[0m\u001b[0;34m\u001b[0m\u001b[0m\n",
      "\u001b[0;31mKeyboardInterrupt\u001b[0m: "
     ]
    }
   ],
   "source": [
    "from censusnotebooks.visualization import matplotlib_seaborn\n",
    "\n",
    "plotter = matplotlib_seaborn.Plot(my_states)\n",
    "plotter.new_plot()"
   ]
  },
  {
   "cell_type": "markdown",
   "metadata": {},
   "source": [
    "<div class = \"alert alert-info\">\n",
    "    <strong>5.2.2</strong> Does there appear to be a relationship between unemployment rates for this educational attainment\n",
    "level and the overall rates for these locations? If so, describe the relationship as linear or not linear, as\n",
    "strong or weak, and as positive or negative.</div>\n"
   ]
  },
  {
   "cell_type": "markdown",
   "metadata": {},
   "source": [
    "**Your answer:** Type your answer here"
   ]
  },
  {
   "cell_type": "markdown",
   "metadata": {},
   "source": [
    "<div class = \"alert alert-info\">\n",
    "    <strong>5.3</strong> Determine the correlation coefficient using the <strong>Calculations Table for Correlation Coefficients</strong> below. Revisit section <strong>4.2 Correlation Coefficients</strong> if you need a quick reminder about making the following calculations.\n",
    "\n",
    "<em>Note:</em> $x_i$ are your values for the 'Overall' unemployement rate and $y_i$ are your values for the unemployment rate for the specific education level that you picked above. </div>"
   ]
  },
  {
   "cell_type": "markdown",
   "metadata": {},
   "source": [
    "| $x_i$| $y_i$|$x_i - \\bar{x}$|$y_i-\\bar{y}$|$(x_i-\\bar{x})(y_i - \\bar{y})$|$(x_i-\\bar{x})^2$|$(y_i-\\bar{y})^2$|\n",
    "|------|------|---------------|-------------|------------------------------|-----------------|-----------------|\n",
    "|  ??? | ???  |  ?????????    |  ?????????  | ?????????                    | ?????????       | ?????????       |\n",
    "|  ??? | ???  | ?????????     |  ?????????  | ?????????                    | ?????????       | ?????????       |\n",
    "|  ??? | ???  | ?????????     |  ?????????  | ?????????                    | ?????????       | ?????????       |\n",
    "|  ??? | ???  | ?????????     |  ?????????  | ?????????                    | ?????????       | ?????????       |\n",
    "|  ??? | ???  | ?????????     |  ?????????  | ?????????                    | ?????????       | ?????????       |\n",
    "|  ??? | ???  | ?????????     |  ?????????  | ?????????                    | ?????????       | ?????????       |\n",
    "|  ??? | ???  | ?????????     |  ?????????  | ?????????                    | ?????????       | ?????????       |\n",
    "|  ??? | ???  | ?????????     |  ?????????  | ?????????                    | ?????????       | ?????????       |\n",
    "|  ??? | ???  | ?????????     |  ?????????  | ?????????                    | ?????????       | ?????????       |\n",
    "|  ??? | ???  | ?????????     |  ?????????  | ?????????                    | ?????????       | ?????????       |\n",
    "\n"
   ]
  },
  {
   "cell_type": "markdown",
   "metadata": {},
   "source": [
    "Using the cells below follow section 3.2. Feel free to add as many cells as you need to complete all your calculations."
   ]
  },
  {
   "cell_type": "code",
   "execution_count": 166,
   "metadata": {},
   "outputs": [],
   "source": [
    "#round('...',2)"
   ]
  },
  {
   "cell_type": "code",
   "execution_count": null,
   "metadata": {},
   "outputs": [],
   "source": [
    "#round('...',2)"
   ]
  },
  {
   "cell_type": "code",
   "execution_count": null,
   "metadata": {},
   "outputs": [],
   "source": [
    "#round('...',4)"
   ]
  },
  {
   "cell_type": "code",
   "execution_count": 165,
   "metadata": {},
   "outputs": [],
   "source": [
    "#round('...',4)"
   ]
  },
  {
   "cell_type": "markdown",
   "metadata": {},
   "source": [
    "Now that you have filled out the above table we can calculate the remaining:\n",
    "\n",
    "$$A = \\sum_{i=1}^n[(x_i - \\bar{x})(y_i - \\bar{y})]$$\n",
    "$$ B = \\sqrt{\\sum_{i=1}^n (x_i - \\bar{x})^2} $$\n",
    "$$ C = \\sqrt{\\sum_{i=1}^n (y_i - \\bar{y})^2} $$"
   ]
  },
  {
   "cell_type": "markdown",
   "metadata": {},
   "source": [
    "<div class = \"alert alert-info\"><strong>5.3.2</strong> Calculate A</div>"
   ]
  },
  {
   "cell_type": "code",
   "execution_count": 183,
   "metadata": {},
   "outputs": [],
   "source": [
    "#Run this code by pressing 'Shift' + 'Enter'\n",
    "\n",
    "A = np.sum(...)\n",
    "A"
   ]
  },
  {
   "cell_type": "markdown",
   "metadata": {},
   "source": [
    "<div class = \"alert alert-info\"><strong>5.3.3</strong> Calculate B</div>"
   ]
  },
  {
   "cell_type": "code",
   "execution_count": null,
   "metadata": {},
   "outputs": [],
   "source": [
    "#Run this code by pressing 'Shift' + 'Enter'\n",
    "\n",
    "B = np.sqrt(np.sum(...))\n",
    "B"
   ]
  },
  {
   "cell_type": "markdown",
   "metadata": {},
   "source": [
    "<div class = \"alert alert-info\"><strong>5.3.4</strong> Calculate C</div>"
   ]
  },
  {
   "cell_type": "code",
   "execution_count": null,
   "metadata": {},
   "outputs": [],
   "source": [
    "#Run this code by pressing 'Shift' + 'Enter'\n",
    "\n",
    "C = np.sqrt(np.sum(...))\n",
    "C"
   ]
  },
  {
   "cell_type": "markdown",
   "metadata": {},
   "source": [
    "<div class = \"alert alert-info\">\n",
    "<strong>5.4</strong>  With these value now identified, the formula for correlation coefficients can be simplified to:\n",
    "\n",
    "$$ r = \\frac{A}{B \\cdot C}$$\n",
    "\n",
    "\n",
    "Using the values for A, B, and C let's find the value of $r$.</div>\n"
   ]
  },
  {
   "cell_type": "code",
   "execution_count": 181,
   "metadata": {},
   "outputs": [],
   "source": [
    "#Run this code by pressing 'Shift' + 'Enter'\n",
    "\n",
    "r = A/(B*C)\n",
    "r"
   ]
  },
  {
   "cell_type": "markdown",
   "metadata": {},
   "source": [
    "<div class=\"alert alert-info\">  \n",
    "\n",
    "<strong>5.4.1</strong> How does the value of the correlation coefficient, r, confirm or refute your interpretation in\n",
    "question 4.2.1?</div>"
   ]
  },
  {
   "cell_type": "markdown",
   "metadata": {},
   "source": [
    "**Your answer:** Type your answer here"
   ]
  },
  {
   "cell_type": "markdown",
   "metadata": {},
   "source": [
    "<div class=\"alert alert-info\"> \n",
    "    <strong>5.4.2</strong> Does there appear to be a relationship between the unemployment rates for people with a bachelor’s\n",
    "degree or higher and overall unemployment rates? If so, describe this relationship as linear or not\n",
    "linear, as strong or weak, and as positive or negative. </div>"
   ]
  },
  {
   "cell_type": "markdown",
   "metadata": {},
   "source": [
    "**Your answer:** Type your answer here"
   ]
  },
  {
   "cell_type": "markdown",
   "metadata": {},
   "source": [
    "<div class=\"alert alert-info\"> \n",
    "    <strong>5.2.3</strong> Based on what you have learned, would you agree or disagree that achieving higher levels of education\n",
    "makes you more employable? Explain, using specific data and what you have learned from this lesson.\n",
    "     </div>"
   ]
  },
  {
   "cell_type": "markdown",
   "metadata": {},
   "source": [
    "**Your answer:** Type your answer here\n",
    "\n",
    "---"
   ]
  },
  {
   "cell_type": "markdown",
   "metadata": {},
   "source": [
    "**Congratulations!** You just finished Part 3 of this lesson! Make sure to click 'File', then 'Save and Checkpoint' in the upper left-hand corner to save all the hard work you've done!"
   ]
  },
  {
   "cell_type": "markdown",
   "metadata": {},
   "source": [
    "\n",
    "# 6. Part 4 - Draw Conclusions and Review Key Concepts  <a id='6'></a> "
   ]
  },
  {
   "cell_type": "markdown",
   "metadata": {},
   "source": [
    "<div class=\"alert alert-info\"> \n",
    "    <strong>6.1</strong> What conclusions can you draw from your and your classmates’ investigations? Consider how the\n",
    "percentage of unemployed people at a given education level relates to the overall unemployment rate for a\n",
    "set of states, regions, or divisions. </div>\n",
    "\n"
   ]
  },
  {
   "cell_type": "markdown",
   "metadata": {},
   "source": [
    "**Your answer:** Type your answer here"
   ]
  },
  {
   "cell_type": "markdown",
   "metadata": {},
   "source": [
    "<div class=\"alert alert-info\"> \n",
    "    <strong>6.2</strong> Think back to the predictions you made before the activity. How accurate were they? Explain. </div>\n"
   ]
  },
  {
   "cell_type": "markdown",
   "metadata": {},
   "source": [
    "**Your answer:** Type your answer here"
   ]
  },
  {
   "cell_type": "markdown",
   "metadata": {},
   "source": [
    "<div class=\"alert alert-info\"> \n",
    "<strong>6.3</strong> What is a correlation coefficient, and what can it tell you about the relationship between two variables?\n",
    "</div>"
   ]
  },
  {
   "cell_type": "markdown",
   "metadata": {},
   "source": [
    "**Your answer:** Type your answer here"
   ]
  },
  {
   "cell_type": "markdown",
   "metadata": {},
   "source": [
    "<div class=\"alert alert-info\"> \n",
    "    <strong>6.4</strong> Explain how to determine whether a data point on a scatter plot is influential. </div>"
   ]
  },
  {
   "cell_type": "markdown",
   "metadata": {},
   "source": [
    "**Your answer:** Type your answer here\n",
    "\n",
    "---"
   ]
  },
  {
   "cell_type": "markdown",
   "metadata": {},
   "source": [
    "**Congratulations!** You just finished this lesson! Make sure to click 'File', then 'Save and Checkpoint' in the upper left-hand corner to save all the hard work you've done!\n",
    "\n",
    "\n",
    "Now you know how to analyze state and regional unemployment data by creating scatter plots and calculating correlation coefficients.\n",
    "\n",
    "You can now: \n",
    "1. understand state and regional unemployment data.\n",
    "2. plot scatter plots and calculate correlation coefficients\n",
    "3. assess the strength of a linear relationship using correlation coefficients. "
   ]
  },
  {
   "cell_type": "markdown",
   "metadata": {},
   "source": [
    "---\n",
    "## 7. Bibliography <a id='7'></a> \n",
    "\n",
    "**Notebook developed by:** Jarelly Martin\n",
    "\n",
    "**Date:** Nov 25, 2019\n",
    "\n",
    "**Using:** https://www.census.gov/programs-surveys/sis/activities/math/applying-correlation-coefficients.html \n",
    "\n",
    "**Suggested Grade Level:** 9-12\n",
    "\n",
    "**Data Science Discovery Program:** http://data.berkeley.edu/education/module"
   ]
  }
 ],
 "metadata": {
  "kernelspec": {
   "display_name": "Python 3",
   "language": "python",
   "name": "python3"
  },
  "language_info": {
   "codemirror_mode": {
    "name": "ipython",
    "version": 3
   },
   "file_extension": ".py",
   "mimetype": "text/x-python",
   "name": "python",
   "nbconvert_exporter": "python",
   "pygments_lexer": "ipython3",
   "version": "3.6.8"
  }
 },
 "nbformat": 4,
 "nbformat_minor": 2
}
