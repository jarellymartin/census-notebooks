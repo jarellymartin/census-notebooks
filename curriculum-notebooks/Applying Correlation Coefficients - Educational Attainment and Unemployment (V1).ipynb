{
 "cells": [
  {
   "cell_type": "markdown",
   "metadata": {},
   "source": [
    "# Applying Correlation Coefficients - Educational Attainment and Unemployement \n",
    "---\n",
    "\n",
    "THIS NOTEBOOK FOCUSES ON...\n",
    "\n",
    "---\n",
    "\n",
    "\n",
    "### Topics Covered\n",
    "- Educational attainment\n",
    "- Correlation coefficients\n",
    "- Influential points\n",
    "- Scatter plots\n",
    "\n",
    "### Table of Contents\n",
    "\n",
    "[Overwiew](#overwiew)<br>\n",
    "\n",
    "\n",
    "1 - [Why the Census](#1)<br>\n",
    "\n",
    "&nbsp;&nbsp;&nbsp;&nbsp;&nbsp;&nbsp; 1.1 - [How is the data used?](#s1.1)\n",
    "\n",
    "&nbsp;&nbsp;&nbsp;&nbsp;&nbsp;&nbsp; 1.2 - [Census and Congresional Represenation](#s1.2)\n",
    "\n",
    "2 - [Vocabulary](#2)<br>\n",
    "\n",
    "3 - [Part I](#3)<br>\n",
    "\n",
    "&nbsp;&nbsp;&nbsp;&nbsp;&nbsp;&nbsp; 3.1 - [Apply What You've Learned](#s3.1)\n",
    "\n",
    "&nbsp;&nbsp;&nbsp;&nbsp;&nbsp;&nbsp; 3.2 - [Determine and Explain Negative and Positive Associations](#s3.2)\n",
    "\n",
    "4 - [Bibliography](#4)<br>\n",
    "\n",
    "---"
   ]
  },
  {
   "cell_type": "markdown",
   "metadata": {},
   "source": [
    "## Overview <a id='overwiew'></a>\n",
    "\n",
    "ADD STUFF HERE"
   ]
  },
  {
   "cell_type": "markdown",
   "metadata": {},
   "source": [
    "---"
   ]
  },
  {
   "cell_type": "code",
   "execution_count": 102,
   "metadata": {},
   "outputs": [],
   "source": [
    "#Press 'Shift' + 'Enter' to run this code! It will help load graphs & charts that this lesson has!\n",
    "\n",
    "import numpy as np\n",
    "import pandas as pd\n",
    "import matplotlib.pyplot as plt\n",
    "from IPython.display import Image\n",
    "\n",
    "#from censusnotebooks import widgets, visualization"
   ]
  },
  {
   "cell_type": "markdown",
   "metadata": {},
   "source": [
    "**Tip**: When you're done reading each part of this lesson, press the **'Shift' + 'Enter' keys at the same time** to quickly move through each 'cell' and run the code! \n",
    "\n",
    "---"
   ]
  },
  {
   "cell_type": "markdown",
   "metadata": {},
   "source": [
    "# 1. Why the Census? <a id='1'></a>\n",
    "\n",
    "<div class=\"alert alert-info\">\n",
    "<b> Question:</b>\n",
    "<!--But before we dive in, let's answer a question you might have:--> Why are we learning about statistics through Census data? In fact, why do we even care about the Census in the first place?\n",
    "</div>"
   ]
  },
  {
   "cell_type": "markdown",
   "metadata": {},
   "source": [
    "Depending on how old you are, you might or might not have watched your family or guardian fill out a long form about a decade ago that had some specific, slightly invasive questions like: \n",
    "1. How many people live or stay in this house, apartment, or mobile home?\n",
    "2. What is the name of the person who owns this house, apartment, or mobile home?\n",
    "3. How old is the person who owns this house, apartment, or mobile home? When is his or her birthday?"
   ]
  },
  {
   "cell_type": "markdown",
   "metadata": {},
   "source": [
    "## 1.1 How is the Data Used?<a id='s1.1'></a>\n",
    "\n",
    "The census form is a way for the government to get a good idea as to **who** it is serving, which is: **YOU!** The government uses data it gets from this nation-wide Census to determine funding distributions across U.S. communities, as well as understand where community services are needed and how to implement them. Because of the Census, your neighborhood and city can improve education and transportation, promote public health, and use given money to make improvements. More services can be given to the elderly, new roads and schools can be built, and more job training centers can be maintained and established. *Everyone* benefits."
   ]
  },
  {
   "cell_type": "markdown",
   "metadata": {},
   "source": [
    "## 1.2 Census and Congresional Represenation <a id='s1.2'></a>\n",
    "\n",
    "The amount of representation that your state has changes within Congress (in the U.S. House of Representatives) every ten years, when the Census is distributed. The voices of those vouching for your state's well-being in Congress could change or stay the same. Additionally, the representative (or \"voice\") representing your community in local, state, and federal governments could change, because district lines are redrawn every time. Members of Congress, state legislators, and many county and municipal offices are elected by voters grouped into districts, and you could be voting for different people depending on how these lines are drawn. These representatives are your spokespeople - their job is to listen to your needs and support government policies that will help your community!  \n",
    "\n",
    "\n",
    "For more information, check out this document [here](https://www2.census.gov/programs-surveys/sis/resources/census101.pdf), designed to inform students like you on why the Census is so important! And for more reading on the confusing topic of re-districting, read [here](https://www.brennancenter.org/analysis/7-things-know-about-redistricting). \n",
    "\n",
    "---"
   ]
  },
  {
   "cell_type": "markdown",
   "metadata": {},
   "source": [
    "# 2. Part 1 - Consider the Data\n",
    "\n",
    "Examine Item 1: Unemployment Rates by Educational Attainment, 2014. ADD MORE DETAIL HERE LATER"
   ]
  },
  {
   "cell_type": "code",
   "execution_count": 103,
   "metadata": {},
   "outputs": [],
   "source": [
    "data = {'State”':['Alabama', 'Alaska', 'Arizona', 'Arkansas', 'California', 'Colorado', 'Connecticut', 'Delaware', 'District of Columbia', 'Florida', 'Georgia', 'Hawaii', 'Idaho', 'Illinois', 'Indiana','Iowa', 'Kansas', 'Kentucky', 'Louisiana', 'Maine', 'Maryland',\n",
    "       'Massachusetts', 'Michigan', 'Minnesota', 'Mississippi','Missouri', 'Montana', 'Nebraska', 'Nevada', 'New Hampshire', 'New Jersey', 'New Mexico', 'New York', 'North Carolina','North Dakota', 'Ohio', 'Oklahoma', 'Oregon', 'Pennsylvania',\n",
    "       'Rhode Island', 'South Carolina', 'South Dakota', 'Tennessee','Texas', 'Utah', 'Vermont', 'Virginia', 'Washington','West Virginia', 'Wisconsin', 'Wyoming', 'Puerto Rico'], \"Overall(%)\": ['6.9', '6.7', '6.7', '5.7', '7.1', '4.3', '6.6', '5.8', '7.7',\n",
    "       '6.9', '6.6', '4.4', '4.5', '6.7', '5.7', '3.4', '4.2', '6.3', '6.0', '5.0', '6.0', '5.8', '6.8', '3.8', '7.7', '5.7', '4.0','3.2', '7.7', '4.3', '6.4', '7.3', '6.0', '6.7', '2.4', '5.8', '4.5', '6.7', '5.7', '6.6', '6.5', '3.0', '6.3', '4.8', '3.9', '4.7', '4.8', '5.1', '5.8', '4.5', '3.9', '15.2'], \"Less Than High School Graduate (%)\":['13.7', '14.0', '10.7', '10.6', '10.1', '7.5', '13.9', '9.5','14.6', '12.1', '12.1', '9.0', '8.9', '12.4', '11.9', '9.5', '8.3','13.7', '12.4', '11.1', '12.7', '11.9', '16.8', '9.4', '17.3',\n",
    "       '14.3', '10.0', '8.4', '9.8', '8.3', '10.4', '13.6', '10.2', '13.2', '7.8', '15.5', '9.2', '13.7', '13.1', '12.5', '16.2','8.6', '14.3', '6.5', '5.7', '12.0', '9.3', '9.0', '13.1', '10.5','12.8', '30.3'], \"High School Graduate or Equivalent (%)\":['8.9', '12.0', '9.0', '7.6', '9.3', '5.4', '9.0', '8.4', '17.6', '8.7', '8.4', '6.0', '5.6', '9.1', '7.4', '4.8', '5.9', '7.9', '6.6', '7.0', '8.1', '8.6', '9.1', '5.6', '9.3', '7.5', '5.8', '4.5', '9.4', '6.2', '8.6', '9.1', '7.8', '9.1', '3.2', '7.0','5.5', '8.5', '7.0', '9.7', '8.3', '3.8', '8.0', '6.2', '6.1',\n",
    "       '7.2', '6.2', '6.3', '7.0', '5.5', '4.5', '20.3'],  \"Some College Eduation or Associate's Degree (%)\":  ['6.6', '5.8', '6.7', '5.2', '7.5', '4.7', '7.1', '6.2', '14.6', '6.5', '7.1', '4.7', '4.4', '7.3', '5.5', '3.2', '4.3', '5.8','5.8', '5.2', '6.6', '6.6', '6.7', '3.6', '7.1', '5.6', '4.1','2.8', '7.4', '4.5', '7.0', '7.4', '6.4', '6.5', '2.2', '5.9',\n",
    "       '4.4', '6.6', '6.0', '6.5', '5.9', '2.9', '5.5', '4.9', '3.9', '4.9', '5.3', '5.3', '5.9', '4.6', '3.3', '14.3'], \"Bachelor's Degree or Higher (%)\": ['3.1', '2.0', '3.6', '2.2', '4.4', '2.9', '3.8', '2.6', '3.1','4.3', '3.4', '2.2', '2.4', '3.5', '2.5', '1.4', '2.1', '3.1', '3.2', '2.3', '3.4', '3.3', '3.4', '2.2', '3.1', '2.8', '1.6', '1.8', '4.9', '2.5', '4.1', '3.1', '3.7', '3.4', '1.4', '2.6',\n",
    "       '2.0', '4.0', '3.1', '3.0', '2.7', '1.6', '3.2', '3.0', '2.0','1.9', '3.1', '3.5', '2.3', '2.4', '2.4', '8.0'] } \n",
    "unemployment = pd.DataFrame(data)"
   ]
  },
  {
   "cell_type": "markdown",
   "metadata": {},
   "source": [
    "1. What is one thing you notice? Which data values catch your attention?\n"
   ]
  },
  {
   "cell_type": "markdown",
   "metadata": {},
   "source": [
    "2. Write one question about the data that you could investigate?"
   ]
  },
  {
   "cell_type": "code",
   "execution_count": null,
   "metadata": {},
   "outputs": [],
   "source": []
  }
 ],
 "metadata": {
  "kernelspec": {
   "display_name": "Python 3",
   "language": "python",
   "name": "python3"
  },
  "language_info": {
   "codemirror_mode": {
    "name": "ipython",
    "version": 3
   },
   "file_extension": ".py",
   "mimetype": "text/x-python",
   "name": "python",
   "nbconvert_exporter": "python",
   "pygments_lexer": "ipython3",
   "version": "3.6.8"
  }
 },
 "nbformat": 4,
 "nbformat_minor": 2
}
