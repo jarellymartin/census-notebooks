{
 "cells": [
  {
   "cell_type": "markdown",
   "metadata": {},
   "source": [
    "# Applying Correlation Coefficients - Educational Attainment and Unemployement \n",
    "---\n",
    "\n",
    "THIS NOTEBOOK FOCUSES ON...\n",
    "\n",
    "---\n",
    "\n",
    "\n",
    "### Topics Covered\n",
    "- Educational attainment\n",
    "- Correlation coefficients\n",
    "- Influential points\n",
    "- Scatter plots\n",
    "\n",
    "### Table of Contents\n",
    "\n",
    "[Overwiew](#overwiew)<br>\n",
    "\n",
    "\n",
    "1 - [Why the Census](#1)<br>\n",
    "\n",
    "&nbsp;&nbsp;&nbsp;&nbsp;&nbsp;&nbsp; 1.1 - [How is the data used?](#s1.1)\n",
    "\n",
    "&nbsp;&nbsp;&nbsp;&nbsp;&nbsp;&nbsp; 1.2 - [Census and Congresional Represenation](#s1.2)\n",
    "\n",
    "2 - [Vocabulary](#2)<br>\n",
    "\n",
    "3 - [Part I](#3)<br>\n",
    "\n",
    "&nbsp;&nbsp;&nbsp;&nbsp;&nbsp;&nbsp; 3.1 - [Apply What You've Learned](#s3.1)\n",
    "\n",
    "&nbsp;&nbsp;&nbsp;&nbsp;&nbsp;&nbsp; 3.2 - [Determine and Explain Negative and Positive Associations](#s3.2)\n",
    "\n",
    "4 - [Bibliography](#4)<br>\n",
    "\n",
    "---"
   ]
  },
  {
   "cell_type": "markdown",
   "metadata": {},
   "source": [
    "## Overview <a id='overwiew'></a>\n",
    "\n",
    "ADD STUFF HERE"
   ]
  },
  {
   "cell_type": "markdown",
   "metadata": {},
   "source": [
    "---"
   ]
  },
  {
   "cell_type": "code",
   "execution_count": 4,
   "metadata": {},
   "outputs": [],
   "source": [
    "#Press 'Shift' + 'Enter' to run this code! It will help load graphs & charts that this lesson has!\n",
    "\n",
    "import numpy as np\n",
    "import pandas as pd\n",
    "import matplotlib.pyplot as plt\n",
    "from IPython.display import Image\n",
    "\n",
    "#from censusnotebooks import widgets, visualization"
   ]
  },
  {
   "cell_type": "markdown",
   "metadata": {},
   "source": [
    "**Tip**: When you're done reading each part of this lesson, press the **'Shift' + 'Enter' keys at the same time** to quickly move through each 'cell' and run the code! \n",
    "\n",
    "---"
   ]
  },
  {
   "cell_type": "markdown",
   "metadata": {},
   "source": [
    "# 1. Why the Census? <a id='1'></a>\n",
    "\n",
    "<div class=\"alert alert-info\">\n",
    "<b> Question:</b>\n",
    "<!--But before we dive in, let's answer a question you might have:--> Why are we learning about statistics through Census data? In fact, why do we even care about the Census in the first place?\n",
    "</div>"
   ]
  },
  {
   "cell_type": "markdown",
   "metadata": {},
   "source": [
    "Depending on how old you are, you might or might not have watched your family or guardian fill out a long form about a decade ago that had some specific, slightly invasive questions like: \n",
    "1. How many people live or stay in this house, apartment, or mobile home?\n",
    "2. What is the name of the person who owns this house, apartment, or mobile home?\n",
    "3. How old is the person who owns this house, apartment, or mobile home? When is his or her birthday?"
   ]
  },
  {
   "cell_type": "markdown",
   "metadata": {},
   "source": [
    "## 1.1 How is the Data Used?<a id='s1.1'></a>\n",
    "\n",
    "The census form is a way for the government to get a good idea as to **who** it is serving, which is: **YOU!** The government uses data it gets from this nation-wide Census to determine funding distributions across U.S. communities, as well as understand where community services are needed and how to implement them. Because of the Census, your neighborhood and city can improve education and transportation, promote public health, and use given money to make improvements. More services can be given to the elderly, new roads and schools can be built, and more job training centers can be maintained and established. *Everyone* benefits."
   ]
  },
  {
   "cell_type": "markdown",
   "metadata": {},
   "source": [
    "## 1.2 Census and Congresional Represenation <a id='s1.2'></a>\n",
    "\n",
    "The amount of representation that your state has changes within Congress (in the U.S. House of Representatives) every ten years, when the Census is distributed. The voices of those vouching for your state's well-being in Congress could change or stay the same. Additionally, the representative (or \"voice\") representing your community in local, state, and federal governments could change, because district lines are redrawn every time. Members of Congress, state legislators, and many county and municipal offices are elected by voters grouped into districts, and you could be voting for different people depending on how these lines are drawn. These representatives are your spokespeople - their job is to listen to your needs and support government policies that will help your community!  \n",
    "\n",
    "\n",
    "For more information, check out this document [here](https://www2.census.gov/programs-surveys/sis/resources/census101.pdf), designed to inform students like you on why the Census is so important! And for more reading on the confusing topic of re-districting, read [here](https://www.brennancenter.org/analysis/7-things-know-about-redistricting). \n",
    "\n",
    "---"
   ]
  },
  {
   "cell_type": "markdown",
   "metadata": {},
   "source": [
    "# 2. Part 1 - Consider the Data\n",
    "\n",
    "Examine Item 1: Unemployment Rates by Educational Attainment, 2014. ADD MORE DETAIL HERE LATER"
   ]
  },
  {
   "cell_type": "code",
   "execution_count": 17,
   "metadata": {},
   "outputs": [
    {
     "data": {
      "text/html": [
       "<div>\n",
       "<style scoped>\n",
       "    .dataframe tbody tr th:only-of-type {\n",
       "        vertical-align: middle;\n",
       "    }\n",
       "\n",
       "    .dataframe tbody tr th {\n",
       "        vertical-align: top;\n",
       "    }\n",
       "\n",
       "    .dataframe thead th {\n",
       "        text-align: right;\n",
       "    }\n",
       "</style>\n",
       "<table border=\"1\" class=\"dataframe\">\n",
       "  <thead>\n",
       "    <tr style=\"text-align: right;\">\n",
       "      <th></th>\n",
       "      <th>State</th>\n",
       "      <th>Overall(%)</th>\n",
       "      <th>Less Than High School Graduate (%)</th>\n",
       "      <th>High School Graduate or Equivalent (%)</th>\n",
       "      <th>Some College Eduation or Associate's Degree (%)</th>\n",
       "      <th>Bachelor's Degree or Higher (%)</th>\n",
       "    </tr>\n",
       "  </thead>\n",
       "  <tbody>\n",
       "    <tr>\n",
       "      <th>0</th>\n",
       "      <td>Alabama</td>\n",
       "      <td>6.9</td>\n",
       "      <td>13.7</td>\n",
       "      <td>8.9</td>\n",
       "      <td>6.6</td>\n",
       "      <td>3.1</td>\n",
       "    </tr>\n",
       "    <tr>\n",
       "      <th>1</th>\n",
       "      <td>Alaska</td>\n",
       "      <td>6.7</td>\n",
       "      <td>14.0</td>\n",
       "      <td>12.0</td>\n",
       "      <td>5.8</td>\n",
       "      <td>2.0</td>\n",
       "    </tr>\n",
       "    <tr>\n",
       "      <th>2</th>\n",
       "      <td>Arizona</td>\n",
       "      <td>6.7</td>\n",
       "      <td>10.7</td>\n",
       "      <td>9.0</td>\n",
       "      <td>6.7</td>\n",
       "      <td>3.6</td>\n",
       "    </tr>\n",
       "    <tr>\n",
       "      <th>3</th>\n",
       "      <td>Arkansas</td>\n",
       "      <td>5.7</td>\n",
       "      <td>10.6</td>\n",
       "      <td>7.6</td>\n",
       "      <td>5.2</td>\n",
       "      <td>2.2</td>\n",
       "    </tr>\n",
       "    <tr>\n",
       "      <th>4</th>\n",
       "      <td>California</td>\n",
       "      <td>7.1</td>\n",
       "      <td>10.1</td>\n",
       "      <td>9.3</td>\n",
       "      <td>7.5</td>\n",
       "      <td>4.4</td>\n",
       "    </tr>\n",
       "    <tr>\n",
       "      <th>5</th>\n",
       "      <td>Colorado</td>\n",
       "      <td>4.3</td>\n",
       "      <td>7.5</td>\n",
       "      <td>5.4</td>\n",
       "      <td>4.7</td>\n",
       "      <td>2.9</td>\n",
       "    </tr>\n",
       "    <tr>\n",
       "      <th>6</th>\n",
       "      <td>Connecticut</td>\n",
       "      <td>6.6</td>\n",
       "      <td>13.9</td>\n",
       "      <td>9.0</td>\n",
       "      <td>7.1</td>\n",
       "      <td>3.8</td>\n",
       "    </tr>\n",
       "    <tr>\n",
       "      <th>7</th>\n",
       "      <td>Delaware</td>\n",
       "      <td>5.8</td>\n",
       "      <td>9.5</td>\n",
       "      <td>8.4</td>\n",
       "      <td>6.2</td>\n",
       "      <td>2.6</td>\n",
       "    </tr>\n",
       "    <tr>\n",
       "      <th>8</th>\n",
       "      <td>District of Columbia</td>\n",
       "      <td>7.7</td>\n",
       "      <td>14.6</td>\n",
       "      <td>17.6</td>\n",
       "      <td>14.6</td>\n",
       "      <td>3.1</td>\n",
       "    </tr>\n",
       "    <tr>\n",
       "      <th>9</th>\n",
       "      <td>Florida</td>\n",
       "      <td>6.9</td>\n",
       "      <td>12.1</td>\n",
       "      <td>8.7</td>\n",
       "      <td>6.5</td>\n",
       "      <td>4.3</td>\n",
       "    </tr>\n",
       "    <tr>\n",
       "      <th>10</th>\n",
       "      <td>Georgia</td>\n",
       "      <td>6.6</td>\n",
       "      <td>12.1</td>\n",
       "      <td>8.4</td>\n",
       "      <td>7.1</td>\n",
       "      <td>3.4</td>\n",
       "    </tr>\n",
       "    <tr>\n",
       "      <th>11</th>\n",
       "      <td>Hawaii</td>\n",
       "      <td>4.4</td>\n",
       "      <td>9.0</td>\n",
       "      <td>6.0</td>\n",
       "      <td>4.7</td>\n",
       "      <td>2.2</td>\n",
       "    </tr>\n",
       "    <tr>\n",
       "      <th>12</th>\n",
       "      <td>Idaho</td>\n",
       "      <td>4.5</td>\n",
       "      <td>8.9</td>\n",
       "      <td>5.6</td>\n",
       "      <td>4.4</td>\n",
       "      <td>2.4</td>\n",
       "    </tr>\n",
       "    <tr>\n",
       "      <th>13</th>\n",
       "      <td>Illinois</td>\n",
       "      <td>6.7</td>\n",
       "      <td>12.4</td>\n",
       "      <td>9.1</td>\n",
       "      <td>7.3</td>\n",
       "      <td>3.5</td>\n",
       "    </tr>\n",
       "    <tr>\n",
       "      <th>14</th>\n",
       "      <td>Indiana</td>\n",
       "      <td>5.7</td>\n",
       "      <td>11.9</td>\n",
       "      <td>7.4</td>\n",
       "      <td>5.5</td>\n",
       "      <td>2.5</td>\n",
       "    </tr>\n",
       "    <tr>\n",
       "      <th>15</th>\n",
       "      <td>Iowa</td>\n",
       "      <td>3.4</td>\n",
       "      <td>9.5</td>\n",
       "      <td>4.8</td>\n",
       "      <td>3.2</td>\n",
       "      <td>1.4</td>\n",
       "    </tr>\n",
       "    <tr>\n",
       "      <th>16</th>\n",
       "      <td>Kansas</td>\n",
       "      <td>4.2</td>\n",
       "      <td>8.3</td>\n",
       "      <td>5.9</td>\n",
       "      <td>4.3</td>\n",
       "      <td>2.1</td>\n",
       "    </tr>\n",
       "    <tr>\n",
       "      <th>17</th>\n",
       "      <td>Kentucky</td>\n",
       "      <td>6.3</td>\n",
       "      <td>13.7</td>\n",
       "      <td>7.9</td>\n",
       "      <td>5.8</td>\n",
       "      <td>3.1</td>\n",
       "    </tr>\n",
       "    <tr>\n",
       "      <th>18</th>\n",
       "      <td>Louisiana</td>\n",
       "      <td>6.0</td>\n",
       "      <td>12.4</td>\n",
       "      <td>6.6</td>\n",
       "      <td>5.8</td>\n",
       "      <td>3.2</td>\n",
       "    </tr>\n",
       "    <tr>\n",
       "      <th>19</th>\n",
       "      <td>Maine</td>\n",
       "      <td>5.0</td>\n",
       "      <td>11.1</td>\n",
       "      <td>7.0</td>\n",
       "      <td>5.2</td>\n",
       "      <td>2.3</td>\n",
       "    </tr>\n",
       "    <tr>\n",
       "      <th>20</th>\n",
       "      <td>Maryland</td>\n",
       "      <td>6.0</td>\n",
       "      <td>12.7</td>\n",
       "      <td>8.1</td>\n",
       "      <td>6.6</td>\n",
       "      <td>3.4</td>\n",
       "    </tr>\n",
       "    <tr>\n",
       "      <th>21</th>\n",
       "      <td>Massachusetts</td>\n",
       "      <td>5.8</td>\n",
       "      <td>11.9</td>\n",
       "      <td>8.6</td>\n",
       "      <td>6.6</td>\n",
       "      <td>3.3</td>\n",
       "    </tr>\n",
       "    <tr>\n",
       "      <th>22</th>\n",
       "      <td>Michigan</td>\n",
       "      <td>6.8</td>\n",
       "      <td>16.8</td>\n",
       "      <td>9.1</td>\n",
       "      <td>6.7</td>\n",
       "      <td>3.4</td>\n",
       "    </tr>\n",
       "    <tr>\n",
       "      <th>23</th>\n",
       "      <td>Minnesota</td>\n",
       "      <td>3.8</td>\n",
       "      <td>9.4</td>\n",
       "      <td>5.6</td>\n",
       "      <td>3.6</td>\n",
       "      <td>2.2</td>\n",
       "    </tr>\n",
       "    <tr>\n",
       "      <th>24</th>\n",
       "      <td>Mississippi</td>\n",
       "      <td>7.7</td>\n",
       "      <td>17.3</td>\n",
       "      <td>9.3</td>\n",
       "      <td>7.1</td>\n",
       "      <td>3.1</td>\n",
       "    </tr>\n",
       "    <tr>\n",
       "      <th>25</th>\n",
       "      <td>Missouri</td>\n",
       "      <td>5.7</td>\n",
       "      <td>14.3</td>\n",
       "      <td>7.5</td>\n",
       "      <td>5.6</td>\n",
       "      <td>2.8</td>\n",
       "    </tr>\n",
       "    <tr>\n",
       "      <th>26</th>\n",
       "      <td>Montana</td>\n",
       "      <td>4.0</td>\n",
       "      <td>10.0</td>\n",
       "      <td>5.8</td>\n",
       "      <td>4.1</td>\n",
       "      <td>1.6</td>\n",
       "    </tr>\n",
       "    <tr>\n",
       "      <th>27</th>\n",
       "      <td>Nebraska</td>\n",
       "      <td>3.2</td>\n",
       "      <td>8.4</td>\n",
       "      <td>4.5</td>\n",
       "      <td>2.8</td>\n",
       "      <td>1.8</td>\n",
       "    </tr>\n",
       "    <tr>\n",
       "      <th>28</th>\n",
       "      <td>Nevada</td>\n",
       "      <td>7.7</td>\n",
       "      <td>9.8</td>\n",
       "      <td>9.4</td>\n",
       "      <td>7.4</td>\n",
       "      <td>4.9</td>\n",
       "    </tr>\n",
       "    <tr>\n",
       "      <th>29</th>\n",
       "      <td>New Hampshire</td>\n",
       "      <td>4.3</td>\n",
       "      <td>8.3</td>\n",
       "      <td>6.2</td>\n",
       "      <td>4.5</td>\n",
       "      <td>2.5</td>\n",
       "    </tr>\n",
       "    <tr>\n",
       "      <th>30</th>\n",
       "      <td>New Jersey</td>\n",
       "      <td>6.4</td>\n",
       "      <td>10.4</td>\n",
       "      <td>8.6</td>\n",
       "      <td>7.0</td>\n",
       "      <td>4.1</td>\n",
       "    </tr>\n",
       "    <tr>\n",
       "      <th>31</th>\n",
       "      <td>New Mexico</td>\n",
       "      <td>7.3</td>\n",
       "      <td>13.6</td>\n",
       "      <td>9.1</td>\n",
       "      <td>7.4</td>\n",
       "      <td>3.1</td>\n",
       "    </tr>\n",
       "    <tr>\n",
       "      <th>32</th>\n",
       "      <td>New York</td>\n",
       "      <td>6.0</td>\n",
       "      <td>10.2</td>\n",
       "      <td>7.8</td>\n",
       "      <td>6.4</td>\n",
       "      <td>3.7</td>\n",
       "    </tr>\n",
       "    <tr>\n",
       "      <th>33</th>\n",
       "      <td>North Carolina</td>\n",
       "      <td>6.7</td>\n",
       "      <td>13.2</td>\n",
       "      <td>9.1</td>\n",
       "      <td>6.5</td>\n",
       "      <td>3.4</td>\n",
       "    </tr>\n",
       "    <tr>\n",
       "      <th>34</th>\n",
       "      <td>North Dakota</td>\n",
       "      <td>2.4</td>\n",
       "      <td>7.8</td>\n",
       "      <td>3.2</td>\n",
       "      <td>2.2</td>\n",
       "      <td>1.4</td>\n",
       "    </tr>\n",
       "    <tr>\n",
       "      <th>35</th>\n",
       "      <td>Ohio</td>\n",
       "      <td>5.8</td>\n",
       "      <td>15.5</td>\n",
       "      <td>7.0</td>\n",
       "      <td>5.9</td>\n",
       "      <td>2.6</td>\n",
       "    </tr>\n",
       "    <tr>\n",
       "      <th>36</th>\n",
       "      <td>Oklahoma</td>\n",
       "      <td>4.5</td>\n",
       "      <td>9.2</td>\n",
       "      <td>5.5</td>\n",
       "      <td>4.4</td>\n",
       "      <td>2.0</td>\n",
       "    </tr>\n",
       "    <tr>\n",
       "      <th>37</th>\n",
       "      <td>Oregon</td>\n",
       "      <td>6.7</td>\n",
       "      <td>13.7</td>\n",
       "      <td>8.5</td>\n",
       "      <td>6.6</td>\n",
       "      <td>4.0</td>\n",
       "    </tr>\n",
       "    <tr>\n",
       "      <th>38</th>\n",
       "      <td>Pennsylvania</td>\n",
       "      <td>5.7</td>\n",
       "      <td>13.1</td>\n",
       "      <td>7.0</td>\n",
       "      <td>6.0</td>\n",
       "      <td>3.1</td>\n",
       "    </tr>\n",
       "    <tr>\n",
       "      <th>39</th>\n",
       "      <td>Rhode Island</td>\n",
       "      <td>6.6</td>\n",
       "      <td>12.5</td>\n",
       "      <td>9.7</td>\n",
       "      <td>6.5</td>\n",
       "      <td>3.0</td>\n",
       "    </tr>\n",
       "    <tr>\n",
       "      <th>40</th>\n",
       "      <td>South Carolina</td>\n",
       "      <td>6.5</td>\n",
       "      <td>16.2</td>\n",
       "      <td>8.3</td>\n",
       "      <td>5.9</td>\n",
       "      <td>2.7</td>\n",
       "    </tr>\n",
       "    <tr>\n",
       "      <th>41</th>\n",
       "      <td>South Dakota</td>\n",
       "      <td>3.0</td>\n",
       "      <td>8.6</td>\n",
       "      <td>3.8</td>\n",
       "      <td>2.9</td>\n",
       "      <td>1.6</td>\n",
       "    </tr>\n",
       "    <tr>\n",
       "      <th>42</th>\n",
       "      <td>Tennessee</td>\n",
       "      <td>6.3</td>\n",
       "      <td>14.3</td>\n",
       "      <td>8.0</td>\n",
       "      <td>5.5</td>\n",
       "      <td>3.2</td>\n",
       "    </tr>\n",
       "    <tr>\n",
       "      <th>43</th>\n",
       "      <td>Texas</td>\n",
       "      <td>4.8</td>\n",
       "      <td>6.5</td>\n",
       "      <td>6.2</td>\n",
       "      <td>4.9</td>\n",
       "      <td>3.0</td>\n",
       "    </tr>\n",
       "    <tr>\n",
       "      <th>44</th>\n",
       "      <td>Utah</td>\n",
       "      <td>3.9</td>\n",
       "      <td>5.7</td>\n",
       "      <td>6.1</td>\n",
       "      <td>3.9</td>\n",
       "      <td>2.0</td>\n",
       "    </tr>\n",
       "    <tr>\n",
       "      <th>45</th>\n",
       "      <td>Vermont</td>\n",
       "      <td>4.7</td>\n",
       "      <td>12.0</td>\n",
       "      <td>7.2</td>\n",
       "      <td>4.9</td>\n",
       "      <td>1.9</td>\n",
       "    </tr>\n",
       "    <tr>\n",
       "      <th>46</th>\n",
       "      <td>Virginia</td>\n",
       "      <td>4.8</td>\n",
       "      <td>9.3</td>\n",
       "      <td>6.2</td>\n",
       "      <td>5.3</td>\n",
       "      <td>3.1</td>\n",
       "    </tr>\n",
       "    <tr>\n",
       "      <th>47</th>\n",
       "      <td>Washington</td>\n",
       "      <td>5.1</td>\n",
       "      <td>9.0</td>\n",
       "      <td>6.3</td>\n",
       "      <td>5.3</td>\n",
       "      <td>3.5</td>\n",
       "    </tr>\n",
       "    <tr>\n",
       "      <th>48</th>\n",
       "      <td>West Virginia</td>\n",
       "      <td>5.8</td>\n",
       "      <td>13.1</td>\n",
       "      <td>7.0</td>\n",
       "      <td>5.9</td>\n",
       "      <td>2.3</td>\n",
       "    </tr>\n",
       "    <tr>\n",
       "      <th>49</th>\n",
       "      <td>Wisconsin</td>\n",
       "      <td>4.5</td>\n",
       "      <td>10.5</td>\n",
       "      <td>5.5</td>\n",
       "      <td>4.6</td>\n",
       "      <td>2.4</td>\n",
       "    </tr>\n",
       "    <tr>\n",
       "      <th>50</th>\n",
       "      <td>Wyoming</td>\n",
       "      <td>3.9</td>\n",
       "      <td>12.8</td>\n",
       "      <td>4.5</td>\n",
       "      <td>3.3</td>\n",
       "      <td>2.4</td>\n",
       "    </tr>\n",
       "    <tr>\n",
       "      <th>51</th>\n",
       "      <td>Puerto Rico</td>\n",
       "      <td>15.2</td>\n",
       "      <td>30.3</td>\n",
       "      <td>20.3</td>\n",
       "      <td>14.3</td>\n",
       "      <td>8.0</td>\n",
       "    </tr>\n",
       "  </tbody>\n",
       "</table>\n",
       "</div>"
      ],
      "text/plain": [
       "                   State Overall(%) Less Than High School Graduate (%)  \\\n",
       "0                Alabama        6.9                               13.7   \n",
       "1                 Alaska        6.7                               14.0   \n",
       "2                Arizona        6.7                               10.7   \n",
       "3               Arkansas        5.7                               10.6   \n",
       "4             California        7.1                               10.1   \n",
       "5               Colorado        4.3                                7.5   \n",
       "6            Connecticut        6.6                               13.9   \n",
       "7               Delaware        5.8                                9.5   \n",
       "8   District of Columbia        7.7                               14.6   \n",
       "9                Florida        6.9                               12.1   \n",
       "10               Georgia        6.6                               12.1   \n",
       "11                Hawaii        4.4                                9.0   \n",
       "12                 Idaho        4.5                                8.9   \n",
       "13              Illinois        6.7                               12.4   \n",
       "14               Indiana        5.7                               11.9   \n",
       "15                  Iowa        3.4                                9.5   \n",
       "16                Kansas        4.2                                8.3   \n",
       "17              Kentucky        6.3                               13.7   \n",
       "18             Louisiana        6.0                               12.4   \n",
       "19                 Maine        5.0                               11.1   \n",
       "20              Maryland        6.0                               12.7   \n",
       "21         Massachusetts        5.8                               11.9   \n",
       "22              Michigan        6.8                               16.8   \n",
       "23             Minnesota        3.8                                9.4   \n",
       "24           Mississippi        7.7                               17.3   \n",
       "25              Missouri        5.7                               14.3   \n",
       "26               Montana        4.0                               10.0   \n",
       "27              Nebraska        3.2                                8.4   \n",
       "28                Nevada        7.7                                9.8   \n",
       "29         New Hampshire        4.3                                8.3   \n",
       "30            New Jersey        6.4                               10.4   \n",
       "31            New Mexico        7.3                               13.6   \n",
       "32              New York        6.0                               10.2   \n",
       "33        North Carolina        6.7                               13.2   \n",
       "34          North Dakota        2.4                                7.8   \n",
       "35                  Ohio        5.8                               15.5   \n",
       "36              Oklahoma        4.5                                9.2   \n",
       "37                Oregon        6.7                               13.7   \n",
       "38          Pennsylvania        5.7                               13.1   \n",
       "39          Rhode Island        6.6                               12.5   \n",
       "40        South Carolina        6.5                               16.2   \n",
       "41          South Dakota        3.0                                8.6   \n",
       "42             Tennessee        6.3                               14.3   \n",
       "43                 Texas        4.8                                6.5   \n",
       "44                  Utah        3.9                                5.7   \n",
       "45               Vermont        4.7                               12.0   \n",
       "46              Virginia        4.8                                9.3   \n",
       "47            Washington        5.1                                9.0   \n",
       "48         West Virginia        5.8                               13.1   \n",
       "49             Wisconsin        4.5                               10.5   \n",
       "50               Wyoming        3.9                               12.8   \n",
       "51           Puerto Rico       15.2                               30.3   \n",
       "\n",
       "   High School Graduate or Equivalent (%)  \\\n",
       "0                                     8.9   \n",
       "1                                    12.0   \n",
       "2                                     9.0   \n",
       "3                                     7.6   \n",
       "4                                     9.3   \n",
       "5                                     5.4   \n",
       "6                                     9.0   \n",
       "7                                     8.4   \n",
       "8                                    17.6   \n",
       "9                                     8.7   \n",
       "10                                    8.4   \n",
       "11                                    6.0   \n",
       "12                                    5.6   \n",
       "13                                    9.1   \n",
       "14                                    7.4   \n",
       "15                                    4.8   \n",
       "16                                    5.9   \n",
       "17                                    7.9   \n",
       "18                                    6.6   \n",
       "19                                    7.0   \n",
       "20                                    8.1   \n",
       "21                                    8.6   \n",
       "22                                    9.1   \n",
       "23                                    5.6   \n",
       "24                                    9.3   \n",
       "25                                    7.5   \n",
       "26                                    5.8   \n",
       "27                                    4.5   \n",
       "28                                    9.4   \n",
       "29                                    6.2   \n",
       "30                                    8.6   \n",
       "31                                    9.1   \n",
       "32                                    7.8   \n",
       "33                                    9.1   \n",
       "34                                    3.2   \n",
       "35                                    7.0   \n",
       "36                                    5.5   \n",
       "37                                    8.5   \n",
       "38                                    7.0   \n",
       "39                                    9.7   \n",
       "40                                    8.3   \n",
       "41                                    3.8   \n",
       "42                                    8.0   \n",
       "43                                    6.2   \n",
       "44                                    6.1   \n",
       "45                                    7.2   \n",
       "46                                    6.2   \n",
       "47                                    6.3   \n",
       "48                                    7.0   \n",
       "49                                    5.5   \n",
       "50                                    4.5   \n",
       "51                                   20.3   \n",
       "\n",
       "   Some College Eduation or Associate's Degree (%)  \\\n",
       "0                                              6.6   \n",
       "1                                              5.8   \n",
       "2                                              6.7   \n",
       "3                                              5.2   \n",
       "4                                              7.5   \n",
       "5                                              4.7   \n",
       "6                                              7.1   \n",
       "7                                              6.2   \n",
       "8                                             14.6   \n",
       "9                                              6.5   \n",
       "10                                             7.1   \n",
       "11                                             4.7   \n",
       "12                                             4.4   \n",
       "13                                             7.3   \n",
       "14                                             5.5   \n",
       "15                                             3.2   \n",
       "16                                             4.3   \n",
       "17                                             5.8   \n",
       "18                                             5.8   \n",
       "19                                             5.2   \n",
       "20                                             6.6   \n",
       "21                                             6.6   \n",
       "22                                             6.7   \n",
       "23                                             3.6   \n",
       "24                                             7.1   \n",
       "25                                             5.6   \n",
       "26                                             4.1   \n",
       "27                                             2.8   \n",
       "28                                             7.4   \n",
       "29                                             4.5   \n",
       "30                                             7.0   \n",
       "31                                             7.4   \n",
       "32                                             6.4   \n",
       "33                                             6.5   \n",
       "34                                             2.2   \n",
       "35                                             5.9   \n",
       "36                                             4.4   \n",
       "37                                             6.6   \n",
       "38                                             6.0   \n",
       "39                                             6.5   \n",
       "40                                             5.9   \n",
       "41                                             2.9   \n",
       "42                                             5.5   \n",
       "43                                             4.9   \n",
       "44                                             3.9   \n",
       "45                                             4.9   \n",
       "46                                             5.3   \n",
       "47                                             5.3   \n",
       "48                                             5.9   \n",
       "49                                             4.6   \n",
       "50                                             3.3   \n",
       "51                                            14.3   \n",
       "\n",
       "   Bachelor's Degree or Higher (%)  \n",
       "0                              3.1  \n",
       "1                              2.0  \n",
       "2                              3.6  \n",
       "3                              2.2  \n",
       "4                              4.4  \n",
       "5                              2.9  \n",
       "6                              3.8  \n",
       "7                              2.6  \n",
       "8                              3.1  \n",
       "9                              4.3  \n",
       "10                             3.4  \n",
       "11                             2.2  \n",
       "12                             2.4  \n",
       "13                             3.5  \n",
       "14                             2.5  \n",
       "15                             1.4  \n",
       "16                             2.1  \n",
       "17                             3.1  \n",
       "18                             3.2  \n",
       "19                             2.3  \n",
       "20                             3.4  \n",
       "21                             3.3  \n",
       "22                             3.4  \n",
       "23                             2.2  \n",
       "24                             3.1  \n",
       "25                             2.8  \n",
       "26                             1.6  \n",
       "27                             1.8  \n",
       "28                             4.9  \n",
       "29                             2.5  \n",
       "30                             4.1  \n",
       "31                             3.1  \n",
       "32                             3.7  \n",
       "33                             3.4  \n",
       "34                             1.4  \n",
       "35                             2.6  \n",
       "36                             2.0  \n",
       "37                             4.0  \n",
       "38                             3.1  \n",
       "39                             3.0  \n",
       "40                             2.7  \n",
       "41                             1.6  \n",
       "42                             3.2  \n",
       "43                             3.0  \n",
       "44                             2.0  \n",
       "45                             1.9  \n",
       "46                             3.1  \n",
       "47                             3.5  \n",
       "48                             2.3  \n",
       "49                             2.4  \n",
       "50                             2.4  \n",
       "51                             8.0  "
      ]
     },
     "execution_count": 17,
     "metadata": {},
     "output_type": "execute_result"
    }
   ],
   "source": [
    "data = {'State':['Alabama', 'Alaska', 'Arizona', 'Arkansas', 'California', 'Colorado', 'Connecticut', 'Delaware', 'District of Columbia', 'Florida', 'Georgia', 'Hawaii', 'Idaho', 'Illinois', 'Indiana','Iowa', 'Kansas', 'Kentucky', 'Louisiana', 'Maine', 'Maryland',\n",
    "       'Massachusetts', 'Michigan', 'Minnesota', 'Mississippi','Missouri', 'Montana', 'Nebraska', 'Nevada', 'New Hampshire', 'New Jersey', 'New Mexico', 'New York', 'North Carolina','North Dakota', 'Ohio', 'Oklahoma', 'Oregon', 'Pennsylvania',\n",
    "       'Rhode Island', 'South Carolina', 'South Dakota', 'Tennessee','Texas', 'Utah', 'Vermont', 'Virginia', 'Washington','West Virginia', 'Wisconsin', 'Wyoming', 'Puerto Rico'], \"Overall(%)\": ['6.9', '6.7', '6.7', '5.7', '7.1', '4.3', '6.6', '5.8', '7.7',\n",
    "       '6.9', '6.6', '4.4', '4.5', '6.7', '5.7', '3.4', '4.2', '6.3', '6.0', '5.0', '6.0', '5.8', '6.8', '3.8', '7.7', '5.7', '4.0','3.2', '7.7', '4.3', '6.4', '7.3', '6.0', '6.7', '2.4', '5.8', '4.5', '6.7', '5.7', '6.6', '6.5', '3.0', '6.3', '4.8', '3.9', '4.7', '4.8', '5.1', '5.8', '4.5', '3.9', '15.2'], \"Less Than High School Graduate (%)\":['13.7', '14.0', '10.7', '10.6', '10.1', '7.5', '13.9', '9.5','14.6', '12.1', '12.1', '9.0', '8.9', '12.4', '11.9', '9.5', '8.3','13.7', '12.4', '11.1', '12.7', '11.9', '16.8', '9.4', '17.3',\n",
    "       '14.3', '10.0', '8.4', '9.8', '8.3', '10.4', '13.6', '10.2', '13.2', '7.8', '15.5', '9.2', '13.7', '13.1', '12.5', '16.2','8.6', '14.3', '6.5', '5.7', '12.0', '9.3', '9.0', '13.1', '10.5','12.8', '30.3'], \"High School Graduate or Equivalent (%)\":['8.9', '12.0', '9.0', '7.6', '9.3', '5.4', '9.0', '8.4', '17.6', '8.7', '8.4', '6.0', '5.6', '9.1', '7.4', '4.8', '5.9', '7.9', '6.6', '7.0', '8.1', '8.6', '9.1', '5.6', '9.3', '7.5', '5.8', '4.5', '9.4', '6.2', '8.6', '9.1', '7.8', '9.1', '3.2', '7.0','5.5', '8.5', '7.0', '9.7', '8.3', '3.8', '8.0', '6.2', '6.1',\n",
    "       '7.2', '6.2', '6.3', '7.0', '5.5', '4.5', '20.3'],  \"Some College Eduation or Associate's Degree (%)\":  ['6.6', '5.8', '6.7', '5.2', '7.5', '4.7', '7.1', '6.2', '14.6', '6.5', '7.1', '4.7', '4.4', '7.3', '5.5', '3.2', '4.3', '5.8','5.8', '5.2', '6.6', '6.6', '6.7', '3.6', '7.1', '5.6', '4.1','2.8', '7.4', '4.5', '7.0', '7.4', '6.4', '6.5', '2.2', '5.9',\n",
    "       '4.4', '6.6', '6.0', '6.5', '5.9', '2.9', '5.5', '4.9', '3.9', '4.9', '5.3', '5.3', '5.9', '4.6', '3.3', '14.3'], \"Bachelor's Degree or Higher (%)\": ['3.1', '2.0', '3.6', '2.2', '4.4', '2.9', '3.8', '2.6', '3.1','4.3', '3.4', '2.2', '2.4', '3.5', '2.5', '1.4', '2.1', '3.1', '3.2', '2.3', '3.4', '3.3', '3.4', '2.2', '3.1', '2.8', '1.6', '1.8', '4.9', '2.5', '4.1', '3.1', '3.7', '3.4', '1.4', '2.6',\n",
    "       '2.0', '4.0', '3.1', '3.0', '2.7', '1.6', '3.2', '3.0', '2.0','1.9', '3.1', '3.5', '2.3', '2.4', '2.4', '8.0'] } \n",
    "unemployment = pd.DataFrame(data)\n",
    "unemployment"
   ]
  },
  {
   "cell_type": "markdown",
   "metadata": {},
   "source": [
    "<div class=\"alert alert-info\">  \n",
    "1. What is one thing you notice? Which data values catch your attention?\n",
    "</div>\n"
   ]
  },
  {
   "cell_type": "markdown",
   "metadata": {},
   "source": [
    "**Your answer:** Type your answer here"
   ]
  },
  {
   "cell_type": "markdown",
   "metadata": {},
   "source": [
    "<div class=\"alert alert-info\">  \n",
    "2. Write one question about the data that you could investigate?\n",
    "</div>"
   ]
  },
  {
   "cell_type": "markdown",
   "metadata": {},
   "source": [
    "**Your answer:** Type your answer here\n",
    "\n",
    "---"
   ]
  },
  {
   "cell_type": "markdown",
   "metadata": {},
   "source": [
    "# 3. Part 2 - Analyze the Data\n",
    "\n",
    "1 . The U.S. Census Bureau divides the United States into four regions, which break down further into nine\n",
    "divisions that are each represented by a dot in the scatter plots below. These graphs compare each\n",
    "division’s unemployment rate among people of different education levels with that division’s overall\n",
    "unemployment rate in 2014. For example, in the top left graph, the point at (4.2, 10.6) is for a Census\n",
    "Bureau division that had an overall unemployment rate of 4.2 percent but whose unemployment rate\n",
    "among those who did not graduate from high school was 10.6 percent."
   ]
  },
  {
   "cell_type": "code",
   "execution_count": 5,
   "metadata": {},
   "outputs": [],
   "source": [
    "import matplotlib.pylab as plt"
   ]
  },
  {
   "cell_type": "code",
   "execution_count": 71,
   "metadata": {},
   "outputs": [
    {
     "data": {
      "text/plain": [
       "Text(0, 0.5, 'Less Than High School Graduate (%)')"
      ]
     },
     "execution_count": 71,
     "metadata": {},
     "output_type": "execute_result"
    },
    {
     "data": {
      "image/png": "[encoded data removed]",
      "text/plain": [
       "<Figure size 432x288 with 1 Axes>"
      ]
     },
     "metadata": {
      "needs_background": "light"
     },
     "output_type": "display_data"
    }
   ],
   "source": [
    "plt.scatter(unemployment[\"Overall(%)\"],\n",
    "            unemployment[\"Less Than High School Graduate (%)\"],s=10)\n",
    "\n",
    "plt.xticks(np.arange(0, 15, step=2))\n",
    "plt.yticks(np.arange(0, 15, step=2))\n",
    "plt.title(\"Divisions' Unemployment Rates: Overall vs. Less Than High School Graduate\")\n",
    "plt.xlabel(\"Overall (%)\")\n",
    "plt.ylabel(\"Less Than High School Graduate (%)\")"
   ]
  },
  {
   "cell_type": "code",
   "execution_count": 72,
   "metadata": {},
   "outputs": [
    {
     "data": {
      "text/plain": [
       "Text(0, 0.5, 'Less Than High School Graduate (%)')"
      ]
     },
     "execution_count": 72,
     "metadata": {},
     "output_type": "execute_result"
    },
    {
     "data": {
      "image/png": "[encoded data removed]",
      "text/plain": [
       "<Figure size 432x288 with 1 Axes>"
      ]
     },
     "metadata": {
      "needs_background": "light"
     },
     "output_type": "display_data"
    }
   ],
   "source": [
    "plt.scatter(unemployment[\"Overall(%)\"],\n",
    "            unemployment[\"High School Graduate or Equivalent (%)\"],s=10)\n",
    "\n",
    "plt.xticks(np.arange(0, 15, step=2))\n",
    "plt.yticks(np.arange(0, 15, step=2))\n",
    "plt.title(\"Divisions' Unemployment Rates: Overall vs. High School Graduate or Equivalent\")\n",
    "plt.xlabel(\"Overall (%)\")\n",
    "plt.ylabel(\"High School Graduate or Equivalent (%)\")\n",
    "\n"
   ]
  },
  {
   "cell_type": "code",
   "execution_count": 68,
   "metadata": {},
   "outputs": [
    {
     "data": {
      "text/plain": [
       "([<matplotlib.axis.YTick at 0x119ffe630>,\n",
       "  <matplotlib.axis.YTick at 0x119ff6e48>,\n",
       "  <matplotlib.axis.YTick at 0x119fede10>,\n",
       "  <matplotlib.axis.YTick at 0x11a025860>,\n",
       "  <matplotlib.axis.YTick at 0x11a025d68>,\n",
       "  <matplotlib.axis.YTick at 0x11a025940>,\n",
       "  <matplotlib.axis.YTick at 0x11a01ec88>,\n",
       "  <matplotlib.axis.YTick at 0x11a015a58>],\n",
       " <a list of 8 Text yticklabel objects>)"
      ]
     },
     "execution_count": 68,
     "metadata": {},
     "output_type": "execute_result"
    },
    {
     "data": {
      "image/png": "[encoded data removed]",
      "text/plain": [
       "<Figure size 432x288 with 1 Axes>"
      ]
     },
     "metadata": {
      "needs_background": "light"
     },
     "output_type": "display_data"
    }
   ],
   "source": [
    "plt.scatter((unemployment[\"Overall(%)\"]),\n",
    "            unemployment[\"Some College Eduation or Associate's Degree (%)\"],s=10)\n",
    "\n",
    "plt.xticks(np.arange(0, 15, step=2))\n",
    "plt.yticks(np.arange(0, 15, step=2))\n",
    "plt.title(\"...\")\n",
    "plt.xlabel(\"...\")\n",
    "plt.ylabel(\"...\")"
   ]
  },
  {
   "cell_type": "code",
   "execution_count": 69,
   "metadata": {},
   "outputs": [
    {
     "data": {
      "text/plain": [
       "([<matplotlib.axis.YTick at 0x11a0561d0>,\n",
       "  <matplotlib.axis.YTick at 0x11a050b38>,\n",
       "  <matplotlib.axis.YTick at 0x11a049ba8>,\n",
       "  <matplotlib.axis.YTick at 0x11a0814e0>,\n",
       "  <matplotlib.axis.YTick at 0x11a0819e8>,\n",
       "  <matplotlib.axis.YTick at 0x11a081ef0>,\n",
       "  <matplotlib.axis.YTick at 0x11a07ae10>,\n",
       "  <matplotlib.axis.YTick at 0x11a071b38>],\n",
       " <a list of 8 Text yticklabel objects>)"
      ]
     },
     "execution_count": 69,
     "metadata": {},
     "output_type": "execute_result"
    },
    {
     "data": {
      "image/png": "[encoded data removed]",
      "text/plain": [
       "<Figure size 432x288 with 1 Axes>"
      ]
     },
     "metadata": {
      "needs_background": "light"
     },
     "output_type": "display_data"
    }
   ],
   "source": [
    "plt.scatter((unemployment[\"Overall(%)\"]),\n",
    "            unemployment[\"Bachelor's Degree or Higher (%)\"],s=10)\n",
    "\n",
    "plt.xticks(np.arange(0, 15, step=2))\n",
    "plt.yticks(np.arange(0, 15, step=2))\n",
    "plt.yticks(np.arange(0, 15, step=2))\n",
    "plt.title(\"...\")\n",
    "plt.xlabel(\"...\")\n",
    "plt.ylabel(\"...\")"
   ]
  },
  {
   "cell_type": "markdown",
   "metadata": {},
   "source": [
    "<div class=\"alert alert-info\">  \n",
    "(a) Which two education levels’ unemployment rates appear to be most strongly associated with the\n",
    "overall unemployment rates in a division? Explain.\n",
    "</div>"
   ]
  },
  {
   "cell_type": "markdown",
   "metadata": {},
   "source": [
    "**Your answer:** Type your answer here"
   ]
  },
  {
   "cell_type": "markdown",
   "metadata": {},
   "source": [
    "<div class=\"alert alert-info\">  \n",
    "(b) Which education level’s unemployment rates appear to be least strongly associated with the overall\n",
    "unemployment rates in a division? Explain.\n",
    "</div>"
   ]
  },
  {
   "cell_type": "markdown",
   "metadata": {},
   "source": [
    "**Your answer:** Type your answer here"
   ]
  },
  {
   "cell_type": "markdown",
   "metadata": {},
   "source": [
    "<div class=\"alert alert-info\">  \n",
    "(c) The correlation coefficient is a measure of the strength of the linear relationship between two variables. The closer the correlation coefficient is to 0, the weaker the linear relationship. With this in mind, match each of the following correlation coefficients with the correct scatter plot from earlier. Note: Your answers for the highest two coefficients can be interchangeable.)\n",
    "</div>\n"
   ]
  },
  {
   "cell_type": "markdown",
   "metadata": {},
   "source": [
    "* 0.54:\n",
    "* 0.81:\n",
    "* 0.94:\n",
    "* 0.95:"
   ]
  },
  {
   "cell_type": "markdown",
   "metadata": {},
   "source": [
    "2. The correlation coefficient, represented by r, is calculated using this formula:\n",
    "\n",
    "$$ r = \\frac{\\sum_{i=1}^n[(x_i - \\bar{x})(y_i - \\bar{y})]}{\\sqrt{\\sum_{i=1}^n (x_i - \\bar{x})^2}\\sqrt{\\sum_{i=1}^n (y_i - \\bar{y})^2}}$$\n",
    "\n",
    "Here $n$ represents the number of data pairs, $x_i$ and $y_i$ are the specific data points, $\\bar{x}$ and $\\bar{y}$ are the means of the $x$ and $y$ values. $\\sum_{i=1}^n$ = finds the sum of everything for the first pair $(i = 1)$ through the last $(n)$.\n"
   ]
  },
  {
   "cell_type": "markdown",
   "metadata": {},
   "source": [
    "(a) Use the data below — on unemployment rates overall and for people with some college education\n",
    "or an associate’s degree in the four main regions identified by the Census Bureau — to complete the\n",
    "calculations table that follows. Note: Round your answers in the first two columns to two decimal\n",
    "places and those in the last three columns to four decimal places."
   ]
  },
  {
   "cell_type": "code",
   "execution_count": 5,
   "metadata": {},
   "outputs": [],
   "source": [
    "\n",
    "data= {'Region': [\"Northeast\", \"Midwest\", \"South\", \"West\"], \n",
    "       'Overall (%)': [5.9, 5.5, 6.0, 6.4], \n",
    "      \"Some College Education or Associate's Degree (%)\":  [6.4, 5.5, 5.9, 6.5]}\n",
    "\n",
    "regions = pd.DataFrame(data)"
   ]
  },
  {
   "cell_type": "code",
   "execution_count": 6,
   "metadata": {},
   "outputs": [
    {
     "data": {
      "text/html": [
       "<div>\n",
       "<style scoped>\n",
       "    .dataframe tbody tr th:only-of-type {\n",
       "        vertical-align: middle;\n",
       "    }\n",
       "\n",
       "    .dataframe tbody tr th {\n",
       "        vertical-align: top;\n",
       "    }\n",
       "\n",
       "    .dataframe thead th {\n",
       "        text-align: right;\n",
       "    }\n",
       "</style>\n",
       "<table border=\"1\" class=\"dataframe\">\n",
       "  <thead>\n",
       "    <tr style=\"text-align: right;\">\n",
       "      <th></th>\n",
       "      <th>Region</th>\n",
       "      <th>Overall (%)</th>\n",
       "      <th>Some College Education or Associate's Degree (%)</th>\n",
       "    </tr>\n",
       "  </thead>\n",
       "  <tbody>\n",
       "    <tr>\n",
       "      <th>0</th>\n",
       "      <td>Northeast</td>\n",
       "      <td>5.9</td>\n",
       "      <td>6.4</td>\n",
       "    </tr>\n",
       "    <tr>\n",
       "      <th>1</th>\n",
       "      <td>Midwest</td>\n",
       "      <td>5.5</td>\n",
       "      <td>5.5</td>\n",
       "    </tr>\n",
       "    <tr>\n",
       "      <th>2</th>\n",
       "      <td>South</td>\n",
       "      <td>6.0</td>\n",
       "      <td>5.9</td>\n",
       "    </tr>\n",
       "    <tr>\n",
       "      <th>3</th>\n",
       "      <td>West</td>\n",
       "      <td>6.4</td>\n",
       "      <td>6.5</td>\n",
       "    </tr>\n",
       "  </tbody>\n",
       "</table>\n",
       "</div>"
      ],
      "text/plain": [
       "      Region  Overall (%)  Some College Education or Associate's Degree (%)\n",
       "0  Northeast          5.9                                               6.4\n",
       "1    Midwest          5.5                                               5.5\n",
       "2      South          6.0                                               5.9\n",
       "3       West          6.4                                               6.5"
      ]
     },
     "execution_count": 6,
     "metadata": {},
     "output_type": "execute_result"
    }
   ],
   "source": [
    "regions"
   ]
  },
  {
   "cell_type": "code",
   "execution_count": 13,
   "metadata": {},
   "outputs": [
    {
     "data": {
      "text/plain": [
       "5.949999999999999"
      ]
     },
     "execution_count": 13,
     "metadata": {},
     "output_type": "execute_result"
    }
   ],
   "source": [
    "regions['Overall (%)'].mean()"
   ]
  },
  {
   "cell_type": "code",
   "execution_count": 15,
   "metadata": {},
   "outputs": [
    {
     "data": {
      "text/plain": [
       "6.075"
      ]
     },
     "execution_count": 15,
     "metadata": {},
     "output_type": "execute_result"
    }
   ],
   "source": [
    "regions[\"Some College Education or Associate's Degree (%)\"].mean()"
   ]
  },
  {
   "cell_type": "markdown",
   "metadata": {},
   "source": [
    "Calculations Table for Correlation Coefficients"
   ]
  },
  {
   "cell_type": "markdown",
   "metadata": {},
   "source": [
    "| $x_i$| $y_i$|$x_i - \\bar{x}$|$y_i-\\bar{y}$|$(x_i-\\bar{x})(y_i - \\bar{y})$|$(x_i-\\bar{x})^2$|$(y_i-\\bar{y})^2$|\n",
    "|------|------|---------------|-------------|------------------------------|-----------------|-----------------|\n",
    "|  5.9 | 6.4  |  ?????????    |  ?????????  | ?????????                    | ?????????       | ?????????       |\n",
    "|  5.5 | 6.5  | ?????????     |  ?????????  | ?????????                    | ?????????       | ?????????       |\n",
    "|  6.0 | 5.9  | ?????????     |  ?????????  | ?????????                    | ?????????       | ?????????       |\n",
    "|  6.4 | 6.5  | ?????????     |  ?????????  | ?????????                    | ?????????       | ?????????       |\n",
    "\n",
    "\n",
    "\n"
   ]
  },
  {
   "cell_type": "markdown",
   "metadata": {},
   "source": [
    "A = $\\sum_{i=1}^n[(x_i - \\bar{x})(y_i - \\bar{y})] $\n",
    "B = $\\sqrt{\\sum_{i=1}^n (x_i - \\bar{x})^2} $ \n",
    "C = $\\sqrt{\\sum_{i=1}^n (y_i - \\bar{y})^2} $\n"
   ]
  },
  {
   "cell_type": "markdown",
   "metadata": {},
   "source": [
    "b. With these value now identified, the formula for correlation coefficients can be simplified to:\n",
    "\n",
    "$$ r = \\frac{A}{B \\cdot C}$$\n",
    "\n",
    "A = the sum of $(x_i - \\bar{x})(y_i - \\bar{y})$ values \n",
    "B = the square root of the sum of all $(x_i - \\bar{x})^2$ values\n",
    "C = the square root of  the summ of all $(y_i - \\bar{y})^2 values\n",
    "\n",
    "Use the values for A,B,and C in the labeled boxes of your table to find the value of $r$, rounding to the three decimal places. \n",
    "\n"
   ]
  },
  {
   "cell_type": "markdown",
   "metadata": {},
   "source": [
    "c. What does this $r$ value indicate about the linear relationship between two variables?"
   ]
  },
  {
   "cell_type": "markdown",
   "metadata": {},
   "source": [
    "3. Calculate both $\\sum_{i=1}^n(x_i - \\bar{x})$ and $\\sum_{i=1}^n(y_i - \\bar{y})$. Why will these sums, representing the combined distance of each data point from the mean, always result in the same value?"
   ]
  },
  {
   "cell_type": "markdown",
   "metadata": {},
   "source": [
    "4. The following scatter plot shows unemployment rates overall and for people with some college education or associate’s degree for the four Census Bureau regions, with lines for the means of each variable (i.e., $x$ and $y$) creating four quadrants. This setup helps you see the approximate distances of each data point from the means. (These distances are represented in the formula for $r$ as $x_i - \\bar{x}$ and $y_i - \\bar{y}$.)\n"
   ]
  },
  {
   "cell_type": "code",
   "execution_count": 31,
   "metadata": {},
   "outputs": [
    {
     "data": {
      "text/plain": [
       "Text(0, 0.5, 'Less Than High School Graduate (%)')"
      ]
     },
     "execution_count": 31,
     "metadata": {},
     "output_type": "execute_result"
    },
    {
     "data": {
      "image/png": "[encoded data removed]",
      "text/plain": [
       "<Figure size 432x288 with 1 Axes>"
      ]
     },
     "metadata": {
      "needs_background": "light"
     },
     "output_type": "display_data"
    }
   ],
   "source": [
    "plt.scatter(regions[\"Overall (%)\"],\n",
    "           regions[\"Some College Education or Associate's Degree (%)\"],s=10)\n",
    "\n",
    "plt.xlim(5,7)\n",
    "plt.ylim(5,7)\n",
    "plt.title(\"Divisions' Unemployment Rates: Overall vs. Less Than High School Graduate\")\n",
    "plt.xlabel(\"Overall (%)\")\n",
    "plt.ylabel(\"Less Than High School Graduate (%)\")"
   ]
  },
  {
   "cell_type": "code",
   "execution_count": null,
   "metadata": {},
   "outputs": [],
   "source": []
  }
 ],
 "metadata": {
  "kernelspec": {
   "display_name": "Python 3",
   "language": "python",
   "name": "python3"
  },
  "language_info": {
   "codemirror_mode": {
    "name": "ipython",
    "version": 3
   },
   "file_extension": ".py",
   "mimetype": "text/x-python",
   "name": "python",
   "nbconvert_exporter": "python",
   "pygments_lexer": "ipython3",
   "version": "3.6.8"
  }
 },
 "nbformat": 4,
 "nbformat_minor": 2
}
