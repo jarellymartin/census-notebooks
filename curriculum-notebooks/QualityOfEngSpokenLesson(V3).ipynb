{
 "cells": [
  {
   "cell_type": "markdown",
   "metadata": {},
   "source": [
    "# Patterns of Association: Quality of Engligh Spoken by People Who Speak Spanish in Their Homes"
   ]
  },
  {
   "cell_type": "markdown",
   "metadata": {},
   "source": [
    "---\n",
    "This notebook focuses on creating scatter plots from a data table and learning how to interpret them by determining associations between two quantitative variables. \n",
    "\n",
    "---\n",
    "\n",
    "### Topics Covered\n",
    "- What is the Census?\n",
    "- English fluency among Spanish speaking households\n",
    "- Scatter plots and associations\n",
    "- Regional unemployment\n",
    "\n",
    "### Table of Contents\n",
    "\n",
    "[Overwiew](#overwiew)<br>\n",
    "\n",
    "\n",
    "1 - [Why the Census](#1)<br>\n",
    "\n",
    "&nbsp;&nbsp;&nbsp;&nbsp;&nbsp;&nbsp; 1.1 - [How is the data used?](#s1.1)\n",
    "\n",
    "&nbsp;&nbsp;&nbsp;&nbsp;&nbsp;&nbsp; 1.2 - [Census and Congresional Represenation](#s1.2)\n",
    "\n",
    "2 - [Vocabulary](#2)<br>\n",
    "\n",
    "3 - [Part I](#3)<br>\n",
    "\n",
    "&nbsp;&nbsp;&nbsp;&nbsp;&nbsp;&nbsp; 3.1 - [Apply What You've Learned](#s3.1)\n",
    "\n",
    "&nbsp;&nbsp;&nbsp;&nbsp;&nbsp;&nbsp; 3.2 - [Determine and Explain Negative and Positive Associations](#s3.2)\n",
    "\n",
    "4 - [Bibliography](#4)<br>"
   ]
  },
  {
   "cell_type": "markdown",
   "metadata": {},
   "source": [
    "---\n",
    "## Overview <a id='overwiew'></a>\n",
    "\n",
    "In Part 1 of this lesson, you will review scatterplots by investigating how trends in English fluency among Spanish-speaking households in the U.S. have changed over time. In Part 2, you will  analyze scatterplots and linear relationships based on state and regional unemployment data.\n",
    "\n",
    "---\n",
    "\n",
    "?\n",
    "<!--NOT SURE THIS IS THE BEST PLACE TO PUT THIS\n",
    "You will do this by:\n",
    "1. creating a scatter plot using data from the U.S. Census Bureau, in which residents who primarily speak Spanish at home were asked to self-report the quality of their spoken English, and \n",
    "2. studying associations between the years the data were reported (2009–2013) and the ratings for speaking English (“very well” and “less than very well”).\n",
    "in Part 1, and \n",
    "1. Using state and regional unemployment data for various education levels to create scatter plots and calculate correlation coefficients\n",
    "2. Comparing scatter plots with different strengths of linear relationships\n",
    "3. Determining the impact of any influential points on the correlation coefficient\n",
    "in Part 2. -->"
   ]
  },
  {
   "cell_type": "code",
   "execution_count": 1,
   "metadata": {},
   "outputs": [],
   "source": [
    "#Press 'Shift' + 'Enter' to run this code! It will help load graphs & charts that this lesson has!\n",
    "\n",
    "import numpy as np\n",
    "import pandas as pd\n",
    "import matplotlib.pyplot as plt\n",
    "from IPython.display import Image\n",
    "\n",
    "import sys\n",
    "sys.path.append(\"../\")\n",
    "from censusnotebooks import widgets, visualization"
   ]
  },
  {
   "cell_type": "markdown",
   "metadata": {},
   "source": [
    "\n",
    "**Tip**: When you're done reading each part of this lesson, press the **'Shift' + 'Enter' keys at the same time** to quickly move through each 'cell' and run the code! \n",
    "<!--#Press 'Shift' + 'Enter' to run this code! It will help load graphs & charts that this lesson has! -->\n",
    "---"
   ]
  },
  {
   "cell_type": "markdown",
   "metadata": {},
   "source": [
    "# 1. Why the Census? <a id='1'></a>\n",
    "\n",
    "<div class=\"alert alert-info\">\n",
    "<b> Question:</b>\n",
    "<!--But before we dive in, let's answer a question you might have:--> Why are we learning about statistics through Census data? In fact, why do we even care about the Census in the first place?\n",
    "</div>"
   ]
  },
  {
   "cell_type": "markdown",
   "metadata": {},
   "source": [
    "Depending on how old you are, you might or might not have watched your family or guardian fill out a long form about a decade ago that had some specific, slightly invasive questions like: \n",
    "1. How many people live or stay in this house, apartment, or mobile home?\n",
    "2. What is the name of the person who owns this house, apartment, or mobile home?\n",
    "3. How old is the person who owns this house, apartment, or mobile home? When is his or her birthday?"
   ]
  },
  {
   "cell_type": "markdown",
   "metadata": {},
   "source": [
    "## 1.1 How is the Data Used?<a id='s1.1'></a>\n",
    "\n",
    "The census form is a way for the government to get a good idea as to **who** it is serving, which is: **YOU!** The government uses data it gets from this nation-wide Census to determine funding distributions across U.S. communities, as well as understand where community services are needed and how to implement them. Because of the Census, your neighborhood and city can improve education and transportation, promote public health, and use given money to make improvements. More services can be given to the elderly, new roads and schools can be built, and more job training centers can be maintained and established. *Everyone* benefits."
   ]
  },
  {
   "cell_type": "markdown",
   "metadata": {},
   "source": [
    "## 1.2 Census and Congresional Represenation <a id='s1.2'></a>\n",
    "\n",
    "The amount of representation that your state has changes within Congress (in the U.S. House of Representatives) every ten years, when the Census is distributed. The voices of those vouching for your state's well-being in Congress could change or stay the same. Additionally, the representative (or \"voice\") representing your community in local, state, and federal governments could change, because district lines are redrawn every time. Members of Congress, state legislators, and many county and municipal offices are elected by voters grouped into districts, and you could be voting for different people depending on how these lines are drawn. These representatives are your spokespeople - their job is to listen to your needs and support government policies that will help your community!  \n",
    "\n",
    "\n",
    "For more information, check out this document [here](https://www2.census.gov/programs-surveys/sis/resources/census101.pdf), designed to inform students like you on why the Census is so important! And for more reading on the confusing topic of re-districting, read [here](https://www.brennancenter.org/analysis/7-things-know-about-redistricting). \n",
    "\n",
    "---"
   ]
  },
  {
   "cell_type": "markdown",
   "metadata": {},
   "source": [
    "?<!--TL;DR: The Census exists because the government cares about you. So let's dive into specific qualities that the census measures and understand them! -->"
   ]
  },
  {
   "cell_type": "markdown",
   "metadata": {},
   "source": [
    "# 2. Vocabulary\n",
    "\n",
    "Here are some terms to go over before creating your scatter plot and analyzing English fluency in Spanish-speaking households and how fluency has changed over time. You'll need to understand these before moving on."
   ]
  },
  {
   "cell_type": "markdown",
   "metadata": {},
   "source": [
    "* **Bivariate data** – pairs of linked numerical observations. \n",
    "(Example: a list of heights and weights for each\n",
    "player on a football team)\n",
    "* **Categorical variable** – a variable that is not numerical, such as a name or label, that places an object into\n",
    "one of several groups or categories (e.g., the color of a ball or the breed of a dog)\n",
    "* **Quantitative variable** – a variable that is numerical, meaning that it represents a measurable quantity*\n",
    "(e.g., the population size of a city)\n",
    "* **Explanatory variable** – the “independent” variable, which helps explain the changes in the response\n",
    "variable\n",
    "* **Response variable** – the “dependent” variable, which shows an outcome\n",
    "* **Form of association** – the shape that data make moving from left to right on a scatter plot (e.g., linear,\n",
    "parabolic, quadratic)\n",
    "* **Line of best fit** – a straight line drawn through the center of a group of data points on a scatter plot,\n",
    "showing how closely the two variables on the scatter plot are associated\n",
    "* **Strength of association** – a measure of how tightly points are clustered\n",
    "* **Negative direction of association** – an association in which one variable increases as the other decreases;\n",
    "when a line of best fit represents a negative association, the line has a negative slope (e.g., for time a\n",
    "musician spends practicing a piece and mistakes made during performing; the more time spent practicing,\n",
    "the fewer mistakes that musician will likely make)\n",
    "* **Outlier** – a data point that is well outside of the expected range of values or does not follow the overall\n",
    "pattern of the other data points\n",
    "* **Positive direction of association** – an association in which one variable increases as the other increases;\n",
    "when a line of best fit represents a positive association, the line has a positive slope (e.g., for children’s age\n",
    "and height; as children get older, they usually get taller)\n",
    "* **Scatter plot** – a graph in the coordinate plane that displays a set of bivariate data and can be used to\n",
    "determine how two variables are associated (e.g., to show associations between the heights and weights\n",
    "of a group of people)\n"
   ]
  },
  {
   "cell_type": "markdown",
   "metadata": {},
   "source": [
    "# 3. Part 1 <a id='3'></a>"
   ]
  },
  {
   "cell_type": "markdown",
   "metadata": {},
   "source": [
    "## Scatterplot Review"
   ]
  },
  {
   "cell_type": "markdown",
   "metadata": {},
   "source": [
    "Let's look at some data from the American Community Survey. The American Community Survey (ACS) is conducted monthly by the U.S. Census Bureau and is designed to show how communities change. Through asking questions to a sample of the population, it produces national data on more than 35 categories of information, such as education, income, housing, and employment.\n",
    "\n",
    "The following data is from the 2009-2013 American Community Survey 5-Year Estimates: 'Language Spoken At Home.' We will examine the trends in the quality of English spoken by U.S. residents who primarily speak Spanish at home by looking at **two** variables: the percentage of Spanish-speaking residents who reported speaking English **“very well”** and the percentage of Spanish-speaking residents who reported speaking English **“less than very well.\"**\n",
    "\n"
   ]
  },
  {
   "cell_type": "markdown",
   "metadata": {},
   "source": [
    "You can see the entire data table [here](https://factfinder.census.gov/bkmk/table/1.0/en/ACS/13_5YR/B16001/0100000US), but we've done the work to extract these two variables for you."
   ]
  },
  {
   "cell_type": "markdown",
   "metadata": {},
   "source": [
    "Run this code to see a graph by pressing **'Shift' + 'Enter'**"
   ]
  },
  {
   "cell_type": "code",
   "execution_count": 2,
   "metadata": {},
   "outputs": [
    {
     "data": {
      "text/html": [
       "<div>\n",
       "<style scoped>\n",
       "    .dataframe tbody tr th:only-of-type {\n",
       "        vertical-align: middle;\n",
       "    }\n",
       "\n",
       "    .dataframe tbody tr th {\n",
       "        vertical-align: top;\n",
       "    }\n",
       "\n",
       "    .dataframe thead th {\n",
       "        text-align: right;\n",
       "    }\n",
       "</style>\n",
       "<table border=\"1\" class=\"dataframe\">\n",
       "  <thead>\n",
       "    <tr style=\"text-align: right;\">\n",
       "      <th></th>\n",
       "      <th>Year</th>\n",
       "      <th>Percentage who reported speaking English “very well”</th>\n",
       "      <th>Percentage who reported speaking English “less than very well”</th>\n",
       "    </tr>\n",
       "  </thead>\n",
       "  <tbody>\n",
       "    <tr>\n",
       "      <th>0</th>\n",
       "      <td>2009</td>\n",
       "      <td>54.3</td>\n",
       "      <td>45.7</td>\n",
       "    </tr>\n",
       "    <tr>\n",
       "      <th>1</th>\n",
       "      <td>2010</td>\n",
       "      <td>55.3</td>\n",
       "      <td>44.7</td>\n",
       "    </tr>\n",
       "    <tr>\n",
       "      <th>2</th>\n",
       "      <td>2011</td>\n",
       "      <td>56.3</td>\n",
       "      <td>43.7</td>\n",
       "    </tr>\n",
       "    <tr>\n",
       "      <th>3</th>\n",
       "      <td>2012</td>\n",
       "      <td>57.9</td>\n",
       "      <td>42.1</td>\n",
       "    </tr>\n",
       "    <tr>\n",
       "      <th>4</th>\n",
       "      <td>2013</td>\n",
       "      <td>57.8</td>\n",
       "      <td>42.2</td>\n",
       "    </tr>\n",
       "  </tbody>\n",
       "</table>\n",
       "</div>"
      ],
      "text/plain": [
       "   Year  Percentage who reported speaking English “very well”  \\\n",
       "0  2009                                               54.3      \n",
       "1  2010                                               55.3      \n",
       "2  2011                                               56.3      \n",
       "3  2012                                               57.9      \n",
       "4  2013                                               57.8      \n",
       "\n",
       "   Percentage who reported speaking English “less than very well”  \n",
       "0                                               45.7               \n",
       "1                                               44.7               \n",
       "2                                               43.7               \n",
       "3                                               42.1               \n",
       "4                                               42.2               "
      ]
     },
     "execution_count": 2,
     "metadata": {},
     "output_type": "execute_result"
    }
   ],
   "source": [
    "data = {'Percentage who reported speaking English “less than very well”':[45.7, 44.7, 43.7, 42.1, 42.2],\n",
    "        'Percentage who reported speaking English “very well”':[54.3, 55.3, 56.3, 57.9, 57.8], \n",
    "        'Year': [2009, 2010, 2011, 2012, 2013]} \n",
    "\n",
    "chart1 = pd.DataFrame(data)\n",
    "chart1 = chart1[['Year', 'Percentage who reported speaking English “very well”', \n",
    "                 'Percentage who reported speaking English “less than very well”']]\n",
    "chart1"
   ]
  },
  {
   "cell_type": "markdown",
   "metadata": {},
   "source": [
    "We're now going to create a **scatter plot** to better visualize the data."
   ]
  },
  {
   "cell_type": "markdown",
   "metadata": {},
   "source": [
    "**However**, before you scroll down, take a moment to think about what this graph might look like:\n",
    "\n",
    "* Which variables are on the x and y axis?\n",
    "\n",
    "* Can you already predict how the points might look like on the graph? What trends do you see?\n",
    "\n",
    "**Tips to graph**: The graph you make should have *ten dots* total, with *two* colors: one to represent the percentages of people who reported speaking English \"less than very well,\" and one to representage the percentages of those speaking English \"very well.\" "
   ]
  },
  {
   "cell_type": "markdown",
   "metadata": {},
   "source": [
    "The graph should look like this:"
   ]
  },
  {
   "cell_type": "code",
   "execution_count": 4,
   "metadata": {},
   "outputs": [],
   "source": [
    "#Run this code to see a graph by pressing 'Shift' + 'Enter'\n",
    "#Image(filename='./quality_of_english.png', width = 600, height = 600) "
   ]
  },
  {
   "cell_type": "markdown",
   "metadata": {},
   "source": [
    "Take a few moments to understand the graph above. \n",
    "\n",
    "Remind yourself...\n",
    "* Why are we using _different_ colors in the legend?\n",
    "* What _patterns_ do you see in the data?\n",
    "\n",
    "And ask...\n",
    "\n",
    "* Do you think these two paths ever crossed in earlier years?\n",
    "* Do you think these paths will cross in future years?\n",
    "\n",
    "In the cell below work through the plot. Does your own graph look like this one? If there are any differences, try to understand why. If something looks off, that's because there aren't any *labels* distinguishing between the two different trends. We need a **legend** and **axes** for this scatterplot. Talk to your neighbors as well! "
   ]
  },
  {
   "cell_type": "code",
   "execution_count": 5,
   "metadata": {},
   "outputs": [
    {
     "name": "stdout",
     "output_type": "stream",
     "text": [
      "Here are the types of plots you may use: \n",
      "\n",
      "(1) histogram \n",
      "\n",
      "(2) barplot \n",
      "\n",
      "(3) scatterplot \n",
      "\n",
      "(4) lineplot \n",
      "\n",
      "Enter the number associated to the type of plot you would like to use: \n",
      "3\n",
      "Plotting a scatterplot.\n",
      "Here are the columns of your table:\n",
      "(1) Year \n",
      "\n",
      "(2) Percentage who reported speaking English “very well” \n",
      "\n",
      "(3) Percentage who reported speaking English “less than very well” \n",
      "\n",
      "Enter the column you would like to plot: \n",
      "1\n",
      "Enter the second column you would like to plot: \n",
      "2\n",
      "You are plotting Year and Percentage who reported speaking English “very well”. \n",
      "\n",
      "Enter the x-axis label for your plot: \n",
      "year\n",
      "Enter the y-axis label for your plot: \n",
      "percentage who reported speaking english\n",
      "Enter the title for your plot: \n",
      "b\n"
     ]
    },
    {
     "data": {
      "image/png": "[encoded data removed]",
      "text/plain": [
       "<Figure size 432x288 with 1 Axes>"
      ]
     },
     "metadata": {
      "needs_background": "light"
     },
     "output_type": "display_data"
    }
   ],
   "source": [
    "# Run to see the scatter plot by pressing 'Shift' + 'Enter'\n",
    "\n",
    "from censusnotebooks.visualization import matplotlib_seaborn\n",
    "\n",
    "plotter = matplotlib_seaborn.Plot(chart1)\n",
    "plotter.new_plot()"
   ]
  },
  {
   "cell_type": "markdown",
   "metadata": {},
   "source": [
    "\n",
    "\n",
    "#### Now that you have your full graph, axes labels and title included, it's time to answer a few questions:\n",
    "\n",
    "\n",
    "<div class=\"alert alert-info\">  \n",
    "    \n",
    "1. What is the **explanatory** variable on your scatter plot? \n",
    "2. What is the **response** variable for each set of data points?\n",
    "    \n",
    "</div>\n",
    "\n",
    "\n",
    "_Tip_: If you've forgotten what these variables mean again, look at the vocabulary section above again!"
   ]
  },
  {
   "cell_type": "code",
   "execution_count": null,
   "metadata": {},
   "outputs": [],
   "source": [
    "# Answer Question 1 in this cell \n",
    "widgets.RadioButton();"
   ]
  },
  {
   "cell_type": "code",
   "execution_count": null,
   "metadata": {},
   "outputs": [],
   "source": [
    "# Answer Question 2 in this cell \n",
    "widgets.RadioButton();"
   ]
  },
  {
   "cell_type": "markdown",
   "metadata": {},
   "source": [
    "If data points on a scatter plot form a *positive* slope, it means that they have a *positive association*. In\n",
    "these cases, as you look from left to right on the scatter plot, the line appears to move “uphill.” This means\n",
    "that **as the explanatory variable increases, the response variable tends to increase as well.**"
   ]
  },
  {
   "cell_type": "markdown",
   "metadata": {},
   "source": [
    "<div class=\"alert alert-info\">  \n",
    "    \n",
    "3. Which _category of data_ shows a **positive** association over time?\n",
    "4. Could you explain why that association may be positive? \n",
    "    \n",
    "</div>"
   ]
  },
  {
   "cell_type": "code",
   "execution_count": null,
   "metadata": {},
   "outputs": [],
   "source": [
    "# Answer Question 3 in this cell\n",
    "widgets.RadioButton();"
   ]
  },
  {
   "cell_type": "code",
   "execution_count": null,
   "metadata": {},
   "outputs": [],
   "source": [
    "# Answer Question 4 in this cell\n",
    "widgets.RadioButton();"
   ]
  },
  {
   "cell_type": "markdown",
   "metadata": {},
   "source": [
    "On the other hand, if data points on a scatter plot form a _negative_ slope, it means they have a _negative association_. In these\n",
    "cases, as you look from left to right on the scatter plot, the line appears to move “downhill.” This means\n",
    "that **as the explanatory variable increases, the response variable tends to decrease**.\n",
    "\n",
    "<div class=\"alert alert-info\" >  \n",
    "    \n",
    "5. Which _category of data_ shows a **negative** association over time?\n",
    "6. Could you explain why that association may be negative?\n",
    "</div>\n"
   ]
  },
  {
   "cell_type": "code",
   "execution_count": null,
   "metadata": {},
   "outputs": [],
   "source": [
    "# Answer Question 5 in this cell \n",
    "widgets.RadioButton();"
   ]
  },
  {
   "cell_type": "code",
   "execution_count": null,
   "metadata": {},
   "outputs": [],
   "source": [
    "# Answer Question 6 in this cell\n",
    "widgets.RadioButton();"
   ]
  },
  {
   "cell_type": "markdown",
   "metadata": {},
   "source": [
    "\n",
    "<div class=\"alert alert-info\">  \n",
    "    \n",
    "7. Now, summarize the association between the percentage of Spanish-speaking residents who reported speaking English “very well” and the years 2009 through 2013:\n",
    "\n",
    "</div>"
   ]
  },
  {
   "cell_type": "markdown",
   "metadata": {},
   "source": [
    "**Your summary:** Type your answer here\n",
    "\n",
    "\n",
    "?<!--_Tip: If you're stuck on how to format this answer, it should look something like this: There is a [type of association] between [fully-described explanatory variable] and [fully-described response variable]._\n",
    "-->"
   ]
  },
  {
   "cell_type": "markdown",
   "metadata": {},
   "source": [
    "<div class=\"alert alert-info\">  \n",
    "    \n",
    "8. Is there a relationship between the percentage of Spanish speakers who reported speaking English “very well” and the percentage of Spanish speakers who reported speaking English “less than very well”? Hint: Have you tried **adding** the two percentages for every year?\n",
    "\n",
    "</div>"
   ]
  },
  {
   "cell_type": "markdown",
   "metadata": {},
   "source": [
    "**Your answer:** Type your answer here"
   ]
  },
  {
   "cell_type": "markdown",
   "metadata": {},
   "source": [
    "------------------------------------------\n",
    "**Congratulations!** Hopefully, you now not only know how to create scatter plots and describe direction, form, and strength of associations within these scatter plots, but also understand the relationship between two variables measured by the Census and their importance in the real world.\n",
    "\n"
   ]
  },
  {
   "cell_type": "markdown",
   "metadata": {},
   "source": [
    "## 3.1 Apply What You've Learned <a id='3.1'></a>"
   ]
  },
  {
   "cell_type": "markdown",
   "metadata": {},
   "source": [
    "In this part of the lesson, you will practice what you've learned so far about patterns of association, using the guesstimation game below. Try and guess what the direction, form, and strength of each association is below. You will see four examples, with a given context. The answers will be at the end of the last question."
   ]
  },
  {
   "cell_type": "markdown",
   "metadata": {},
   "source": [
    "<div class=\"alert alert-warning\">\n",
    "<b>Scenario 1:</b> A company that sells video games wants to see when the optimal times to sell video games will be to increase sales and profit. To accomplish this, a worker at the company decides to study sales patterns for a certain video game. Use the graph below to look at association with x as weeks since the video game was released and y as number of video games sold by one internet vendor.\n",
    "</div>\n",
    "\n"
   ]
  },
  {
   "cell_type": "code",
   "execution_count": null,
   "metadata": {},
   "outputs": [],
   "source": [
    "# Run this cell to see the graph.\n",
    "rain_collected = {\"Time Since Video Game Release (weeks)\":[1, 1.25, 1.375, 1.5, 2.5, 3.5, 5, 6.5, 7, 7.5, 8, 8.5, 9],\n",
    "                  \"Number of Video Games Sold\":[2.5, 4.25, 5.4, 6, 7.25, 7.75, 8, 7.8, 7.25, 8.5, 7, 5, 3.5]} \n",
    "tbl = pd.DataFrame(rain_collected)\n",
    "plt.scatter(tbl[\"Time Since Video Game Release (weeks)\"].values, tbl[\"Number of Video Games Sold\"].values)\n",
    "plt.xlabel(\"Time Since Video Game Release (weeks)\")\n",
    "plt.ylabel(\"Number of Video Games Sold\")\n",
    "plt.show()"
   ]
  },
  {
   "cell_type": "code",
   "execution_count": null,
   "metadata": {},
   "outputs": [],
   "source": [
    "widgets.Dropdown();"
   ]
  },
  {
   "cell_type": "code",
   "execution_count": null,
   "metadata": {},
   "outputs": [],
   "source": [
    "widgets.Dropdown();"
   ]
  },
  {
   "cell_type": "code",
   "execution_count": null,
   "metadata": {},
   "outputs": [],
   "source": [
    "widgets.Dropdown();"
   ]
  },
  {
   "cell_type": "markdown",
   "metadata": {},
   "source": [
    "**Explanation:** Describe the relationship you see in the above graph here"
   ]
  },
  {
   "cell_type": "markdown",
   "metadata": {},
   "source": [
    "<div class=\"alert alert-warning\">\n",
    "<b>Scenario 2:</b> A music student wants to perform in a future piano recital, but she's not sure how much practice she does will relate to an effective amount of improvement for her to perform in time for the recital. Her music instructor decides to observe and note the practice hours and improvement of some of her other students to help this student, as well as future students. Use the graph below to analyze association with x as number of hours spent practicing recital music and y as number of mistakes made, recorded by the music instructor.\n",
    "</div>"
   ]
  },
  {
   "cell_type": "code",
   "execution_count": null,
   "metadata": {},
   "outputs": [],
   "source": [
    "# Run this cell to see the graph.\n",
    "rain_collected = {\"Time Spent Practicing Recital Music (hrs)\":[0.25, 0.75, 1.5, 2.5, 2.8, 3, 3.75, 4.6, 5.25, 5.35, 7.15, 8, 9.25],\n",
    "                  \"Number of Mistakes Made\":[8.5, 7.25, 1.5, 7.5, 5.8, 7, 4.5, 7, 5, 3.5, 3.7, 2.25, 0.75]} \n",
    "tbl = pd.DataFrame(rain_collected)\n",
    "plt.scatter(tbl[\"Time Spent Practicing Recital Music (hrs)\"].values, tbl[\"Number of Mistakes Made\"].values)\n",
    "plt.xlabel(\"Time Spent Practicing Recital Music (hrs)\")\n",
    "plt.ylabel(\"Number of Mistakes Made\")\n",
    "plt.show()"
   ]
  },
  {
   "cell_type": "code",
   "execution_count": null,
   "metadata": {},
   "outputs": [],
   "source": [
    "widgets.Dropdown();"
   ]
  },
  {
   "cell_type": "code",
   "execution_count": null,
   "metadata": {},
   "outputs": [],
   "source": [
    "widgets.Dropdown();"
   ]
  },
  {
   "cell_type": "code",
   "execution_count": null,
   "metadata": {},
   "outputs": [],
   "source": [
    "widgets.Dropdown();"
   ]
  },
  {
   "cell_type": "markdown",
   "metadata": {},
   "source": [
    "**Explanation:** Describe the relationship you see in the above graph here"
   ]
  },
  {
   "cell_type": "code",
   "execution_count": null,
   "metadata": {},
   "outputs": [],
   "source": [
    "# Type your guesses here! Remember to press 'Shift' + 'Enter' to move on once you're finished!\n",
    "# Dropdown menus modeled off of below options:\n",
    "\n",
    "Direction: \"\" # fill in the \"\" - is the direction \"positive\", \"negative\", or \"none\"?\n",
    "Form: \"\" # fill in the \"\" - is the form \"linear\", \"curved,\" or \"none\"?\n",
    "Strength: \"\" # fill in the \"\" - is the strength \"Very strong\"? \"somewhat strong\"? or \"weak\"?\n",
    "Explanation: \"\" # fill in the \"\" with one sentence describing the relationship you see in the above graph!"
   ]
  },
  {
   "cell_type": "markdown",
   "metadata": {},
   "source": [
    "<div class=\"alert alert-warning\">\n",
    "<b>Scenario 3:</b> A middle school student and his friends are very interested in baseball, and they all collect baseball cards. One day, the student wonders if the numbers in their individual collections create distractions that cause some of them to take longer to get school than others, making them arrive late. Use the graph below to understand association with x as number of baseball cards owned by a student and y as number of minutes it takes a student to walk to school. \n",
    "</div>"
   ]
  },
  {
   "cell_type": "code",
   "execution_count": null,
   "metadata": {},
   "outputs": [],
   "source": [
    "# Run this cell to see the graph.\n",
    "rain_collected = {\"Number of Baseball Cards Owned By A Student\":[0.9, 1, 1.5, 2.5, 2.65, 3.25, 3.25, 3.5, 3.6, 3.85, 4, 5, 5.5, 6, 6.5, 7, 7.25, 7.5, 8, 8.5],\n",
    "                  \"Time Student Took to Walk to School (min)\":[7, 9, 3.5, 5.5, 8.5, 1, 3.5, 7, 7.75, 8, 5, 6.75, 5, 2, 7.5, 9, 6.25, 3, 4, 7.5]} \n",
    "tbl = pd.DataFrame(rain_collected)\n",
    "plt.scatter(tbl[\"Number of Baseball Cards Owned By A Student\"].values, tbl[\"Time Student Took to Walk to School (min)\"].values)\n",
    "plt.xlabel(\"Number of Baseball Cards Owned By A Student\")\n",
    "plt.ylabel(\"Time Student Took to Walk to School (min)\")\n",
    "plt.show()"
   ]
  },
  {
   "cell_type": "code",
   "execution_count": null,
   "metadata": {},
   "outputs": [],
   "source": [
    "widgets.Dropdown();"
   ]
  },
  {
   "cell_type": "code",
   "execution_count": null,
   "metadata": {},
   "outputs": [],
   "source": [
    "widgets.Dropdown();"
   ]
  },
  {
   "cell_type": "code",
   "execution_count": null,
   "metadata": {},
   "outputs": [],
   "source": [
    "widgets.Dropdown();"
   ]
  },
  {
   "cell_type": "markdown",
   "metadata": {},
   "source": [
    "**Explanation**: Describe the relationship you see in the above graph here"
   ]
  },
  {
   "cell_type": "code",
   "execution_count": null,
   "metadata": {},
   "outputs": [],
   "source": [
    "# Type your guesses here! Remember to press 'Shift' + 'Enter' to move on once you're finished!\n",
    "# Dropdown menus modeled off of below options:\n",
    "\n",
    "Direction: \"\" # fill in the \"\" - is the direction \"positive\", \"negative\", or \"none\"?\n",
    "Form: \"\" # fill in the \"\" - is the form \"linear\", \"curved,\" or \"none\"?\n",
    "Strength: \"\" # fill in the \"\" - is the strength \"super strong\"? \"somewhat strong\"? or \"weak\"?\n",
    "Explanation: \"\" # fill in the \"\" with one sentence describing the relationship you see in the above graph!"
   ]
  },
  {
   "cell_type": "markdown",
   "metadata": {},
   "source": [
    "?<!--Take some time to think about the implications of your answers in terms of the context. How might the results of your observations affect the person in the story and context provided? How could that person use the information?-->"
   ]
  },
  {
   "cell_type": "markdown",
   "metadata": {},
   "source": [
    "## 3.2 Determine and Explain Negative and Positive Associations <a id='3.2'></a>"
   ]
  },
  {
   "cell_type": "markdown",
   "metadata": {},
   "source": [
    "Now that you have learned about scatter plots, both positive and negative associations, but now it's time to put it up to the test!\n",
    "\n",
    "We are going to go through a few scenerios where **you** will determine if it is a positive or negative association. Similar to before, you wil be given the x-axis and y-axis for the scatter plot but this time without the plot visualization. \n",
    "\n",
    "*Note: If you forget the definitions of either positive and negative associations, review Parts 1 and 2!*\n"
   ]
  },
  {
   "cell_type": "markdown",
   "metadata": {},
   "source": [
    "?<!--### Let's get started...-->"
   ]
  },
  {
   "cell_type": "markdown",
   "metadata": {},
   "source": [
    "<div class=\"alert alert-warning\">\n",
    "<b>Scenario 1:</b> We have a scatter plot where the <b>x-axis</b> is the number of days a student misses school and the <b>y-axis</b> is the number of hours spent on makeup work. \n",
    "</div>"
   ]
  },
  {
   "cell_type": "markdown",
   "metadata": {},
   "source": [
    "In the cell below type in if you think **Scenario 1** is either a **positive or negative association**. Then briefly explain your reasoning behind your answer.  "
   ]
  },
  {
   "cell_type": "markdown",
   "metadata": {},
   "source": [
    "**Explanation:** Type your answer here"
   ]
  },
  {
   "cell_type": "code",
   "execution_count": null,
   "metadata": {
    "scrolled": true
   },
   "outputs": [],
   "source": [
    "# Run this code to see a graph by pressing 'Shift' + 'Enter' to see if you answered correctly. \n",
    "\n",
    "data = {\"Missed School Days\":[0,1,1, 4, 3, 10, 2, 2, 8],\n",
    "        \"Hours Spent on Makeup Work\":[0,4,4, 22, 16, 50, 8,7, 42]} \n",
    "table = pd.DataFrame(data)\n",
    "plt.scatter(table[\"Missed School Days\"].values, table[\"Hours Spent on Makeup Work\"].values)\n",
    "plt.xlabel(\"Missed School Days\")\n",
    "plt.ylabel(\"Hours Spent on Makeup Work\")\n",
    "plt.show()"
   ]
  },
  {
   "cell_type": "markdown",
   "metadata": {},
   "source": [
    "--------------------------------------\n",
    "\n",
    "<div class=\"alert alert-warning\">\n",
    "<b>Scenario 2:</b> We have a scatter plot where the <b>x-axis</b> is the ounces of insecticide used and the <b>y-axis</b> is the mosquito population (hundreds per acre). \n",
    "</div> \n"
   ]
  },
  {
   "cell_type": "markdown",
   "metadata": {},
   "source": [
    "In the cell below type in if you think **Scenario 2** is either a **positive or negative association**. Then briefly explain your reasoning behind your answer.  "
   ]
  },
  {
   "cell_type": "markdown",
   "metadata": {},
   "source": [
    "**Explanation:** Type your answer here"
   ]
  },
  {
   "cell_type": "code",
   "execution_count": null,
   "metadata": {},
   "outputs": [],
   "source": [
    "# Run this code to see a graph by pressing 'Shift' + 'Enter' to see if you answered correctly. \n",
    "import random\n",
    "insecticide = sorted(random.sample(range(1, 500), 10), reverse = True)\n",
    "population = sorted(random.sample(range(1,100), 10))\n",
    "\n",
    "data = {\"Ounces of Insecticide\":insecticide,\n",
    "        \"Mosquito Population\":population} \n",
    "table = pd.DataFrame(data)\n",
    "plt.scatter(table[\"Ounces of Insecticide\"].values, table[\"Mosquito Population\"].values)\n",
    "plt.xlabel(\"Ounces of Insecticide\")\n",
    "plt.ylabel(\"Mosquito Population\")\n",
    "plt.show()"
   ]
  },
  {
   "cell_type": "markdown",
   "metadata": {},
   "source": [
    "--------------------------------------\n",
    "<div class=\"alert alert-warning\">\n",
    "    <b>Scenario 3:</b> We have a scatter plot where the <b>x-axis</b> is the number of hours spent studying the spelling of vocabulary words and the <b>y-axis</b> the number of vocabulary words spelled incorrectly. \n"
   ]
  },
  {
   "cell_type": "markdown",
   "metadata": {},
   "source": [
    "In the cell below type in if you think **Scenario 3** is either a **positive or negative association**. Then briefly explain your reasoning behind your answer.  "
   ]
  },
  {
   "cell_type": "code",
   "execution_count": null,
   "metadata": {},
   "outputs": [],
   "source": [
    "widgets.Text();"
   ]
  },
  {
   "cell_type": "markdown",
   "metadata": {},
   "source": [
    "**Explanation:** Type your answer here"
   ]
  },
  {
   "cell_type": "code",
   "execution_count": null,
   "metadata": {},
   "outputs": [],
   "source": [
    "# Run this code to see a graph by pressing 'Shift' + 'Enter' to see if you answered correctly. \n",
    "\n",
    "hours = sorted(random.sample(range(1, 50), 10), reverse = True)\n",
    "spelled = sorted(random.sample(range(1,20), 10))\n",
    "\n",
    "data = {\"Hours Spent Studying\":hours,\n",
    "        \"Number of Words Spelled Incorrectly\":spelled} \n",
    "table = pd.DataFrame(data)\n",
    "plt.scatter(table[\"Hours Spent Studying\"].values, table[\"Number of Words Spelled Incorrectly\"].values)\n",
    "plt.xlabel(\"Hours Spent Studying\")\n",
    "plt.ylabel(\"Number of Words Spelled Incorrectly\")\n",
    "plt.show()"
   ]
  },
  {
   "cell_type": "markdown",
   "metadata": {},
   "source": [
    "--------------------------\n",
    "**Congratulations!** You just finished Part 1 of this lesson! Make sure to click 'File', then 'Save and Checkpoint' in the upper left-hand corner to save all the hard work you've done!"
   ]
  },
  {
   "cell_type": "markdown",
   "metadata": {},
   "source": [
    "?<!--Now that we've reviewed scatterplots and associations, it's time to dive deeper into scatterplot analysis. First, take a look at the following key terms:-->"
   ]
  },
  {
   "cell_type": "markdown",
   "metadata": {},
   "source": [
    "?<!--Additionally, keep in mind from Part 1 of the lesson that associations between two variables are not so much black and white as they are falling along a spectrum. We can use adjectives to describe scatterplots' positions on this spectrum, from weak to strong, as positive or negative, or as nonexistent.-->"
   ]
  },
  {
   "cell_type": "markdown",
   "metadata": {},
   "source": [
    "?<!--## 4.1 Consider the Data-->"
   ]
  },
  {
   "cell_type": "markdown",
   "metadata": {},
   "source": [
    "?<!-- #Add in table at bottom, \"Unemployment Rates by Educational Attainment, 2014,\" here... and any other widgets??-->"
   ]
  },
  {
   "cell_type": "markdown",
   "metadata": {},
   "source": [
    "?<!--1. What is one thing you notice? Which data values catch your attention?-->\n",
    "\n",
    "?<!--2. Write one question about the data that you could investigate.-->\n",
    "\n",
    "?<!--3. Share your responses to the questions with your group, and choose two interesting questions that your group could investigate.-->\n",
    "\n",
    "\n"
   ]
  },
  {
   "cell_type": "markdown",
   "metadata": {},
   "source": [
    "?<!--## 4.2 Analyze the Data-->"
   ]
  },
  {
   "cell_type": "markdown",
   "metadata": {},
   "source": [
    "?<!--The U.S. Census Bureau divides the United States into four regions, which break down further into nine divisions that are each represented by a dot in the scatter plots below. These graphs compare each division’s unemployment rate among people of different education levels with that division’s overall unemployment rate in 2014. For example, in the top left graph, the point at (4.2, 10.6) is for a Census Bureau division that had an overall unemployment rate of 4.2 percent but whose unemployment rate among those who did not graduate from high school was 10.6 percent.-->"
   ]
  },
  {
   "cell_type": "markdown",
   "metadata": {},
   "source": [
    "?<!--#Page 8: 4 scatterplots?-->"
   ]
  },
  {
   "cell_type": "markdown",
   "metadata": {},
   "source": [
    "?<!--1. Which two education levels’ unemployment rates appear to be most strongly associated with the overall unemployment rates in a division? Explain.-->\n",
    "\n",
    "?<!--2. Which education level’s unemployment rates appear to be least strongly associated with the overall unemployment rates in a division? Explain.-->\n",
    "\n",
    "?<!--3. The correlation coefficient is a measure of the strength of the linear relationship between two variables. The closer the correlation coefficient is to 0, the weaker the linear relationship. With this in mind, match each of the following correlation coefficients with the correct scatter plot from earlier. (Note: Your answers for the highest two coefficients can be interchangeable.)-->\n"
   ]
  },
  {
   "cell_type": "markdown",
   "metadata": {},
   "source": [
    "?<!--#correlation coefficient formula on page 9?-->"
   ]
  },
  {
   "cell_type": "markdown",
   "metadata": {},
   "source": [
    "?<!--Use the data below — on unemployment rates overall and for people with some college education or an associate’s degree in the four main regions identified by the Census Bureau — to complete the calculations table that follows. Note: Round your answers in the first two columns to two decimal places and those in the last three columns to four decimal places.-->"
   ]
  },
  {
   "cell_type": "markdown",
   "metadata": {},
   "source": [
    "?<!--#tables from page 10-->"
   ]
  },
  {
   "cell_type": "markdown",
   "metadata": {},
   "source": [
    "?<!--With these values now identified, the formula for correlation coefficients can be simplified to:-->"
   ]
  },
  {
   "cell_type": "markdown",
   "metadata": {},
   "source": [
    "?<!--#info from page 11 top-->"
   ]
  },
  {
   "cell_type": "markdown",
   "metadata": {},
   "source": [
    "?<!--1. Use the values for A, B, and C in the labeled boxes of your table to find the value of r, rounding to three decimal places.-->\n",
    "?<!--2. What does this r value indicate about the linear relationship between the two variables?-->\n",
    "\n",
    "?<!--3. Calculate both $\\sum_{i=1}^{n} (x_i - \\bar{x})$ and $\\sum_{i=1}^{n} (y_i - \\bar{y})$. Why will these sums, representing the combined distance of each data point from the mean, always result in this same value?-->"
   ]
  },
  {
   "cell_type": "markdown",
   "metadata": {},
   "source": [
    "### Lastly, before you exit out of this interactive lesson..."
   ]
  },
  {
   "cell_type": "markdown",
   "metadata": {},
   "source": [
    "...it's always a good idea to connect what you're learning statistically/mathematically with visuals and narratives from the actual communities who were surveyed. ***Numbers are important, but never tell the entire story.***\n",
    "\n",
    "Let's go back to what we analyzed in **Part 1** of this lesson. Chances are, if you yourself are a child of immigrant parents/grandparents or weren't born in the U.S., the \"variable,\" i.e. the level of English fluency, is relatable to your own life experiences. The Census Bureau has been asking questions about languages spoken at home since 1890, and collected language data in the 1980, 1990, and 2000 decennial censuses using a series of three questions asked of the population 5 years old and over. "
   ]
  },
  {
   "cell_type": "markdown",
   "metadata": {},
   "source": [
    "Below is a choropleth map of limited English-Speaking households as a percentage of the total county population in counties across the U.S. A *choropleth* map is essentially a map that represents a quantity or percentage of some variable through *shading* of a color (the darker the color, the 'higher' the percentage or quantity of the thing measured). "
   ]
  },
  {
   "cell_type": "markdown",
   "metadata": {},
   "source": [
    "<a href=\"https://www.census.gov/library/visualizations/2017/comm/english-speaking.html?cid=english-speaking\" target=\"_blank\"><img src=\"https://www.census.gov/content/census/en/library/visualizations/2017/comm/english-speaking/jcr:content/map.detailitem.950.high.jpg/1512595122203.jpg\" alt=\"Limited English Speaking Households as a Percentage of County Total\" width=\"648\" height=\"648\" title=\"Limited English Speaking Households as a Percentage of County Total\"/></a>"
   ]
  },
  {
   "cell_type": "markdown",
   "metadata": {},
   "source": [
    "Visuals allow us to also better understand and appreciate the sheer linguistic and cultural diversity that exists in the U.S. *The visual below is taken from this article here by share.america.gov written in 2017. Share.america.gov is managed by the U.S. Department of the State.*"
   ]
  },
  {
   "cell_type": "markdown",
   "metadata": {},
   "source": [
    "<img src=\"https://staticshare.america.gov/uploads/2017/08/Lang_maps_Reorder-01-768x1867.jpg\" alt=\"Most commonly spoken languages other than English in the U.S.\" width = \"500\" height = \"900\" title=\"Most commonly spoken languages other than English in the U.S.\"/>"
   ]
  },
  {
   "cell_type": "markdown",
   "metadata": {},
   "source": [
    "Curious about how commonly your native language(s) are spoken within your *own* community? Find out with this handy *'Language Mapper' Tool* based off of 2011 data [here](https://www.census.gov/hhes/socdemo/language/data/language_map.html). "
   ]
  },
  {
   "cell_type": "markdown",
   "metadata": {},
   "source": [
    "It's clear that a diverse plethora of languages and cultures make up the fabric of the U.S..\n",
    "\n",
    "And yet, even in 2019, **citizens are discriminated and put in danger for even conversing in their native languages.** Testimonies reported by several news outlets, from [The Guardian](https://www.theguardian.com/us-news/2018/may/22/speaking-spanish-dangerous-america-aaron-schlossberg-ice) (*warning: potentially vulgar language*) to [El Pais](https://elpais.com/elpais/2018/05/30/inenglish/1527671538_960209.html) and [Remezcla](https://remezcla.com/features/culture/why-we-wont-stop-speaking-spanish-in-public/), show the grim realities that Spanish speakers/hispanohablantes face. \n",
    "\n",
    "Spanish speakers are reprimanded by non-Spanish-speaking white co-workers/older executives for socializing in Spanish 'because “other people” might think they were talking trash about them,' told that '“the least they can do is speak English”,' subjected to the stereotypical assumption that they are unable to 'speak English well enough,' and even detained by Border Patrol in Montana and verbally attacked in public in New York."
   ]
  },
  {
   "cell_type": "markdown",
   "metadata": {},
   "source": [
    "Thus, while simply plotting the levels of English fluency amongst Spanish-speaking households across the U.S. and analyzing those graphs are important ways to learn basic statistics concepts, it is crucial to also understand that this data and these numbers are tied to real families who have to go through those experiences. **Actively thinking about *who* the data is describing is equally important as understanding what conclusions can be derived from the data or *what* the data is measuring.**\n",
    "\n",
    "For Spanish speakers and other individuals who speak a language other than English, the data used in this lesson comes from familiar, close-to-home narratives. If you identify as a member of a non-English-speaking household, **being proud and taking ownership of your language(s), culture(s), and heritage** is the ***ultimate*** form of resistance to combat this horribly racist trend. "
   ]
  },
  {
   "cell_type": "markdown",
   "metadata": {
    "collapsed": true
   },
   "source": [
    "---\n",
    "\n",
    "## 4. Bibliography <a id='4'></a>"
   ]
  },
  {
   "cell_type": "markdown",
   "metadata": {},
   "source": [
    "\n",
    "**Notebook developed by:** Varsha Vaidyanath, Jarelly Martin, and Jennifer Kwon\n",
    "\n",
    "**Modified by:** Varsha Vaidyanath, Jarelly Martin, Yuyang Zhong, and Sandeep Sainath\n",
    "\n",
    "**Date:** August 4, 2019 \n",
    "\n",
    "**Using:** https://www.census.gov/programs-surveys/sis/activities/math/patterns.html\n",
    "    \n",
    "**Suggested Grade Level:** 9-12\n",
    "\n",
    "**Data Science Discovery Program:** http://data.berkeley.edu/education/module\n"
   ]
  },
  {
   "cell_type": "code",
   "execution_count": null,
   "metadata": {},
   "outputs": [],
   "source": []
  }
 ],
 "metadata": {
  "kernelspec": {
   "display_name": "Python 3",
   "language": "python",
   "name": "python3"
  },
  "language_info": {
   "codemirror_mode": {
    "name": "ipython",
    "version": 3
   },
   "file_extension": ".py",
   "mimetype": "text/x-python",
   "name": "python",
   "nbconvert_exporter": "python",
   "pygments_lexer": "ipython3",
   "version": "3.6.8"
  }
 },
 "nbformat": 4,
 "nbformat_minor": 2
}
