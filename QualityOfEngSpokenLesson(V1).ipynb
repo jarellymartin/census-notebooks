{
 "cells": [
  {
   "cell_type": "markdown",
   "metadata": {},
   "source": [
    "# Determining the Quality of English Spoken by Spanish-speaking Households - An Interactive Lesson"
   ]
  },
  {
   "cell_type": "markdown",
   "metadata": {},
   "source": [
    "### *Intended for 6-12th grade students*"
   ]
  },
  {
   "cell_type": "markdown",
   "metadata": {},
   "source": [
    "#### Varsha, Jarelly, & Jenny (#CENSUS2020)"
   ]
  },
  {
   "cell_type": "markdown",
   "metadata": {},
   "source": [
    "**Tip**: When you're done reading each part of this lesson, press the **'Shift' + 'Enter' keys at the same time** to quickly move through each 'cell' and run the code! "
   ]
  },
  {
   "cell_type": "code",
   "execution_count": 1,
   "metadata": {},
   "outputs": [],
   "source": [
    "#Press 'Shift' + 'Enter' to run this code! It will help load graphs & charts that this lesson has!\n",
    "\n",
    "import numpy as np\n",
    "import pandas as pd\n",
    "import matplotlib.pyplot as plt"
   ]
  },
  {
   "cell_type": "markdown",
   "metadata": {},
   "source": [
    "In this lesson, you will investigate how trends in English fluency among Spanish-speaking households in the U.S. have changed  over time."
   ]
  },
  {
   "cell_type": "markdown",
   "metadata": {},
   "source": [
    "You will do this by\n",
    "1. creating a scatter plot using data from the U.S. Census Bureau, in which residents who primarily speak Spanish at home were asked to self-report the quality of their spoken English, and \n",
    "2. studying associations between the years the data were reported (2009–2013) and the ratings for speaking English (“very well” and “less than very well”)."
   ]
  },
  {
   "cell_type": "markdown",
   "metadata": {},
   "source": [
    "### But before we dive in, let's answer a question you might have: Why are we learning about statistics through Census data? In fact, why even _care_ about the Census in the first place?"
   ]
  },
  {
   "cell_type": "markdown",
   "metadata": {},
   "source": [
    "Depending on how old you are, you might or might not have watched your family or guardian fill out a long form about a decade ago that had some admittedly specific, slightly invasive questions like: \n",
    "1. How many people live or stay in this house, apartment, or mobile home?\n",
    "2. What is the name of the person who owns this house, apartment, or mobile home?\n",
    "3. How old is the person who owns this house, apartment, or mobile home? When is his or her birthday?"
   ]
  },
  {
   "cell_type": "markdown",
   "metadata": {},
   "source": [
    "Fear not, however - this is not a case of #StrangerDanger! Rather, this census form is a way for the government to get a good idea as to **who** it is serving, which is: **YOU!** The government uses the data it gets from this nation-wide Census to determine how to best distribute funding across all communities in the U.S. as well as understand where community services are needed and how to implement them. Because of the Census, your neighborhood and city can improve its education and transportation, promote public health, and use the given money to make improvements. More services can be given to the elderly, new roads and schools can be built, and more job training centers can be maintained and established. *Everyone* benefits."
   ]
  },
  {
   "cell_type": "markdown",
   "metadata": {},
   "source": [
    "The amount of representation that your state has also changes within Congress (in the U.S. House of Representatives) every time the Census is given out, once every ten years. The collective voices of those vouching for your state's well-being in Congress could increase, decrease, or stay the same. Additionally, the representative (the \"voice\") representing your community in the local, state, and federal governments could change, because district lines are redrawn every time. Members of Congress, state legislators, and many county and municipal offices are elected by voters grouped into districts, and you could be voting for different people depending on how these lines are drawn. These representatives are your spokespeople - their job is to listen to your needs and support policies that will help your community in the federal government!  "
   ]
  },
  {
   "cell_type": "markdown",
   "metadata": {},
   "source": [
    "For more information, check out this document [here](https://www2.census.gov/programs-surveys/sis/resources/census101.pdf), designed to inform students like you on why the Census is so important! And for more reading on the confusing topic of re-districting, read [here](https://www.brennancenter.org/analysis/7-things-know-about-redistricting). "
   ]
  },
  {
   "cell_type": "markdown",
   "metadata": {},
   "source": [
    "TL;DR: The Census exists because the government cares about you. So let's dive into specific qualities that the census measures and understand them! "
   ]
  },
  {
   "cell_type": "markdown",
   "metadata": {},
   "source": [
    "### Back to the lesson plan..."
   ]
  },
  {
   "cell_type": "markdown",
   "metadata": {},
   "source": [
    "Brace yourself: there's a bit more reading. (I know, I'm sorry)"
   ]
  },
  {
   "cell_type": "markdown",
   "metadata": {},
   "source": [
    "Here are some terms to go over before creating your scatter plot and analyzing English fluency in Spanish-speaking households and how fluency has changed over time. You'll need to understand these before moving on. "
   ]
  },
  {
   "cell_type": "markdown",
   "metadata": {},
   "source": [
    "## Vocabulary"
   ]
  },
  {
   "cell_type": "markdown",
   "metadata": {},
   "source": [
    "* **Bivariate data** – pairs of linked numerical observations. \n",
    "(Example: a list of heights and weights for each\n",
    "player on a football team)\n",
    "* **Categorical variable** – a variable that is not numerical, such as a name or label, that places an object into\n",
    "one of several groups or categories (e.g., the color of a ball or the breed of a dog)\n",
    "* **Quantitative variable** – a variable that is numerical, meaning that it represents a measurable quantity*\n",
    "(e.g., the population size of a city)\n",
    "* **Explanatory variable** – the “independent” variable, which helps explain the changes in the response\n",
    "variable\n",
    "* **Response variable** – the “dependent” variable, which shows an outcome\n",
    "* **Form of association** – the shape that data make moving from left to right on a scatter plot (e.g., linear,\n",
    "parabolic, quadratic)\n",
    "* **Line of best fit** – a straight line drawn through the center of a group of data points on a scatter plot,\n",
    "showing how closely the two variables on the scatter plot are associated\n",
    "* **Strength of association** – a measure of how tightly points are clustered\n",
    "* **Negative direction of association** – an association in which one variable increases as the other decreases;\n",
    "when a line of best fit represents a negative association, the line has a negative slope (e.g., for time a\n",
    "musician spends practicing a piece and mistakes made during performing; the more time spent practicing,\n",
    "the fewer mistakes that musician will likely make)\n",
    "* **Outlier** – a data point that is well outside of the expected range of values or does not follow the overall\n",
    "pattern of the other data points\n",
    "* **Positive direction of association** – an association in which one variable increases as the other increases;\n",
    "when a line of best fit represents a positive association, the line has a positive slope (e.g., for children’s age\n",
    "and height; as children get older, they usually get taller)\n",
    "* **Scatter plot** – a graph in the coordinate plane that displays a set of bivariate data and can be used to\n",
    "determine how two variables are associated (e.g., to show associations between the heights and weights\n",
    "of a group of people)\n"
   ]
  },
  {
   "cell_type": "markdown",
   "metadata": {},
   "source": [
    "## Part 1: Creating a Scatter Plot"
   ]
  },
  {
   "cell_type": "markdown",
   "metadata": {},
   "source": [
    "Let's look at some data pulled from the American Community Survey. The American Community Survey (ACS) is conducted monthly by the U.S. Census Bureau and is designed to show how communities are changing. Through asking questions of a sample of the population, it produces national data on more than 35 categories of information, such as education, income, housing, and employment.\n",
    "\n",
    "The following data is from the 2009-2013 American Community Survey 5-Year Estimates: 'Language Spoken At Home.' We will examine the trends in the quality of English spoken by U.S. residents who primarily speak Spanish at home by looking at **two** variables: the percentage of Spanish-speaking residents who reported speaking English **“very well”** and the percentage of Spanish-speaking residents who reported speaking English **“less than very well.\"**"
   ]
  },
  {
   "cell_type": "markdown",
   "metadata": {},
   "source": [
    "You can see the entire data table [here](https://factfinder.census.gov/bkmk/table/1.0/en/ACS/13_5YR/B16001/0100000US), but we've done the work to extract these two variables for you."
   ]
  },
  {
   "cell_type": "code",
   "execution_count": 2,
   "metadata": {},
   "outputs": [
    {
     "data": {
      "text/html": [
       "<div>\n",
       "<style scoped>\n",
       "    .dataframe tbody tr th:only-of-type {\n",
       "        vertical-align: middle;\n",
       "    }\n",
       "\n",
       "    .dataframe tbody tr th {\n",
       "        vertical-align: top;\n",
       "    }\n",
       "\n",
       "    .dataframe thead th {\n",
       "        text-align: right;\n",
       "    }\n",
       "</style>\n",
       "<table border=\"1\" class=\"dataframe\">\n",
       "  <thead>\n",
       "    <tr style=\"text-align: right;\">\n",
       "      <th></th>\n",
       "      <th>Year</th>\n",
       "      <th>Percentage who reported speaking English “very well”</th>\n",
       "      <th>Percentage who reported speaking English “less than very well”</th>\n",
       "    </tr>\n",
       "  </thead>\n",
       "  <tbody>\n",
       "    <tr>\n",
       "      <th>0</th>\n",
       "      <td>2009</td>\n",
       "      <td>54.3</td>\n",
       "      <td>45.7</td>\n",
       "    </tr>\n",
       "    <tr>\n",
       "      <th>1</th>\n",
       "      <td>2010</td>\n",
       "      <td>55.3</td>\n",
       "      <td>44.7</td>\n",
       "    </tr>\n",
       "    <tr>\n",
       "      <th>2</th>\n",
       "      <td>2011</td>\n",
       "      <td>56.3</td>\n",
       "      <td>43.7</td>\n",
       "    </tr>\n",
       "    <tr>\n",
       "      <th>3</th>\n",
       "      <td>2012</td>\n",
       "      <td>57.9</td>\n",
       "      <td>42.1</td>\n",
       "    </tr>\n",
       "    <tr>\n",
       "      <th>4</th>\n",
       "      <td>2013</td>\n",
       "      <td>57.8</td>\n",
       "      <td>42.2</td>\n",
       "    </tr>\n",
       "  </tbody>\n",
       "</table>\n",
       "</div>"
      ],
      "text/plain": [
       "   Year  Percentage who reported speaking English “very well”  \\\n",
       "0  2009                                               54.3      \n",
       "1  2010                                               55.3      \n",
       "2  2011                                               56.3      \n",
       "3  2012                                               57.9      \n",
       "4  2013                                               57.8      \n",
       "\n",
       "   Percentage who reported speaking English “less than very well”  \n",
       "0                                               45.7               \n",
       "1                                               44.7               \n",
       "2                                               43.7               \n",
       "3                                               42.1               \n",
       "4                                               42.2               "
      ]
     },
     "execution_count": 2,
     "metadata": {},
     "output_type": "execute_result"
    }
   ],
   "source": [
    "#Run this code to see a graph by pressing 'Shift' + 'Enter'\n",
    "\n",
    "data = {'Percentage who reported speaking English “less than very well”':[45.7, 44.7, 43.7, 42.1, 42.2],\n",
    "        'Percentage who reported speaking English “very well”':[54.3, 55.3, 56.3, 57.9, 57.8], \n",
    "        'Year': [2009, 2010, 2011, 2012, 2013]} \n",
    "        # could also have 'year' as index, but because 'year' will be plotted, it's better\n",
    "        # to have it as a column in the dataframe\n",
    "\n",
    "chart1 = pd.DataFrame(data)\n",
    "chart1 = chart1[['Year', 'Percentage who reported speaking English “very well”', \n",
    "                 'Percentage who reported speaking English “less than very well”']]\n",
    "chart1"
   ]
  },
  {
   "cell_type": "markdown",
   "metadata": {},
   "source": [
    "We're now going to create a **scatter plot** to better visualize the data."
   ]
  },
  {
   "cell_type": "markdown",
   "metadata": {},
   "source": [
    "**However**, before you scroll down, take a moment to think about what this graph might look like. \n",
    "\n",
    "_Which variables are on the x and y axis?_\n",
    "\n",
    "Going a step further: _Can you already predict how the points might look like on the graph? What trends do you see?_\n",
    "\n",
    "**Talk to the person next to you (or spend a few minutes) and answer these questions. Then, graph the data yourself on a scatter plot, then check your graph to make sure it matches with ours below!** \n",
    "\n",
    "**Tips to graph**: The graph you make should have *ten dots* total, with *two* colors: one to represent the percentages of people who reported speaking English \"less than very well,\" and one to representage the percentages of those speaking English \"very well.\" "
   ]
  },
  {
   "cell_type": "markdown",
   "metadata": {},
   "source": [
    "The graph should look like this:"
   ]
  },
  {
   "cell_type": "code",
   "execution_count": 3,
   "metadata": {},
   "outputs": [
    {
     "data": {
      "image/png": "[encoded data removed]",
      "text/plain": [
       "<matplotlib.figure.Figure at 0x2d13cddd588>"
      ]
     },
     "metadata": {},
     "output_type": "display_data"
    }
   ],
   "source": [
    "# Run to see the scatter plot by pressing 'Shift' + 'Enter'\n",
    "\n",
    "x = chart1['Year']\n",
    "y = chart1['Percentage who reported speaking English “less than very well”']\n",
    "z = chart1['Percentage who reported speaking English “very well”']\n",
    "\n",
    "\n",
    "plt.scatter(x, y, color='orange')\n",
    "plt.scatter(x, z, color='blue')\n",
    "\n",
    "###################################################################\n",
    "\n",
    "plt.legend(('', ''), loc='center right') \n",
    "\n",
    "                    # what level of the explanatory/independent variable do the orange dots represent (the first '')?\n",
    "                    # 'less than very well'? or 'very well'?\n",
    "                    # what about the blue dots (the second pair of '')?\n",
    "\n",
    "###################################################################\n",
    "\n",
    "plt.title('')\n",
    "    # inside the parentheses '()', put in the title of the graph!\n",
    "    # set the title to something such as 'Quality of Spoken English in Primarily Spanish-Speaking Homes in the United States'\n",
    "plt.xlabel('')\n",
    "    # fill in the parenthesis '()' with the name in quotations ''\n",
    "    # look at the bottom, horizontal x-axis - what variable is being used here? \n",
    "plt.ylabel('')\n",
    "    # fill in the parenthesis '()' with the name in quotations ''\n",
    "    # look at the side, vertical y-axis - what variable is being used here?\n",
    "\n",
    "\n",
    "plt.show()"
   ]
  },
  {
   "cell_type": "markdown",
   "metadata": {},
   "source": [
    "Take a few moments to understand the graph above. \n",
    "\n",
    "Ask yourself...\n",
    "* Why are we using _different_ colors in the legend?\n",
    "* What _patterns_ do you see in the data?\n",
    "\n",
    "And...\n",
    "\n",
    "* Do you think these two paths ever crossed in earlier years?\n",
    "* Do you think these paths will cross in future years?\n",
    "\n",
    "Does your own graph look like this one? If there are any differences, try to understand why. Talk to your neighbors as well!"
   ]
  },
  {
   "cell_type": "markdown",
   "metadata": {},
   "source": [
    "If something looks off, that's because there aren't any *labels* distinguishing between the two different trends. We need a **legend** for this scatterplot!"
   ]
  },
  {
   "cell_type": "code",
   "execution_count": 4,
   "metadata": {
    "collapsed": true
   },
   "outputs": [],
   "source": [
    "# Go back to the previous cell and fill in the parentheses after 'plt.legend()' with names!\n",
    "# Think about what each trend represents. Which variable is represented by the **orange** dot? \n",
    "# Which variable is represented by the **blue** dot? Hint: What are we comparing? Percentage of people who speak English..."
   ]
  },
  {
   "cell_type": "markdown",
   "metadata": {},
   "source": [
    "But wait, something else is missing: these **axes** need **labels**!"
   ]
  },
  {
   "cell_type": "code",
   "execution_count": 5,
   "metadata": {
    "collapsed": true
   },
   "outputs": [],
   "source": [
    "# Add the **x-label, y-label**, and **title** of the graph by filling in the code in the same previous cell and then running it."
   ]
  },
  {
   "cell_type": "markdown",
   "metadata": {},
   "source": [
    "----------------------------------------------------------------------------------------------------------\n",
    "Now that you have your full graph, axes labels and title included, it's time to answer a few questions:\n",
    "\n",
    "1. What is the **explanatory** variable on your scatter plot? \n",
    "2. What is the **response** variable for each set of data points?\n",
    "\n",
    "_Tip_: If you've forgotten what these variables mean again, look at the vocabulary section above again!"
   ]
  },
  {
   "cell_type": "markdown",
   "metadata": {},
   "source": [
    "############################################################################\n",
    "\n",
    "*Type your answers here!* _Remember to press 'Shift' + 'Enter' to move on once you're finished!_\n",
    "\n",
    "############################################################################"
   ]
  },
  {
   "cell_type": "markdown",
   "metadata": {},
   "source": [
    "---------------------------------------------------------------------------------------------------\n",
    "If data points on a scatter plot form a *positive* slope, it means that they have a *positive association*. In\n",
    "these cases, as you look from left to right on the scatter plot, the line appears to move “uphill.” This means\n",
    "that **as the explanatory variable increases, the response variable tends to increase as well.**"
   ]
  },
  {
   "cell_type": "markdown",
   "metadata": {},
   "source": [
    "3. Which _category of data_ shows a **positive** association over time?\n",
    "4. Could you explain why that association may be positive? "
   ]
  },
  {
   "cell_type": "markdown",
   "metadata": {},
   "source": [
    "############################################################################\n",
    "\n",
    "*Type your answers here!* _Remember to press 'Shift' + 'Enter' to move on once you're finished!_\n",
    "\n",
    "############################################################################"
   ]
  },
  {
   "cell_type": "markdown",
   "metadata": {},
   "source": [
    "----------------------------------------------------------------------------------------------------\n",
    "Answer the four questions above with a partner, and then check your answers with the teacher when you are done. _(You're doing great! If you want to save the work/code you've run, go to 'File' in the upper left-hand corner and click 'Save and Checkpoint')_"
   ]
  },
  {
   "cell_type": "markdown",
   "metadata": {},
   "source": [
    "On the other hand, if data points on a scatter plot form a _negative_ slope, it means they have a _negative association_. In these\n",
    "cases, as you look from left to right on the scatter plot, the line appears to move “downhill.” This means\n",
    "that **as the explanatory variable increases, the response variable tends to decrease**.\n",
    "\n",
    "1. Which _category of data_ shows a **negative** association over time?\n",
    "2. Could you explain why that association may be negative?\n"
   ]
  },
  {
   "cell_type": "markdown",
   "metadata": {},
   "source": [
    "############################################################################\n",
    "\n",
    "*Type your answers here!* _Remember to press 'Shift' + 'Enter' to move on once you're finished!_\n",
    "\n",
    "############################################################################"
   ]
  },
  {
   "cell_type": "markdown",
   "metadata": {},
   "source": [
    "-------------------------------------------------------------------------------------------------------------------\n",
    "\n",
    "On your own drawn scatterplot, use a straight edge to draw a **best fit line** through the data points, or a straight line through the center of the data points, for speaking English “very well.” Do the same to try to connect the data points for\n",
    "speaking English “less than very well.” \n",
    "\n",
    "Which set of data more closely follows a straight line? _Hint: Observe both carefully!_"
   ]
  },
  {
   "cell_type": "markdown",
   "metadata": {},
   "source": [
    "############################################################################\n",
    "\n",
    "*Type your answer here!* _Remember to press 'Shift' + 'Enter' to move on once you're finished!_\n",
    "\n",
    "############################################################################"
   ]
  },
  {
   "cell_type": "markdown",
   "metadata": {},
   "source": [
    "-------------------------------------------------------------------------------------------------------------------\n",
    "\n",
    "Now, summarize the association between the percentage of Spanish-speaking residents who reported speaking\n",
    "English “very well” and the years 2009 through 2013:"
   ]
  },
  {
   "cell_type": "markdown",
   "metadata": {},
   "source": [
    "############################################################################\n",
    "\n",
    "*Type a quick, one sentence summary here!* _Remember to press 'Shift' + 'Enter' to move on once you're finished!_\n",
    "\n",
    "############################################################################\n",
    "\n",
    "_Tip: If you're stuck on how to format this answer, it should look something like this: There is a [type of association] between [fully-described explanatory variable] and [fully-described response variable]._\n"
   ]
  },
  {
   "cell_type": "markdown",
   "metadata": {},
   "source": [
    "-------------------------------------------------------------------------------------------------------------------\n",
    "\n",
    "Time to take matters into your own hands! Write a question about the scatter plot for a classmate to answer."
   ]
  },
  {
   "cell_type": "markdown",
   "metadata": {},
   "source": [
    "############################################################################\n",
    "\n",
    "*Type your question here!*\n",
    "\n",
    "############################################################################"
   ]
  },
  {
   "cell_type": "markdown",
   "metadata": {},
   "source": [
    "-------------------------------------------------------------------------------------------------------------------\n",
    "\n",
    "After you're done creating the question, turn to a classmate near you and ask your question. How well did your classmate answer the question? Did you need to reword the question so that your classmate could understand what you were asking? Did you follow up with another question? Explain below."
   ]
  },
  {
   "cell_type": "markdown",
   "metadata": {},
   "source": [
    "############################################################################\n",
    "\n",
    "*Type your explanation here!*\n",
    "\n",
    "############################################################################"
   ]
  },
  {
   "cell_type": "markdown",
   "metadata": {},
   "source": [
    "-------------------------------------------------------------------------------------------------------------------\n",
    "\n",
    "Is there a relationship between the percentage of Spanish speakers who reported speaking English “very well” and the percentage of Spanish speakers who reported speaking English “less than very well”? _Hint: Have you tried **adding** the two percentages for every year?_ "
   ]
  },
  {
   "cell_type": "markdown",
   "metadata": {},
   "source": [
    "############################################################################\n",
    "\n",
    "*Type your answer here!*\n",
    "\n",
    "############################################################################"
   ]
  },
  {
   "cell_type": "markdown",
   "metadata": {},
   "source": [
    "------------------------------------------\n",
    "**Congratulations!** You're done with **Part 1** of this lesson. Hopefully, you now not only know how to create scatter plots and describe direction, form, and strength of associations within these scatter plots, but also understand the relationship between two variables measured by the Census and their importance in the real world.\n",
    "\n",
    "Make sure to click 'File', then 'Save and Checkpoint' in the upper left-hand corner before moving on!"
   ]
  },
  {
   "cell_type": "markdown",
   "metadata": {},
   "source": [
    "## Part 2: Apply What You've Learned"
   ]
  },
  {
   "cell_type": "markdown",
   "metadata": {},
   "source": [
    "In this part of the lesson, you will practice what you've learned so far about patterns of association, using the guesstimation game below. Try and guess what the direction, form, and strength of each association is below. You will see four examples, with a given context. The answers will be at the end of the last question."
   ]
  },
  {
   "cell_type": "markdown",
   "metadata": {},
   "source": [
    "1. A farmer lives in a rural village with a drought. He's built a rain gauge so that when rain does fall, he can collect it and use it for his crops. Recently, there was a large rainstorm and he was able to collect rain in his rain gauge. Use the graph below to track association with x as hours since rain started to fall and y as centimeters of rain collected in a rain gauge."
   ]
  },
  {
   "cell_type": "code",
   "execution_count": 29,
   "metadata": {},
   "outputs": [
    {
     "data": {
      "image/png": "[encoded data removed]",
      "text/plain": [
       "<matplotlib.figure.Figure at 0x2d13d4c25c0>"
      ]
     },
     "metadata": {},
     "output_type": "display_data"
    }
   ],
   "source": [
    "# Run this cell to see the graph. Remember to press 'Shift' + 'Enter' to move on once you're finished!\n",
    "rain_collected = {\"Time Since Rain Started to Fall (hrs)\":[1, 2, 2.25, 3.5, 4, 5, 5.25, 5.75, 6.75, 7.25, 7.75, 8, 9],\n",
    "                  \"Rain Collected (cm)\":[1.5, 2.25, 3.5, 4, 5, 5.5, 6, 7.25, 7.75, 8.5, 7.5, 8.75, 9.5]} \n",
    "tbl = pd.DataFrame(rain_collected)\n",
    "plt.scatter(tbl[\"Time Since Rain Started to Fall (hrs)\"].values, tbl[\"Rain Collected (cm)\"].values)\n",
    "plt.xlabel(\"Time Since Rain Started to Fall (hrs)\")\n",
    "plt.ylabel(\"Rain Collected (cm)\")\n",
    "plt.show()"
   ]
  },
  {
   "cell_type": "code",
   "execution_count": 30,
   "metadata": {
    "collapsed": true
   },
   "outputs": [],
   "source": [
    "# Type your guesses here! Remember to press 'Shift' + 'Enter' to move on once you're finished!\n",
    "\n",
    "Direction: \"\" # fill in the \"\" - is the direction positive, negative, or none?\n",
    "Form: \"\" # fill in the \"\" - is the form linear, curved, or none?\n",
    "Strength: \"\" # fill in the \"\" - is the strength super strong? somewhat strong? or weak?\n",
    "Explanation: \"\" # fill in the \"\" with one sentence describing the relationship you see in the above graph!"
   ]
  },
  {
   "cell_type": "markdown",
   "metadata": {},
   "source": [
    "2. A company that sells video games wants to see when the optimal times to sell video games will be to increase sales and profit. To accomplish this, a worker at the company decides to study sales patterns for a certain video game. Use the graph below to look at association with x as weeks since the video game was released and y as number of video games sold by one internet vendor."
   ]
  },
  {
   "cell_type": "code",
   "execution_count": 31,
   "metadata": {},
   "outputs": [
    {
     "data": {
      "image/png": "[encoded data removed]",
      "text/plain": [
       "<matplotlib.figure.Figure at 0x2d13d4c21d0>"
      ]
     },
     "metadata": {},
     "output_type": "display_data"
    }
   ],
   "source": [
    "# Run this cell to see the graph.\n",
    "rain_collected = {\"Time Since Video Game Release (weeks)\":[1, 1.25, 1.375, 1.5, 2.5, 3.5, 5, 6.5, 7, 7.5, 8, 8.5, 9],\n",
    "                  \"Number of Video Games Sold\":[2.5, 4.25, 5.4, 6, 7.25, 7.75, 8, 7.8, 7.25, 8.5, 7, 5, 3.5]} \n",
    "tbl = pd.DataFrame(rain_collected)\n",
    "plt.scatter(tbl[\"Time Since Video Game Release (weeks)\"].values, tbl[\"Number of Video Games Sold\"].values)\n",
    "plt.xlabel(\"Time Since Video Game Release (weeks)\")\n",
    "plt.ylabel(\"Number of Video Games Sold\")\n",
    "plt.show()"
   ]
  },
  {
   "cell_type": "code",
   "execution_count": 32,
   "metadata": {
    "collapsed": true
   },
   "outputs": [],
   "source": [
    "# Type your guesses here! Remember to press 'Shift' + 'Enter' to move on once you're finished!\n",
    "\n",
    "Direction: \"\" # fill in the \"\" - is the direction \"positive\", \"negative\", or \"none\"?\n",
    "Form: \"\" # fill in the \"\" - is the form \"linear\", \"curved,\" or \"none\"?\n",
    "Strength: \"\" # fill in the \"\" - is the strength \"super strong\"? \"somewhat strong\"? or \"weak\"?\n",
    "Explanation: \"\" # fill in the \"\" with one sentence describing the relationship you see in the above graph!"
   ]
  },
  {
   "cell_type": "markdown",
   "metadata": {},
   "source": [
    "3. A music student wants to perform in a future piano recital, but she's not sure how much practice she does will relate to an effective amount of improvement for her to perform in time for the recital. Her music instructor decides to observe and note the practice hours and improvement of some of her other students to help this student, as well as future students. Use the graph below to analyze association with x as number of hours spent practicing recital music and y as number of mistakes made, recorded by the music instructor."
   ]
  },
  {
   "cell_type": "code",
   "execution_count": 12,
   "metadata": {},
   "outputs": [
    {
     "data": {
      "image/png": "[encoded data removed]",
      "text/plain": [
       "<matplotlib.figure.Figure at 0x2d13d23d4e0>"
      ]
     },
     "metadata": {},
     "output_type": "display_data"
    }
   ],
   "source": [
    "# Run this cell to see the graph.\n",
    "rain_collected = {\"Time Spent Practicing Recital Music (hrs)\":[0.25, 0.75, 1.5, 2.5, 2.8, 3, 3.75, 4.6, 5.25, 5.35, 7.15, 8, 9.25],\n",
    "                  \"Number of Mistakes Made\":[8.5, 7.25, 1.5, 7.5, 5.8, 7, 4.5, 7, 5, 3.5, 3.7, 2.25, 0.75]} \n",
    "tbl = pd.DataFrame(rain_collected)\n",
    "plt.scatter(tbl[\"Time Spent Practicing Recital Music (hrs)\"].values, tbl[\"Number of Mistakes Made\"].values)\n",
    "plt.xlabel(\"Time Spent Practicing Recital Music (hrs)\")\n",
    "plt.ylabel(\"Number of Mistakes Made\")\n",
    "plt.show()"
   ]
  },
  {
   "cell_type": "code",
   "execution_count": 13,
   "metadata": {
    "collapsed": true
   },
   "outputs": [],
   "source": [
    "# Type your guesses here! Remember to press 'Shift' + 'Enter' to move on once you're finished!\n",
    "\n",
    "Direction: \"\" # fill in the \"\" - is the direction \"positive\", \"negative\", or \"none\"?\n",
    "Form: \"\" # fill in the \"\" - is the form \"linear\", \"curved,\" or \"none\"?\n",
    "Strength: \"\" # fill in the \"\" - is the strength \"super strong\"? \"somewhat strong\"? or \"weak\"?\n",
    "Explanation: \"\" # fill in the \"\" with one sentence describing the relationship you see in the above graph!"
   ]
  },
  {
   "cell_type": "markdown",
   "metadata": {},
   "source": [
    "4. A middle school student and his friends are very interested in baseball, and they all collect baseball cards. One day, the student wonders if the numbers in their individual collections create distractions that cause some of them to take longer to get school than others, making them arrive late. Use the graph below to understand association with x as number of baseball cards owned by a student and y as number of minutes it takes a student to walk to school. "
   ]
  },
  {
   "cell_type": "code",
   "execution_count": 14,
   "metadata": {},
   "outputs": [
    {
     "data": {
      "image/png": "[encoded data removed]",
      "text/plain": [
       "<matplotlib.figure.Figure at 0x2d13d27cba8>"
      ]
     },
     "metadata": {},
     "output_type": "display_data"
    }
   ],
   "source": [
    "# Run this cell to see the graph.\n",
    "rain_collected = {\"Number of Baseball Cards Owned By A Student\":[0.9, 1, 1.5, 2.5, 2.65, 3.25, 3.25, 3.5, 3.6, 3.85, 4, 5, 5.5, 6, 6.5, 7, 7.25, 7.5, 8, 8.5],\n",
    "                  \"Time Student Took to Walk to School (min)\":[7, 9, 3.5, 5.5, 8.5, 1, 3.5, 7, 7.75, 8, 5, 6.75, 5, 2, 7.5, 9, 6.25, 3, 4, 7.5]} \n",
    "tbl = pd.DataFrame(rain_collected)\n",
    "plt.scatter(tbl[\"Number of Baseball Cards Owned By A Student\"].values, tbl[\"Time Student Took to Walk to School (min)\"].values)\n",
    "plt.xlabel(\"Number of Baseball Cards Owned By A Student\")\n",
    "plt.ylabel(\"Time Student Took to Walk to School (min)\")\n",
    "plt.show()"
   ]
  },
  {
   "cell_type": "code",
   "execution_count": 15,
   "metadata": {
    "collapsed": true
   },
   "outputs": [],
   "source": [
    "# Type your guesses here! Remember to press 'Shift' + 'Enter' to move on once you're finished!\n",
    "\n",
    "Direction: \"\" # fill in the \"\" - is the direction \"positive\", \"negative\", or \"none\"?\n",
    "Form: \"\" # fill in the \"\" - is the form \"linear\", \"curved,\" or \"none\"?\n",
    "Strength: \"\" # fill in the \"\" - is the strength \"super strong\"? \"somewhat strong\"? or \"weak\"?\n",
    "Explanation: \"\" # fill in the \"\" with one sentence describing the relationship you see in the above graph!"
   ]
  },
  {
   "cell_type": "markdown",
   "metadata": {},
   "source": [
    "Take some time to think about the implications of your answers in terms of the context. How might the results of your observations affect the person in the story and context provided? How could that person use the information?"
   ]
  },
  {
   "cell_type": "markdown",
   "metadata": {},
   "source": [
    "**Answers**"
   ]
  },
  {
   "cell_type": "markdown",
   "metadata": {},
   "source": [
    "Story 1\n",
    "Direction: Positive\n",
    "Form: Linear\n",
    "Strength: Strong\n",
    "Explanation:  The longer it rains, the more centimeters of rain will be collected in the gauge. In this example, it seems that the rate of rainfall is somewhat constant."
   ]
  },
  {
   "cell_type": "markdown",
   "metadata": {},
   "source": [
    "Story 2\n",
    "Direction: Positive, then negative\n",
    "Form: Curved\n",
    "Strength: Strong\n",
    "Explanation:  Answers may vary but could include the following: The form is parabolic or quadratic, meaning that it is curved. When a video game is first released, it is not very popular because not many people know about it. However, as more people learn how much fun it is, the sales increase. Eventually, everyone who wants the game already owns it, so sales drop off. "
   ]
  },
  {
   "cell_type": "markdown",
   "metadata": {},
   "source": [
    "Story 3\n",
    "Direction: Negative\n",
    "Form: Linear\n",
    "Strength: Somewhat strong (excluding the outlier)\n",
    "Explanation: As the musician practices over time, he or she makes fewer mistakes (as recorded by the instructor)"
   ]
  },
  {
   "cell_type": "markdown",
   "metadata": {},
   "source": [
    "Story 4\n",
    "Direction: None\n",
    "Form: None\n",
    "Strength: Weak\n",
    "Explanation: Direction, form, and strength indicate that the two variables are not associated. The number of baseball cards that a student owns is not related to the number of minutes it takes for a student to walk to school."
   ]
  },
  {
   "cell_type": "markdown",
   "metadata": {},
   "source": [
    "**Congrats on finishing Part 2 out of 3 of this lesson!** Make sure to click 'File', then 'Save and Checkpoint' in the upper left-hand corner before moving on!"
   ]
  },
  {
   "cell_type": "markdown",
   "metadata": {},
   "source": [
    "## Part 3: Determine and Explain Negative and Positive Associations"
   ]
  },
  {
   "cell_type": "markdown",
   "metadata": {},
   "source": [
    "Now that you have completed Parts 1 and 2, you have learned about scatter plots, both positive and negative associations, but now its time to put it up to the test!\n",
    "\n",
    "We are going to go through a few scenerios where **you** will determine if it is a positive or negative association. Similar to Part 2, you wil be given the x-axis and y-axis for the scatter plot but this time without the plot visualization. "
   ]
  },
  {
   "cell_type": "markdown",
   "metadata": {},
   "source": [
    "### Let's get started..."
   ]
  },
  {
   "cell_type": "markdown",
   "metadata": {},
   "source": [
    "*Note: If you forget the definitions of either positive and negative associations, review Parts 1 and 2!*\n"
   ]
  },
  {
   "cell_type": "markdown",
   "metadata": {},
   "source": [
    "----------------------------------------------------\n",
    "\n",
    "**Scenario 1:** We have a scatter plot where the **x-axis** is a child's age (years) and the **y-axis** is the child's height (centimeters). \n"
   ]
  },
  {
   "cell_type": "markdown",
   "metadata": {},
   "source": [
    "In the cell below type in if you think **Scenario 1** is either a **positive or negative association**. Then briefly explain your reasoning behind your answer. "
   ]
  },
  {
   "cell_type": "markdown",
   "metadata": {},
   "source": [
    "############################################################################\n",
    "\n",
    "*Type your answer here!* _Remember to press 'Shift' + 'Enter' to move on once you're finished!_\n",
    "\n",
    "############################################################################\n",
    "\n",
    "------------------------------------"
   ]
  },
  {
   "cell_type": "code",
   "execution_count": 33,
   "metadata": {},
   "outputs": [
    {
     "data": {
      "image/png": "[encoded data removed]",
      "text/plain": [
       "<matplotlib.figure.Figure at 0x2d13d55b198>"
      ]
     },
     "metadata": {},
     "output_type": "display_data"
    }
   ],
   "source": [
    "# Run this code to see a graph by pressing 'Shift' + 'Enter' to see if you answered correctly. \n",
    "\n",
    "data = {\"Child's Age (years)\":[1,3,3, 7, 5, 6, 2, 2],\n",
    "        \"Child's Height (cm)\":[90, 98, 96, 122, 109, 115, 91, 90]} \n",
    "table = pd.DataFrame(data)\n",
    "plt.scatter(table[\"Child's Age (years)\"].values, table[\"Child's Height (cm)\"].values)\n",
    "plt.xlabel(\"Child's Age (years)\")\n",
    "plt.ylabel(\"Child's Height (cm)\")\n",
    "plt.show()"
   ]
  },
  {
   "cell_type": "markdown",
   "metadata": {},
   "source": [
    "Above we see that the graph indicates there is a positive association. This is to say as a child gets older, he or she tends to get taller."
   ]
  },
  {
   "cell_type": "markdown",
   "metadata": {},
   "source": [
    "-----------------------------------------------------------------------------------\n",
    "**Scenario 2:** We have a scatter plot where the **x-axis** is the number of days a student misses school and the **y-axis** is the number of hours spent on makeup work. \n"
   ]
  },
  {
   "cell_type": "markdown",
   "metadata": {},
   "source": [
    "In the cell below type in if you think **Scenario 2** is either a **positive or negative association**. Then briefly explain your reasoning behind your answer.  "
   ]
  },
  {
   "cell_type": "markdown",
   "metadata": {},
   "source": [
    "############################################################################\n",
    "\n",
    "*Type your answer here!*\n",
    "\n",
    "############################################################################\n",
    "\n",
    "---------------------------"
   ]
  },
  {
   "cell_type": "code",
   "execution_count": 19,
   "metadata": {
    "scrolled": true
   },
   "outputs": [
    {
     "data": {
      "image/png": "[encoded data removed]",
      "text/plain": [
       "<matplotlib.figure.Figure at 0x2d13d55b940>"
      ]
     },
     "metadata": {},
     "output_type": "display_data"
    }
   ],
   "source": [
    "# Run this code to see a graph by pressing 'Shift' + 'Enter' to see if you answered correctly. \n",
    "\n",
    "data = {\"Missed School Days\":[0,1,1, 4, 3, 10, 2, 2, 8],\n",
    "        \"Hours Spent on Makeup Work\":[0,4,4, 22, 16, 50, 8,7, 42]} \n",
    "table = pd.DataFrame(data)\n",
    "plt.scatter(table[\"Missed School Days\"].values, table[\"Hours Spent on Makeup Work\"].values)\n",
    "plt.xlabel(\"Missed School Days\")\n",
    "plt.ylabel(\"Hours Spent on Makeup Work\")\n",
    "plt.show()"
   ]
  },
  {
   "cell_type": "markdown",
   "metadata": {},
   "source": [
    "Above we see that the graph indicates there is a positive association. The more school days a student misses, the more makeup work will pile up (meaning more hours spent on makeup work). "
   ]
  },
  {
   "cell_type": "markdown",
   "metadata": {},
   "source": [
    "---------------------------------------\n",
    "**Scenario 3:** We have a scatter plot where the **x-axis** is the ounces of insecticide used and the **y-axis** is the mosquito population (hundreds per acre). \n"
   ]
  },
  {
   "cell_type": "markdown",
   "metadata": {},
   "source": [
    "In the cell below type in if you think **Scenario 3** is either a **positive or negative association**. Then briefly explain your reasoning behind your answer.  "
   ]
  },
  {
   "cell_type": "markdown",
   "metadata": {},
   "source": [
    "############################################################################\n",
    "\n",
    "*Type your answer here!*\n",
    "\n",
    "############################################################################\n",
    "\n",
    "-----------------------------------------------------"
   ]
  },
  {
   "cell_type": "code",
   "execution_count": 22,
   "metadata": {},
   "outputs": [
    {
     "data": {
      "image/png": "[encoded data removed]",
      "text/plain": [
       "<matplotlib.figure.Figure at 0x2d13d5af668>"
      ]
     },
     "metadata": {},
     "output_type": "display_data"
    }
   ],
   "source": [
    "# Run this code to see a graph by pressing 'Shift' + 'Enter' to see if you answered correctly. \n",
    "\n",
    "\n",
    "import random\n",
    "insecticide = sorted(random.sample(range(1, 500), 10), reverse = True)\n",
    "population = sorted(random.sample(range(1,100), 10))\n",
    "\n",
    "data = {\"Ounces of Insecticide\":insecticide,\n",
    "        \"Mosquito Population\":population} \n",
    "table = pd.DataFrame(data)\n",
    "plt.scatter(table[\"Ounces of Insecticide\"].values, table[\"Mosquito Population\"].values)\n",
    "plt.xlabel(\"Ounces of Insecticide\")\n",
    "plt.ylabel(\"Mosquito Population\")\n",
    "plt.show()"
   ]
  },
  {
   "cell_type": "markdown",
   "metadata": {},
   "source": [
    "Above we see that the graph indicates there is a negative association. As more insecticide is used, the mosquitoes will likely die off, decreaing their population. "
   ]
  },
  {
   "cell_type": "markdown",
   "metadata": {},
   "source": [
    "----------------------------------------\n",
    "**Scenario 4:** We have a scatter plot where the **x-axis** is the number of hours a student spends watching TV and the **y-axis** is the number of hours a student spends playing video games. \n"
   ]
  },
  {
   "cell_type": "markdown",
   "metadata": {},
   "source": [
    "In the cell below type in if you think **Scenario 4** is either a **positive or negative association**. Then briefly explain your reasoning behind your answer.  "
   ]
  },
  {
   "cell_type": "markdown",
   "metadata": {},
   "source": [
    "############################################################################\n",
    "\n",
    "*Type your answer here!*\n",
    "\n",
    "############################################################################\n",
    "\n",
    "------------------------------------------------"
   ]
  },
  {
   "cell_type": "code",
   "execution_count": 23,
   "metadata": {},
   "outputs": [
    {
     "data": {
      "image/png": "[encoded data removed]",
      "text/plain": [
       "<matplotlib.figure.Figure at 0x2d13d6509e8>"
      ]
     },
     "metadata": {},
     "output_type": "display_data"
    }
   ],
   "source": [
    "# Run this code to see a graph by pressing 'Shift' + 'Enter' to see if you answered correctly. \n",
    "\n",
    "hours = sorted(random.sample(range(1, 168), 10))\n",
    "hoursGames = sorted(random.sample(range(1, 168), 10))\n",
    "\n",
    "data = {\"Hours Spent\":hours,\n",
    "        \"Hours Spent Games\":hoursGames} \n",
    "table = pd.DataFrame(data)\n",
    "plt.scatter(table[\"Hours Spent\"].values, table[\"Hours Spent Games\"].values)\n",
    "plt.xlabel(\"# of Hours Watching TV\")\n",
    "plt.ylabel(\"# of Hours Playing Video Games\")\n",
    "plt.title(\"Positive Association\")\n",
    "plt.show()"
   ]
  },
  {
   "cell_type": "code",
   "execution_count": 24,
   "metadata": {},
   "outputs": [
    {
     "data": {
      "image/png": "[encoded data removed]",
      "text/plain": [
       "<matplotlib.figure.Figure at 0x2d13d650be0>"
      ]
     },
     "metadata": {},
     "output_type": "display_data"
    }
   ],
   "source": [
    "# Run this code to see a graph by pressing 'Shift' + 'Enter' to see if you answered correctly. \n",
    "\n",
    "hours = sorted(random.sample(range(1, 168), 10), reverse =True)\n",
    "hoursGames = sorted(random.sample(range(1, 168), 10))\n",
    "\n",
    "data = {\"Hours Spent\":insecticide,\n",
    "        \"Hours Spent Games\":population} \n",
    "table = pd.DataFrame(data)\n",
    "plt.scatter(table[\"Hours Spent\"].values, table[\"Hours Spent Games\"].values)\n",
    "plt.xlabel(\"# of Hours Watching TV\")\n",
    "plt.ylabel(\"# of Hours Playing Video Games\")\n",
    "plt.title(\"Negative Association\")\n",
    "plt.show()"
   ]
  },
  {
   "cell_type": "markdown",
   "metadata": {},
   "source": [
    "So, as you can see, there are actually **two** answers!\n",
    "\n",
    "Explanation for positive association (first graph): Students who like watching TV also may like playing video games, so they could spend many hours doing both. \n",
    "\n",
    "Explanation for negative association (second graph): If a student is allowed to spend only a certain amount of hours looking at a screen, more time watching TV means less time for video games (and vice versa). "
   ]
  },
  {
   "cell_type": "markdown",
   "metadata": {},
   "source": [
    "--------------------------------------\n",
    "**Scenario 5:** We have a scatter plot where the **x-axis** is the number of hours spent studying the spelling of vocabulary words and the **y-axis** the number of vocabulary words spelled incorrectly. \n"
   ]
  },
  {
   "cell_type": "markdown",
   "metadata": {},
   "source": [
    "In the cell below type in if you think **Scenario 5** is either a **positive or negative association**. Then briefly explain your reasoning behind your answer.  "
   ]
  },
  {
   "cell_type": "markdown",
   "metadata": {},
   "source": [
    "############################################################################\n",
    "\n",
    "*Type your answer here!*\n",
    "\n",
    "############################################################################\n",
    "\n",
    "------------------------------------------"
   ]
  },
  {
   "cell_type": "code",
   "execution_count": 25,
   "metadata": {},
   "outputs": [
    {
     "data": {
      "image/png": "[encoded data removed]",
      "text/plain": [
       "<matplotlib.figure.Figure at 0x2d13e7b6dd8>"
      ]
     },
     "metadata": {},
     "output_type": "display_data"
    }
   ],
   "source": [
    "# Run this code to see a graph by pressing 'Shift' + 'Enter' to see if you answered correctly. \n",
    "\n",
    "hours = sorted(random.sample(range(1, 50), 10), reverse = True)\n",
    "spelled = sorted(random.sample(range(1,20), 10))\n",
    "\n",
    "data = {\"Hours Spent Studying\":hours,\n",
    "        \"Number of Words Spelled Incorrectly\":spelled} \n",
    "table = pd.DataFrame(data)\n",
    "plt.scatter(table[\"Hours Spent Studying\"].values, table[\"Number of Words Spelled Incorrectly\"].values)\n",
    "plt.xlabel(\"Hours Spent Studying\")\n",
    "plt.ylabel(\"Number of Words Spelled Incorrectly\")\n",
    "plt.show()"
   ]
  },
  {
   "cell_type": "markdown",
   "metadata": {},
   "source": [
    "Above we see that the graph indicates there is a negative association. As a student spends more time studying vocabulary words, he or she will likely spell fewer words incorrectly."
   ]
  },
  {
   "cell_type": "markdown",
   "metadata": {},
   "source": [
    "-------------------------------------------------\n",
    "**Scenario 6:** We have a scatter plot where the **x-axis** is the hours spent digging a hole and the **y-axis** is the depth of the hole (feet). "
   ]
  },
  {
   "cell_type": "markdown",
   "metadata": {},
   "source": [
    "In the cell below type in if you think **Scenario 6** is either a **positive or negative association**. Then briefly explain your reasoning behind your answer.  "
   ]
  },
  {
   "cell_type": "markdown",
   "metadata": {},
   "source": [
    "############################################################################\n",
    "\n",
    "*Type your answer here!*\n",
    "\n",
    "############################################################################\n",
    "\n",
    "---------------------------------"
   ]
  },
  {
   "cell_type": "code",
   "execution_count": 28,
   "metadata": {},
   "outputs": [
    {
     "data": {
      "image/png": "[encoded data removed]",
      "text/plain": [
       "<matplotlib.figure.Figure at 0x2d13d55bd30>"
      ]
     },
     "metadata": {},
     "output_type": "display_data"
    }
   ],
   "source": [
    "# Run this code to see a graph by pressing 'Shift' + 'Enter' to see if you answered correctly. \n",
    "\n",
    "hours = sorted(random.sample(range(1, 168), 10))\n",
    "depth = sorted(random.sample(range(1, 50), 10))\n",
    "\n",
    "data = {\"Hours Spent Digging Hole\":hours,\n",
    "        \"Depth of Hole (feet)\":depth} \n",
    "table = pd.DataFrame(data)\n",
    "plt.scatter(table[\"Depth of Hole (feet)\"].values, table[\"Hours Spent Digging Hole\"].values)\n",
    "plt.xlabel(\"Hours Spent Digging Hole\")\n",
    "plt.ylabel(\"Depth of Hole (feet)\")\n",
    "plt.show()"
   ]
  },
  {
   "cell_type": "markdown",
   "metadata": {},
   "source": [
    "Above we see that the graph indicates there is a positive association. If somone spends more hours digging a hole, then that hole will probabliy get deeper. "
   ]
  },
  {
   "cell_type": "markdown",
   "metadata": {},
   "source": [
    "--------------------------\n",
    "**Congratulations!** You just finished Part 3 of this lesson! Make sure to click 'File', then 'Save and Checkpoint' in the upper left-hand corner to save all the hard work you've done!"
   ]
  },
  {
   "cell_type": "markdown",
   "metadata": {},
   "source": [
    "### Lastly, before you exit out of this interactive lesson..."
   ]
  },
  {
   "cell_type": "markdown",
   "metadata": {},
   "source": [
    "...it's always a good idea to connect what you're learning statistically/mathematically with visuals and narratives from the actual communities who were surveyed. ***Numbers are important, but never tell the entire story.***\n",
    "\n",
    "Let's go back to what we analyzed in **Part 1** of this lesson. Chances are, if you yourself are a child of immigrant parents/grandparents or weren't born in the U.S., the \"variable,\" i.e. the level of English fluency, is relatable to your own life experiences. The Census Bureau has been asking questions about languages spoken at home since 1890, and collected language data in the 1980, 1990, and 2000 decennial censuses using a series of three questions asked of the population 5 years old and over. "
   ]
  },
  {
   "cell_type": "markdown",
   "metadata": {},
   "source": [
    "Below is a choropleth map of limited English-Speaking households as a percentage of the total county population in counties across the U.S. A *choropleth* map is essentially a map that represents a quantity or percentage of some variable through *shading* of a color (the darker the color, the 'higher' the percentage or quantity of the thing measured). "
   ]
  },
  {
   "cell_type": "markdown",
   "metadata": {},
   "source": [
    "<a href=\"https://www.census.gov/library/visualizations/2017/comm/english-speaking.html?cid=english-speaking\" target=\"_blank\"><img src=\"https://www.census.gov/content/census/en/library/visualizations/2017/comm/english-speaking/jcr:content/map.detailitem.950.high.jpg/1512595122203.jpg\" alt=\"Limited English Speaking Households as a Percentage of County Total\" width=\"648\" height=\"648\" title=\"Limited English Speaking Households as a Percentage of County Total\"/></a>"
   ]
  },
  {
   "cell_type": "markdown",
   "metadata": {},
   "source": [
    "Visuals allow us to also better understand and appreciate the sheer linguistic and cultural diversity that exists in the U.S. *The visual below is taken from this article here by share.america.gov written in 2017. Share.america.gov is managed by the U.S. Department of the State.*"
   ]
  },
  {
   "cell_type": "markdown",
   "metadata": {},
   "source": [
    "<img src=\"https://staticshare.america.gov/uploads/2017/08/Lang_maps_Reorder-01-768x1867.jpg\" alt=\"Most commonly spoken languages other than English in the U.S.\" width = \"500\" height = \"900\" title=\"Most commonly spoken languages other than English in the U.S.\"/>"
   ]
  },
  {
   "cell_type": "markdown",
   "metadata": {},
   "source": [
    "Curious about how commonly your native language(s) are spoken within your *own* community? Find out with this handy *'Language Mapper' Tool* based off of 2011 data [here](https://www.census.gov/hhes/socdemo/language/data/language_map.html). "
   ]
  },
  {
   "cell_type": "markdown",
   "metadata": {},
   "source": [
    "It's clear that a diverse plethora of languages and cultures make up the fabric of the U.S..\n",
    "\n",
    "And yet, even in 2019, **citizens are discriminated and put in danger for even conversing in their native languages.** Testimonies reported by several news outlets, from [The Guardian](https://www.theguardian.com/us-news/2018/may/22/speaking-spanish-dangerous-america-aaron-schlossberg-ice) (*warning: potentially vulgar language*) to [El Pais](https://elpais.com/elpais/2018/05/30/inenglish/1527671538_960209.html) and [Remezcla](https://remezcla.com/features/culture/why-we-wont-stop-speaking-spanish-in-public/), show the grim realities that Spanish speakers/hispanohablantes face. \n",
    "\n",
    "Spanish speakers are reprimanded by non-Spanish-speaking white co-workers/older executives for socializing in Spanish 'because “other people” might think they were talking trash about them,' told that '“the least they can do is speak English”,' subjected to the stereotypical assumption that they are unable to 'speak English well enough,' and even detained by Border Patrol in Montana and verbally attacked in public in New York."
   ]
  },
  {
   "cell_type": "markdown",
   "metadata": {},
   "source": [
    "Thus, while simply plotting the levels of English fluency amongst Spanish-speaking households across the U.S. and analyzing those graphs are important ways to learn basic statistics concepts, it is crucial to also understand that this data and these numbers are tied to real families who have to go through those experiences. **Actively thinking about *who* the data is describing is equally important as understanding what conclusions can be derived from the data or *what* the data is measuring.**\n",
    "\n",
    "For Spanish speakers and other individuals who speak a language other than English, the data used in this lesson comes from familiar, close-to-home narratives. If you identify as a member of a non-English-speaking household, **being proud and taking ownership of your language(s), culture(s), and heritage** is the ***ultimate*** form of resistance to combat this horribly racist trend. "
   ]
  },
  {
   "cell_type": "code",
   "execution_count": null,
   "metadata": {
    "collapsed": true
   },
   "outputs": [],
   "source": []
  }
 ],
 "metadata": {
  "kernelspec": {
   "display_name": "Python 3",
   "language": "python",
   "name": "python3"
  },
  "language_info": {
   "codemirror_mode": {
    "name": "ipython",
    "version": 3
   },
   "file_extension": ".py",
   "mimetype": "text/x-python",
   "name": "python",
   "nbconvert_exporter": "python",
   "pygments_lexer": "ipython3",
   "version": "3.6.8"
  }
 },
 "nbformat": 4,
 "nbformat_minor": 2
}
