{
 "cells": [
  {
   "cell_type": "code",
   "execution_count": 1,
   "metadata": {},
   "outputs": [],
   "source": [
    "from IPython.display import display, Markdown, clear_output\n",
    "import ipywidgets as widgets"
   ]
  },
  {
   "cell_type": "code",
   "execution_count": 56,
   "metadata": {},
   "outputs": [],
   "source": [
    "# Source: https://medium.com/@jdchipox/how-to-interact-with-jupyter-33a98686f24e\n",
    "text = widgets.Text(\n",
    "       value='My Text',\n",
    "       description='Title',)\n",
    "\n",
    "slider = widgets.FloatSlider(\n",
    "         value=1,\n",
    "         min=0,\n",
    "         max=10.0,\n",
    "         step=1,)\n",
    "\n",
    "menu = widgets.Dropdown(\n",
    "       options=['red', 'blue', 'green'],\n",
    "       value='red',\n",
    "       description='Color:')\n",
    "\n",
    "checkbox = widgets.Checkbox(\n",
    "           description='Check to invert',)"
   ]
  },
  {
   "cell_type": "code",
   "execution_count": 57,
   "metadata": {},
   "outputs": [
    {
     "data": {
      "application/vnd.jupyter.widget-view+json": {
       "model_id": "eeea941dc5cb4a2c93d113f71c228a35",
       "version_major": 2,
       "version_minor": 0
      },
      "text/plain": [
       "VBox(children=(Text(value='My Text', description='Title'), FloatSlider(value=1.0, max=10.0, step=1.0), Dropdow…"
      ]
     },
     "metadata": {},
     "output_type": "display_data"
    }
   ],
   "source": [
    "box = widgets.VBox([text, slider, menu, checkbox])\n",
    "box"
   ]
  },
  {
   "cell_type": "code",
   "execution_count": 55,
   "metadata": {},
   "outputs": [
    {
     "data": {
      "application/vnd.jupyter.widget-view+json": {
       "model_id": "1a3df9c2c62940f3b51754d29e4717c4",
       "version_major": 2,
       "version_minor": 0
      },
      "text/plain": [
       "VBox(children=(Button(description='Option A', style=ButtonStyle()), Button(description='Option B', style=Butto…"
      ]
     },
     "metadata": {},
     "output_type": "display_data"
    }
   ],
   "source": [
    "button_1 = widgets.Button(description='Option A')\n",
    "button_2 = widgets.Button(description='Option B')\n",
    "button_3 = widgets.Button(description='Option C')\n",
    "out = widgets.Output()\n",
    "def on_button_1_clicked(_):\n",
    "      with out:\n",
    "            clear_output()\n",
    "            print('Wrong!')\n",
    "def on_button_2_clicked(_):\n",
    "      with out:\n",
    "            clear_output()\n",
    "            print('Wrong again!')\n",
    "def on_button_3_clicked(_):\n",
    "      with out:\n",
    "            clear_output()\n",
    "            print('Correct!')\n",
    "# linking button and function together using a button's method\n",
    "button_1.on_click(on_button_1_clicked)\n",
    "button_2.on_click(on_button_2_clicked)\n",
    "button_3.on_click(on_button_3_clicked)\n",
    "# displaying button and its output together\n",
    "widgets.VBox([button_1, button_2, button_3,out])"
   ]
  }
 ],
 "metadata": {
  "kernelspec": {
   "display_name": "Python 3",
   "language": "python",
   "name": "python3"
  },
  "language_info": {
   "codemirror_mode": {
    "name": "ipython",
    "version": 3
   },
   "file_extension": ".py",
   "mimetype": "text/x-python",
   "name": "python",
   "nbconvert_exporter": "python",
   "pygments_lexer": "ipython3",
   "version": "3.7.1"
  }
 },
 "nbformat": 4,
 "nbformat_minor": 2
}
